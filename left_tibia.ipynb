{
 "cells": [
  {
   "cell_type": "code",
   "execution_count": 1,
   "id": "33e6244f",
   "metadata": {},
   "outputs": [],
   "source": [
    "import pandas as pd\n",
    "import numpy as np\n",
    "import seaborn as sns\n",
    "import scipy.stats as stats\n",
    "import matplotlib.pyplot as plt\n",
    "from scipy.signal import butter, filtfilt"
   ]
  },
  {
   "cell_type": "code",
   "execution_count": 2,
   "id": "3a9d2148",
   "metadata": {},
   "outputs": [
    {
     "data": {
      "application/vnd.microsoft.datawrangler.viewer.v0+json": {
       "columns": [
        {
         "name": "index",
         "rawType": "int64",
         "type": "integer"
        },
        {
         "name": "PacketCounter",
         "rawType": "int64",
         "type": "integer"
        },
        {
         "name": "SampleTimeFine",
         "rawType": "int64",
         "type": "integer"
        },
        {
         "name": "Euler_X",
         "rawType": "float64",
         "type": "float"
        },
        {
         "name": "Euler_Y",
         "rawType": "float64",
         "type": "float"
        },
        {
         "name": "Euler_Z",
         "rawType": "float64",
         "type": "float"
        },
        {
         "name": "Acc_X",
         "rawType": "float64",
         "type": "float"
        },
        {
         "name": "Acc_Y",
         "rawType": "float64",
         "type": "float"
        },
        {
         "name": "Acc_Z",
         "rawType": "float64",
         "type": "float"
        },
        {
         "name": "Gyr_X",
         "rawType": "float64",
         "type": "float"
        },
        {
         "name": "Gyr_Y",
         "rawType": "float64",
         "type": "float"
        },
        {
         "name": "Gyr_Z",
         "rawType": "float64",
         "type": "float"
        }
       ],
       "conversionMethod": "pd.DataFrame",
       "ref": "f396b36f-208c-43df-b367-5871c226ce59",
       "rows": [
        [
         "0",
         "0",
         "1607860018",
         "-173.5862579345703",
         "-88.62670135498047",
         "107.05641174316406",
         "0.0",
         "0.0",
         "0.0",
         "0.0",
         "0.0",
         "0.0"
        ],
        [
         "1",
         "1",
         "1607876685",
         "-173.67095947265625",
         "-88.6214370727539",
         "107.15721893310548",
         "9.77300930023193",
         "0.00979391578585",
         "-0.24901250004768",
         "1.39988148212433",
         "0.14155499637127",
         "0.22299057245255"
        ],
        [
         "2",
         "2",
         "1607893352",
         "-173.73013305664062",
         "-88.61605834960938",
         "107.2253875732422",
         "9.75809860229492",
         "0.02946579828858",
         "-0.25987064838409",
         "1.74134993553162",
         "0.13196302950382",
         "0.25320073962212"
        ],
        [
         "3",
         "3",
         "1607910019",
         "-173.9214324951172",
         "-88.61322784423828",
         "107.41178131103516",
         "9.79856109619141",
         "0.02121763862669",
         "-0.2408289462328",
         "0.3824936747551",
         "0.27343475818634",
         "0.07546140998602"
        ],
        [
         "4",
         "4",
         "1607926686",
         "-174.1199188232422",
         "-88.60816192626953",
         "107.60944366455078",
         "9.81355667114258",
         "-0.03834409639239",
         "-0.32015997171402",
         "0.77174258232117",
         "0.16693715751171",
         "0.06542123109102"
        ],
        [
         "5",
         "5",
         "1607943353",
         "-174.24002075195312",
         "-88.60506439208984",
         "107.73528289794922",
         "9.79527378082275",
         "0.01942187920213",
         "-0.25991657376289",
         "0.89234000444412",
         "0.27896711230278",
         "0.16432467103004"
        ],
        [
         "6",
         "6",
         "1607960020",
         "-174.39474487304688",
         "-88.6017074584961",
         "107.89044952392578",
         "9.7598819732666",
         "-0.00806698296219",
         "-0.32687512040138",
         "0.81210815906525",
         "0.24655425548553",
         "0.11820900440216"
        ],
        [
         "7",
         "7",
         "1607976687",
         "-174.4229736328125",
         "-88.5938949584961",
         "107.9329833984375",
         "9.7519645690918",
         "0.01617045514286",
         "-0.31037491559982",
         "1.63925766944885",
         "0.0055771660991",
         "0.30705145001411"
        ],
        [
         "8",
         "8",
         "1607993354",
         "-174.5911865234375",
         "-88.5854263305664",
         "108.1106414794922",
         "9.7731819152832",
         "0.02990728989244",
         "-0.26609501242638",
         "0.91790157556534",
         "-0.0633914321661",
         "0.12135937809944"
        ],
        [
         "9",
         "9",
         "1608010021",
         "-174.84425354003906",
         "-88.57591247558594",
         "108.35940551757812",
         "9.7894344329834",
         "0.00088332319865",
         "-0.24416197836399",
         "0.73895835876465",
         "-0.14003740251064",
         "0.00288783153519"
        ]
       ],
       "shape": {
        "columns": 11,
        "rows": 10
       }
      },
      "text/html": [
       "<div>\n",
       "<style scoped>\n",
       "    .dataframe tbody tr th:only-of-type {\n",
       "        vertical-align: middle;\n",
       "    }\n",
       "\n",
       "    .dataframe tbody tr th {\n",
       "        vertical-align: top;\n",
       "    }\n",
       "\n",
       "    .dataframe thead th {\n",
       "        text-align: right;\n",
       "    }\n",
       "</style>\n",
       "<table border=\"1\" class=\"dataframe\">\n",
       "  <thead>\n",
       "    <tr style=\"text-align: right;\">\n",
       "      <th></th>\n",
       "      <th>PacketCounter</th>\n",
       "      <th>SampleTimeFine</th>\n",
       "      <th>Euler_X</th>\n",
       "      <th>Euler_Y</th>\n",
       "      <th>Euler_Z</th>\n",
       "      <th>Acc_X</th>\n",
       "      <th>Acc_Y</th>\n",
       "      <th>Acc_Z</th>\n",
       "      <th>Gyr_X</th>\n",
       "      <th>Gyr_Y</th>\n",
       "      <th>Gyr_Z</th>\n",
       "    </tr>\n",
       "  </thead>\n",
       "  <tbody>\n",
       "    <tr>\n",
       "      <th>0</th>\n",
       "      <td>0</td>\n",
       "      <td>1607860018</td>\n",
       "      <td>-173.586258</td>\n",
       "      <td>-88.626701</td>\n",
       "      <td>107.056412</td>\n",
       "      <td>0.000000</td>\n",
       "      <td>0.000000</td>\n",
       "      <td>0.000000</td>\n",
       "      <td>0.000000</td>\n",
       "      <td>0.000000</td>\n",
       "      <td>0.000000</td>\n",
       "    </tr>\n",
       "    <tr>\n",
       "      <th>1</th>\n",
       "      <td>1</td>\n",
       "      <td>1607876685</td>\n",
       "      <td>-173.670959</td>\n",
       "      <td>-88.621437</td>\n",
       "      <td>107.157219</td>\n",
       "      <td>9.773009</td>\n",
       "      <td>0.009794</td>\n",
       "      <td>-0.249013</td>\n",
       "      <td>1.399881</td>\n",
       "      <td>0.141555</td>\n",
       "      <td>0.222991</td>\n",
       "    </tr>\n",
       "    <tr>\n",
       "      <th>2</th>\n",
       "      <td>2</td>\n",
       "      <td>1607893352</td>\n",
       "      <td>-173.730133</td>\n",
       "      <td>-88.616058</td>\n",
       "      <td>107.225388</td>\n",
       "      <td>9.758099</td>\n",
       "      <td>0.029466</td>\n",
       "      <td>-0.259871</td>\n",
       "      <td>1.741350</td>\n",
       "      <td>0.131963</td>\n",
       "      <td>0.253201</td>\n",
       "    </tr>\n",
       "    <tr>\n",
       "      <th>3</th>\n",
       "      <td>3</td>\n",
       "      <td>1607910019</td>\n",
       "      <td>-173.921432</td>\n",
       "      <td>-88.613228</td>\n",
       "      <td>107.411781</td>\n",
       "      <td>9.798561</td>\n",
       "      <td>0.021218</td>\n",
       "      <td>-0.240829</td>\n",
       "      <td>0.382494</td>\n",
       "      <td>0.273435</td>\n",
       "      <td>0.075461</td>\n",
       "    </tr>\n",
       "    <tr>\n",
       "      <th>4</th>\n",
       "      <td>4</td>\n",
       "      <td>1607926686</td>\n",
       "      <td>-174.119919</td>\n",
       "      <td>-88.608162</td>\n",
       "      <td>107.609444</td>\n",
       "      <td>9.813557</td>\n",
       "      <td>-0.038344</td>\n",
       "      <td>-0.320160</td>\n",
       "      <td>0.771743</td>\n",
       "      <td>0.166937</td>\n",
       "      <td>0.065421</td>\n",
       "    </tr>\n",
       "    <tr>\n",
       "      <th>5</th>\n",
       "      <td>5</td>\n",
       "      <td>1607943353</td>\n",
       "      <td>-174.240021</td>\n",
       "      <td>-88.605064</td>\n",
       "      <td>107.735283</td>\n",
       "      <td>9.795274</td>\n",
       "      <td>0.019422</td>\n",
       "      <td>-0.259917</td>\n",
       "      <td>0.892340</td>\n",
       "      <td>0.278967</td>\n",
       "      <td>0.164325</td>\n",
       "    </tr>\n",
       "    <tr>\n",
       "      <th>6</th>\n",
       "      <td>6</td>\n",
       "      <td>1607960020</td>\n",
       "      <td>-174.394745</td>\n",
       "      <td>-88.601707</td>\n",
       "      <td>107.890450</td>\n",
       "      <td>9.759882</td>\n",
       "      <td>-0.008067</td>\n",
       "      <td>-0.326875</td>\n",
       "      <td>0.812108</td>\n",
       "      <td>0.246554</td>\n",
       "      <td>0.118209</td>\n",
       "    </tr>\n",
       "    <tr>\n",
       "      <th>7</th>\n",
       "      <td>7</td>\n",
       "      <td>1607976687</td>\n",
       "      <td>-174.422974</td>\n",
       "      <td>-88.593895</td>\n",
       "      <td>107.932983</td>\n",
       "      <td>9.751965</td>\n",
       "      <td>0.016170</td>\n",
       "      <td>-0.310375</td>\n",
       "      <td>1.639258</td>\n",
       "      <td>0.005577</td>\n",
       "      <td>0.307051</td>\n",
       "    </tr>\n",
       "    <tr>\n",
       "      <th>8</th>\n",
       "      <td>8</td>\n",
       "      <td>1607993354</td>\n",
       "      <td>-174.591187</td>\n",
       "      <td>-88.585426</td>\n",
       "      <td>108.110641</td>\n",
       "      <td>9.773182</td>\n",
       "      <td>0.029907</td>\n",
       "      <td>-0.266095</td>\n",
       "      <td>0.917902</td>\n",
       "      <td>-0.063391</td>\n",
       "      <td>0.121359</td>\n",
       "    </tr>\n",
       "    <tr>\n",
       "      <th>9</th>\n",
       "      <td>9</td>\n",
       "      <td>1608010021</td>\n",
       "      <td>-174.844254</td>\n",
       "      <td>-88.575912</td>\n",
       "      <td>108.359406</td>\n",
       "      <td>9.789434</td>\n",
       "      <td>0.000883</td>\n",
       "      <td>-0.244162</td>\n",
       "      <td>0.738958</td>\n",
       "      <td>-0.140037</td>\n",
       "      <td>0.002888</td>\n",
       "    </tr>\n",
       "  </tbody>\n",
       "</table>\n",
       "</div>"
      ],
      "text/plain": [
       "   PacketCounter  SampleTimeFine     Euler_X    Euler_Y     Euler_Z     Acc_X  \\\n",
       "0              0      1607860018 -173.586258 -88.626701  107.056412  0.000000   \n",
       "1              1      1607876685 -173.670959 -88.621437  107.157219  9.773009   \n",
       "2              2      1607893352 -173.730133 -88.616058  107.225388  9.758099   \n",
       "3              3      1607910019 -173.921432 -88.613228  107.411781  9.798561   \n",
       "4              4      1607926686 -174.119919 -88.608162  107.609444  9.813557   \n",
       "5              5      1607943353 -174.240021 -88.605064  107.735283  9.795274   \n",
       "6              6      1607960020 -174.394745 -88.601707  107.890450  9.759882   \n",
       "7              7      1607976687 -174.422974 -88.593895  107.932983  9.751965   \n",
       "8              8      1607993354 -174.591187 -88.585426  108.110641  9.773182   \n",
       "9              9      1608010021 -174.844254 -88.575912  108.359406  9.789434   \n",
       "\n",
       "      Acc_Y     Acc_Z     Gyr_X     Gyr_Y     Gyr_Z  \n",
       "0  0.000000  0.000000  0.000000  0.000000  0.000000  \n",
       "1  0.009794 -0.249013  1.399881  0.141555  0.222991  \n",
       "2  0.029466 -0.259871  1.741350  0.131963  0.253201  \n",
       "3  0.021218 -0.240829  0.382494  0.273435  0.075461  \n",
       "4 -0.038344 -0.320160  0.771743  0.166937  0.065421  \n",
       "5  0.019422 -0.259917  0.892340  0.278967  0.164325  \n",
       "6 -0.008067 -0.326875  0.812108  0.246554  0.118209  \n",
       "7  0.016170 -0.310375  1.639258  0.005577  0.307051  \n",
       "8  0.029907 -0.266095  0.917902 -0.063391  0.121359  \n",
       "9  0.000883 -0.244162  0.738958 -0.140037  0.002888  "
      ]
     },
     "execution_count": 2,
     "metadata": {},
     "output_type": "execute_result"
    }
   ],
   "source": [
    "df = pd.read_csv('Bib_skoky\\David-50-pokus01\\Xsens_DOT_3_D422CD006379_20250409_104913.csv', skiprows=7, sep=\",\")\n",
    "df.head(10)"
   ]
  },
  {
   "cell_type": "code",
   "execution_count": 3,
   "id": "1dfd3708",
   "metadata": {},
   "outputs": [
    {
     "name": "stdout",
     "output_type": "stream",
     "text": [
      "<class 'pandas.core.frame.DataFrame'>\n",
      "RangeIndex: 672 entries, 0 to 671\n",
      "Data columns (total 11 columns):\n",
      " #   Column          Non-Null Count  Dtype  \n",
      "---  ------          --------------  -----  \n",
      " 0   PacketCounter   672 non-null    int64  \n",
      " 1   SampleTimeFine  672 non-null    int64  \n",
      " 2   Euler_X         672 non-null    float64\n",
      " 3   Euler_Y         672 non-null    float64\n",
      " 4   Euler_Z         672 non-null    float64\n",
      " 5   Acc_X           672 non-null    float64\n",
      " 6   Acc_Y           672 non-null    float64\n",
      " 7   Acc_Z           672 non-null    float64\n",
      " 8   Gyr_X           672 non-null    float64\n",
      " 9   Gyr_Y           672 non-null    float64\n",
      " 10  Gyr_Z           672 non-null    float64\n",
      "dtypes: float64(9), int64(2)\n",
      "memory usage: 57.9 KB\n"
     ]
    }
   ],
   "source": [
    "df.info()"
   ]
  },
  {
   "cell_type": "code",
   "execution_count": 4,
   "id": "54fb1400",
   "metadata": {},
   "outputs": [
    {
     "data": {
      "application/vnd.microsoft.datawrangler.viewer.v0+json": {
       "columns": [
        {
         "name": "index",
         "rawType": "object",
         "type": "string"
        },
        {
         "name": "PacketCounter",
         "rawType": "float64",
         "type": "float"
        },
        {
         "name": "SampleTimeFine",
         "rawType": "float64",
         "type": "float"
        },
        {
         "name": "Euler_X",
         "rawType": "float64",
         "type": "float"
        },
        {
         "name": "Euler_Y",
         "rawType": "float64",
         "type": "float"
        },
        {
         "name": "Euler_Z",
         "rawType": "float64",
         "type": "float"
        },
        {
         "name": "Acc_X",
         "rawType": "float64",
         "type": "float"
        },
        {
         "name": "Acc_Y",
         "rawType": "float64",
         "type": "float"
        },
        {
         "name": "Acc_Z",
         "rawType": "float64",
         "type": "float"
        },
        {
         "name": "Gyr_X",
         "rawType": "float64",
         "type": "float"
        },
        {
         "name": "Gyr_Y",
         "rawType": "float64",
         "type": "float"
        },
        {
         "name": "Gyr_Z",
         "rawType": "float64",
         "type": "float"
        }
       ],
       "conversionMethod": "pd.DataFrame",
       "ref": "0ae404e4-a224-47a0-bd89-ccb518f41f0c",
       "rows": [
        [
         "count",
         "672.0",
         "672.0",
         "672.0",
         "672.0",
         "672.0",
         "672.0",
         "672.0",
         "672.0",
         "672.0",
         "672.0",
         "672.0"
        ],
        [
         "mean",
         "335.5",
         "1613451796.5",
         "-74.47945957240604",
         "-84.88838400159564",
         "90.52324400081609",
         "9.670395585658428",
         "0.016180114104740677",
         "-0.848847724901307",
         "1.1276984874109204",
         "0.5269373405864736",
         "0.3059654989880244"
        ],
        [
         "std",
         "194.13397435791603",
         "3235630.9506233865",
         "132.3400509052211",
         "8.740592293529124",
         "40.243544963580604",
         "7.700913929845877",
         "3.781387633356626",
         "8.59606595707283",
         "72.33747639116288",
         "74.66643094316238",
         "15.78006611662393"
        ],
        [
         "min",
         "0.0",
         "1607860018.0",
         "-179.98709106445312",
         "-89.1703109741211",
         "-37.68232727050781",
         "-33.60329818725586",
         "-43.92335891723633",
         "-121.89854431152344",
         "-917.9863891601561",
         "-603.4398803710938",
         "-80.11199188232422"
        ],
        [
         "25%",
         "167.75",
         "1610655907.25",
         "-171.97114181518555",
         "-88.61867332458496",
         "65.45083236694336",
         "9.75198817253113",
         "-0.24714225530624",
         "-0.4246075153350825",
         "0.0114440736360825",
         "-1.633397579193115",
         "-0.41670590639114247"
        ],
        [
         "50%",
         "335.5",
         "1613451796.5",
         "-135.7996063232422",
         "-87.9306755065918",
         "104.31022644042969",
         "9.779850959777836",
         "-0.00328925484791",
         "-0.29343110322952004",
         "1.11285901069641",
         "0.25449420511723",
         "0.27427360415459"
        ],
        [
         "75%",
         "503.25",
         "1616247685.75",
         "-46.889474868774414",
         "-87.13399696350098",
         "114.1107940673828",
         "9.794639587402342",
         "0.03756746649742",
         "-0.2116287052631375",
         "1.6254811882972675",
         "1.236641883850095",
         "0.46196987479925"
        ],
        [
         "max",
         "671.0",
         "1619043575.0",
         "179.99777221679688",
         "-36.4542236328125",
         "149.7490692138672",
         "91.32596588134766",
         "52.16751861572266",
         "90.0008316040039",
         "405.98040771484375",
         "593.437255859375",
         "125.08914947509766"
        ]
       ],
       "shape": {
        "columns": 11,
        "rows": 8
       }
      },
      "text/html": [
       "<div>\n",
       "<style scoped>\n",
       "    .dataframe tbody tr th:only-of-type {\n",
       "        vertical-align: middle;\n",
       "    }\n",
       "\n",
       "    .dataframe tbody tr th {\n",
       "        vertical-align: top;\n",
       "    }\n",
       "\n",
       "    .dataframe thead th {\n",
       "        text-align: right;\n",
       "    }\n",
       "</style>\n",
       "<table border=\"1\" class=\"dataframe\">\n",
       "  <thead>\n",
       "    <tr style=\"text-align: right;\">\n",
       "      <th></th>\n",
       "      <th>PacketCounter</th>\n",
       "      <th>SampleTimeFine</th>\n",
       "      <th>Euler_X</th>\n",
       "      <th>Euler_Y</th>\n",
       "      <th>Euler_Z</th>\n",
       "      <th>Acc_X</th>\n",
       "      <th>Acc_Y</th>\n",
       "      <th>Acc_Z</th>\n",
       "      <th>Gyr_X</th>\n",
       "      <th>Gyr_Y</th>\n",
       "      <th>Gyr_Z</th>\n",
       "    </tr>\n",
       "  </thead>\n",
       "  <tbody>\n",
       "    <tr>\n",
       "      <th>count</th>\n",
       "      <td>672.000000</td>\n",
       "      <td>6.720000e+02</td>\n",
       "      <td>672.000000</td>\n",
       "      <td>672.000000</td>\n",
       "      <td>672.000000</td>\n",
       "      <td>672.000000</td>\n",
       "      <td>672.000000</td>\n",
       "      <td>672.000000</td>\n",
       "      <td>672.000000</td>\n",
       "      <td>672.000000</td>\n",
       "      <td>672.000000</td>\n",
       "    </tr>\n",
       "    <tr>\n",
       "      <th>mean</th>\n",
       "      <td>335.500000</td>\n",
       "      <td>1.613452e+09</td>\n",
       "      <td>-74.479460</td>\n",
       "      <td>-84.888384</td>\n",
       "      <td>90.523244</td>\n",
       "      <td>9.670396</td>\n",
       "      <td>0.016180</td>\n",
       "      <td>-0.848848</td>\n",
       "      <td>1.127698</td>\n",
       "      <td>0.526937</td>\n",
       "      <td>0.305965</td>\n",
       "    </tr>\n",
       "    <tr>\n",
       "      <th>std</th>\n",
       "      <td>194.133974</td>\n",
       "      <td>3.235631e+06</td>\n",
       "      <td>132.340051</td>\n",
       "      <td>8.740592</td>\n",
       "      <td>40.243545</td>\n",
       "      <td>7.700914</td>\n",
       "      <td>3.781388</td>\n",
       "      <td>8.596066</td>\n",
       "      <td>72.337476</td>\n",
       "      <td>74.666431</td>\n",
       "      <td>15.780066</td>\n",
       "    </tr>\n",
       "    <tr>\n",
       "      <th>min</th>\n",
       "      <td>0.000000</td>\n",
       "      <td>1.607860e+09</td>\n",
       "      <td>-179.987091</td>\n",
       "      <td>-89.170311</td>\n",
       "      <td>-37.682327</td>\n",
       "      <td>-33.603298</td>\n",
       "      <td>-43.923359</td>\n",
       "      <td>-121.898544</td>\n",
       "      <td>-917.986389</td>\n",
       "      <td>-603.439880</td>\n",
       "      <td>-80.111992</td>\n",
       "    </tr>\n",
       "    <tr>\n",
       "      <th>25%</th>\n",
       "      <td>167.750000</td>\n",
       "      <td>1.610656e+09</td>\n",
       "      <td>-171.971142</td>\n",
       "      <td>-88.618673</td>\n",
       "      <td>65.450832</td>\n",
       "      <td>9.751988</td>\n",
       "      <td>-0.247142</td>\n",
       "      <td>-0.424608</td>\n",
       "      <td>0.011444</td>\n",
       "      <td>-1.633398</td>\n",
       "      <td>-0.416706</td>\n",
       "    </tr>\n",
       "    <tr>\n",
       "      <th>50%</th>\n",
       "      <td>335.500000</td>\n",
       "      <td>1.613452e+09</td>\n",
       "      <td>-135.799606</td>\n",
       "      <td>-87.930676</td>\n",
       "      <td>104.310226</td>\n",
       "      <td>9.779851</td>\n",
       "      <td>-0.003289</td>\n",
       "      <td>-0.293431</td>\n",
       "      <td>1.112859</td>\n",
       "      <td>0.254494</td>\n",
       "      <td>0.274274</td>\n",
       "    </tr>\n",
       "    <tr>\n",
       "      <th>75%</th>\n",
       "      <td>503.250000</td>\n",
       "      <td>1.616248e+09</td>\n",
       "      <td>-46.889475</td>\n",
       "      <td>-87.133997</td>\n",
       "      <td>114.110794</td>\n",
       "      <td>9.794640</td>\n",
       "      <td>0.037567</td>\n",
       "      <td>-0.211629</td>\n",
       "      <td>1.625481</td>\n",
       "      <td>1.236642</td>\n",
       "      <td>0.461970</td>\n",
       "    </tr>\n",
       "    <tr>\n",
       "      <th>max</th>\n",
       "      <td>671.000000</td>\n",
       "      <td>1.619044e+09</td>\n",
       "      <td>179.997772</td>\n",
       "      <td>-36.454224</td>\n",
       "      <td>149.749069</td>\n",
       "      <td>91.325966</td>\n",
       "      <td>52.167519</td>\n",
       "      <td>90.000832</td>\n",
       "      <td>405.980408</td>\n",
       "      <td>593.437256</td>\n",
       "      <td>125.089149</td>\n",
       "    </tr>\n",
       "  </tbody>\n",
       "</table>\n",
       "</div>"
      ],
      "text/plain": [
       "       PacketCounter  SampleTimeFine     Euler_X     Euler_Y     Euler_Z  \\\n",
       "count     672.000000    6.720000e+02  672.000000  672.000000  672.000000   \n",
       "mean      335.500000    1.613452e+09  -74.479460  -84.888384   90.523244   \n",
       "std       194.133974    3.235631e+06  132.340051    8.740592   40.243545   \n",
       "min         0.000000    1.607860e+09 -179.987091  -89.170311  -37.682327   \n",
       "25%       167.750000    1.610656e+09 -171.971142  -88.618673   65.450832   \n",
       "50%       335.500000    1.613452e+09 -135.799606  -87.930676  104.310226   \n",
       "75%       503.250000    1.616248e+09  -46.889475  -87.133997  114.110794   \n",
       "max       671.000000    1.619044e+09  179.997772  -36.454224  149.749069   \n",
       "\n",
       "            Acc_X       Acc_Y       Acc_Z       Gyr_X       Gyr_Y       Gyr_Z  \n",
       "count  672.000000  672.000000  672.000000  672.000000  672.000000  672.000000  \n",
       "mean     9.670396    0.016180   -0.848848    1.127698    0.526937    0.305965  \n",
       "std      7.700914    3.781388    8.596066   72.337476   74.666431   15.780066  \n",
       "min    -33.603298  -43.923359 -121.898544 -917.986389 -603.439880  -80.111992  \n",
       "25%      9.751988   -0.247142   -0.424608    0.011444   -1.633398   -0.416706  \n",
       "50%      9.779851   -0.003289   -0.293431    1.112859    0.254494    0.274274  \n",
       "75%      9.794640    0.037567   -0.211629    1.625481    1.236642    0.461970  \n",
       "max     91.325966   52.167519   90.000832  405.980408  593.437256  125.089149  "
      ]
     },
     "execution_count": 4,
     "metadata": {},
     "output_type": "execute_result"
    }
   ],
   "source": [
    "df.describe()"
   ]
  },
  {
   "cell_type": "code",
   "execution_count": 5,
   "id": "101a7378",
   "metadata": {},
   "outputs": [],
   "source": [
    "# I zero the clock at the first row, this makes all subsequent rows relative to test start\n",
    "df['real_ticks'] = df['SampleTimeFine'] - df['SampleTimeFine'].iloc[0] \n",
    "\n",
    "# Converting the ticks to seconds and milliseconds\n",
    "df['time_s'] = df['real_ticks'] * 1e-6\n",
    "\n",
    "# Convert seconds to milliseconds\n",
    "df['time_ms'] = df['time_s'] * 1000\n",
    "#  show the actual intervals between samples\n",
    "df['delta_ms'] = df['time_ms'].diff()"
   ]
  },
  {
   "cell_type": "code",
   "execution_count": 7,
   "id": "13a58bba",
   "metadata": {},
   "outputs": [
    {
     "data": {
      "application/vnd.microsoft.datawrangler.viewer.v0+json": {
       "columns": [
        {
         "name": "index",
         "rawType": "object",
         "type": "string"
        },
        {
         "name": "time_ms",
         "rawType": "float64",
         "type": "float"
        },
        {
         "name": "time_s",
         "rawType": "float64",
         "type": "float"
        },
        {
         "name": "delta_ms",
         "rawType": "float64",
         "type": "float"
        }
       ],
       "conversionMethod": "pd.DataFrame",
       "ref": "cceb87b7-838c-4f69-858d-08aff7aebfea",
       "rows": [
        [
         "count",
         "672.0",
         "672.0",
         "671.0"
        ],
        [
         "mean",
         "5591.778499999999",
         "5.591778499999999",
         "16.666999999999998"
        ],
        [
         "std",
         "3235.6309506233865",
         "3.2356309506233862",
         "5.193369931040343e-13"
        ],
        [
         "min",
         "0.0",
         "0.0",
         "16.66699999999946"
        ],
        [
         "25%",
         "2795.8892499999997",
         "2.7958892499999997",
         "16.66699999999946"
        ],
        [
         "50%",
         "5591.778499999999",
         "5.591778499999999",
         "16.666999999999916"
        ],
        [
         "75%",
         "8387.667749999999",
         "8.387667749999999",
         "16.66700000000037"
        ],
        [
         "max",
         "11183.556999999999",
         "11.183556999999999",
         "16.66700000000128"
        ]
       ],
       "shape": {
        "columns": 3,
        "rows": 8
       }
      },
      "text/html": [
       "<div>\n",
       "<style scoped>\n",
       "    .dataframe tbody tr th:only-of-type {\n",
       "        vertical-align: middle;\n",
       "    }\n",
       "\n",
       "    .dataframe tbody tr th {\n",
       "        vertical-align: top;\n",
       "    }\n",
       "\n",
       "    .dataframe thead th {\n",
       "        text-align: right;\n",
       "    }\n",
       "</style>\n",
       "<table border=\"1\" class=\"dataframe\">\n",
       "  <thead>\n",
       "    <tr style=\"text-align: right;\">\n",
       "      <th></th>\n",
       "      <th>time_ms</th>\n",
       "      <th>time_s</th>\n",
       "      <th>delta_ms</th>\n",
       "    </tr>\n",
       "  </thead>\n",
       "  <tbody>\n",
       "    <tr>\n",
       "      <th>count</th>\n",
       "      <td>672.000000</td>\n",
       "      <td>672.000000</td>\n",
       "      <td>6.710000e+02</td>\n",
       "    </tr>\n",
       "    <tr>\n",
       "      <th>mean</th>\n",
       "      <td>5591.778500</td>\n",
       "      <td>5.591778</td>\n",
       "      <td>1.666700e+01</td>\n",
       "    </tr>\n",
       "    <tr>\n",
       "      <th>std</th>\n",
       "      <td>3235.630951</td>\n",
       "      <td>3.235631</td>\n",
       "      <td>5.193370e-13</td>\n",
       "    </tr>\n",
       "    <tr>\n",
       "      <th>min</th>\n",
       "      <td>0.000000</td>\n",
       "      <td>0.000000</td>\n",
       "      <td>1.666700e+01</td>\n",
       "    </tr>\n",
       "    <tr>\n",
       "      <th>25%</th>\n",
       "      <td>2795.889250</td>\n",
       "      <td>2.795889</td>\n",
       "      <td>1.666700e+01</td>\n",
       "    </tr>\n",
       "    <tr>\n",
       "      <th>50%</th>\n",
       "      <td>5591.778500</td>\n",
       "      <td>5.591778</td>\n",
       "      <td>1.666700e+01</td>\n",
       "    </tr>\n",
       "    <tr>\n",
       "      <th>75%</th>\n",
       "      <td>8387.667750</td>\n",
       "      <td>8.387668</td>\n",
       "      <td>1.666700e+01</td>\n",
       "    </tr>\n",
       "    <tr>\n",
       "      <th>max</th>\n",
       "      <td>11183.557000</td>\n",
       "      <td>11.183557</td>\n",
       "      <td>1.666700e+01</td>\n",
       "    </tr>\n",
       "  </tbody>\n",
       "</table>\n",
       "</div>"
      ],
      "text/plain": [
       "            time_ms      time_s      delta_ms\n",
       "count    672.000000  672.000000  6.710000e+02\n",
       "mean    5591.778500    5.591778  1.666700e+01\n",
       "std     3235.630951    3.235631  5.193370e-13\n",
       "min        0.000000    0.000000  1.666700e+01\n",
       "25%     2795.889250    2.795889  1.666700e+01\n",
       "50%     5591.778500    5.591778  1.666700e+01\n",
       "75%     8387.667750    8.387668  1.666700e+01\n",
       "max    11183.557000   11.183557  1.666700e+01"
      ]
     },
     "execution_count": 7,
     "metadata": {},
     "output_type": "execute_result"
    }
   ],
   "source": [
    "df[['time_ms', 'time_s', 'delta_ms']].describe()"
   ]
  },
  {
   "cell_type": "code",
   "execution_count": 17,
   "id": "32f1ec0e",
   "metadata": {},
   "outputs": [
    {
     "name": "stdout",
     "output_type": "stream",
     "text": [
      "Z axis acceleration statistics of left foot IMU vs Time in Seconds, Milliseconds and Delta in milliseconds:\n",
      "\n"
     ]
    },
    {
     "data": {
      "application/vnd.microsoft.datawrangler.viewer.v0+json": {
       "columns": [
        {
         "name": "index",
         "rawType": "object",
         "type": "string"
        },
        {
         "name": "time_ms",
         "rawType": "float64",
         "type": "float"
        },
        {
         "name": "time_s",
         "rawType": "float64",
         "type": "float"
        },
        {
         "name": "delta_ms",
         "rawType": "float64",
         "type": "float"
        },
        {
         "name": "Acc_Z",
         "rawType": "float64",
         "type": "float"
        }
       ],
       "conversionMethod": "pd.DataFrame",
       "ref": "44295d69-6181-438c-ab48-44d8b22fdf0f",
       "rows": [
        [
         "count",
         "672.0",
         "672.0",
         "671.0",
         "672.0"
        ],
        [
         "mean",
         "5591.778499999999",
         "5.591778499999999",
         "16.666999999999998",
         "-0.848847724901307"
        ],
        [
         "std",
         "3235.6309506233865",
         "3.2356309506233862",
         "5.193369931040343e-13",
         "8.59606595707283"
        ],
        [
         "min",
         "0.0",
         "0.0",
         "16.66699999999946",
         "-121.89854431152344"
        ],
        [
         "25%",
         "2795.8892499999997",
         "2.7958892499999997",
         "16.66699999999946",
         "-0.4246075153350825"
        ],
        [
         "50%",
         "5591.778499999999",
         "5.591778499999999",
         "16.666999999999916",
         "-0.29343110322952004"
        ],
        [
         "75%",
         "8387.667749999999",
         "8.387667749999999",
         "16.66700000000037",
         "-0.2116287052631375"
        ],
        [
         "max",
         "11183.556999999999",
         "11.183556999999999",
         "16.66700000000128",
         "90.0008316040039"
        ]
       ],
       "shape": {
        "columns": 4,
        "rows": 8
       }
      },
      "text/html": [
       "<div>\n",
       "<style scoped>\n",
       "    .dataframe tbody tr th:only-of-type {\n",
       "        vertical-align: middle;\n",
       "    }\n",
       "\n",
       "    .dataframe tbody tr th {\n",
       "        vertical-align: top;\n",
       "    }\n",
       "\n",
       "    .dataframe thead th {\n",
       "        text-align: right;\n",
       "    }\n",
       "</style>\n",
       "<table border=\"1\" class=\"dataframe\">\n",
       "  <thead>\n",
       "    <tr style=\"text-align: right;\">\n",
       "      <th></th>\n",
       "      <th>time_ms</th>\n",
       "      <th>time_s</th>\n",
       "      <th>delta_ms</th>\n",
       "      <th>Acc_Z</th>\n",
       "    </tr>\n",
       "  </thead>\n",
       "  <tbody>\n",
       "    <tr>\n",
       "      <th>count</th>\n",
       "      <td>672.000000</td>\n",
       "      <td>672.000000</td>\n",
       "      <td>6.710000e+02</td>\n",
       "      <td>672.000000</td>\n",
       "    </tr>\n",
       "    <tr>\n",
       "      <th>mean</th>\n",
       "      <td>5591.778500</td>\n",
       "      <td>5.591778</td>\n",
       "      <td>1.666700e+01</td>\n",
       "      <td>-0.848848</td>\n",
       "    </tr>\n",
       "    <tr>\n",
       "      <th>std</th>\n",
       "      <td>3235.630951</td>\n",
       "      <td>3.235631</td>\n",
       "      <td>5.193370e-13</td>\n",
       "      <td>8.596066</td>\n",
       "    </tr>\n",
       "    <tr>\n",
       "      <th>min</th>\n",
       "      <td>0.000000</td>\n",
       "      <td>0.000000</td>\n",
       "      <td>1.666700e+01</td>\n",
       "      <td>-121.898544</td>\n",
       "    </tr>\n",
       "    <tr>\n",
       "      <th>25%</th>\n",
       "      <td>2795.889250</td>\n",
       "      <td>2.795889</td>\n",
       "      <td>1.666700e+01</td>\n",
       "      <td>-0.424608</td>\n",
       "    </tr>\n",
       "    <tr>\n",
       "      <th>50%</th>\n",
       "      <td>5591.778500</td>\n",
       "      <td>5.591778</td>\n",
       "      <td>1.666700e+01</td>\n",
       "      <td>-0.293431</td>\n",
       "    </tr>\n",
       "    <tr>\n",
       "      <th>75%</th>\n",
       "      <td>8387.667750</td>\n",
       "      <td>8.387668</td>\n",
       "      <td>1.666700e+01</td>\n",
       "      <td>-0.211629</td>\n",
       "    </tr>\n",
       "    <tr>\n",
       "      <th>max</th>\n",
       "      <td>11183.557000</td>\n",
       "      <td>11.183557</td>\n",
       "      <td>1.666700e+01</td>\n",
       "      <td>90.000832</td>\n",
       "    </tr>\n",
       "  </tbody>\n",
       "</table>\n",
       "</div>"
      ],
      "text/plain": [
       "            time_ms      time_s      delta_ms       Acc_Z\n",
       "count    672.000000  672.000000  6.710000e+02  672.000000\n",
       "mean    5591.778500    5.591778  1.666700e+01   -0.848848\n",
       "std     3235.630951    3.235631  5.193370e-13    8.596066\n",
       "min        0.000000    0.000000  1.666700e+01 -121.898544\n",
       "25%     2795.889250    2.795889  1.666700e+01   -0.424608\n",
       "50%     5591.778500    5.591778  1.666700e+01   -0.293431\n",
       "75%     8387.667750    8.387668  1.666700e+01   -0.211629\n",
       "max    11183.557000   11.183557  1.666700e+01   90.000832"
      ]
     },
     "execution_count": 17,
     "metadata": {},
     "output_type": "execute_result"
    }
   ],
   "source": [
    "print('Z axis acceleration statistics of left foot IMU vs Time in Seconds, Milliseconds and Delta in milliseconds:\\n')\n",
    "df[['time_ms', 'time_s', 'delta_ms', 'Acc_Z']].describe()"
   ]
  },
  {
   "cell_type": "code",
   "execution_count": 6,
   "id": "229a1d36",
   "metadata": {},
   "outputs": [
    {
     "data": {
      "text/plain": [
       "count    672.000000\n",
       "mean      11.456074\n",
       "std       10.508849\n",
       "min        0.000000\n",
       "25%        9.771140\n",
       "50%        9.788025\n",
       "75%        9.808715\n",
       "max      127.857470\n",
       "dtype: float64"
      ]
     },
     "execution_count": 6,
     "metadata": {},
     "output_type": "execute_result"
    }
   ],
   "source": [
    "acc_magnitude = np.sqrt(df[\"Acc_X\"]**2 + df[\"Acc_Y\"]**2 + df[\"Acc_Z\"]**2)\n",
    "\n",
    "acc_magnitude.describe()"
   ]
  },
  {
   "cell_type": "code",
   "execution_count": null,
   "id": "738f48f3",
   "metadata": {},
   "outputs": [],
   "source": []
  }
 ],
 "metadata": {
  "kernelspec": {
   "display_name": ".venv",
   "language": "python",
   "name": "python3"
  },
  "language_info": {
   "codemirror_mode": {
    "name": "ipython",
    "version": 3
   },
   "file_extension": ".py",
   "mimetype": "text/x-python",
   "name": "python",
   "nbconvert_exporter": "python",
   "pygments_lexer": "ipython3",
   "version": "3.10.11"
  }
 },
 "nbformat": 4,
 "nbformat_minor": 5
}
