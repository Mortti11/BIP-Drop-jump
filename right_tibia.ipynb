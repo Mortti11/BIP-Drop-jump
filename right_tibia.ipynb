{
 "cells": [
  {
   "cell_type": "code",
   "execution_count": 12,
   "id": "6ff3dfcb",
   "metadata": {},
   "outputs": [],
   "source": [
    "import pandas as pd\n",
    "import numpy as np\n",
    "import seaborn as sns\n",
    "import scipy.stats as stats\n",
    "import matplotlib.pyplot as plt\n",
    "from scipy.signal import butter, filtfilt"
   ]
  },
  {
   "cell_type": "code",
   "execution_count": 3,
   "id": "d15fcb8c",
   "metadata": {},
   "outputs": [
    {
     "data": {
      "application/vnd.microsoft.datawrangler.viewer.v0+json": {
       "columns": [
        {
         "name": "index",
         "rawType": "int64",
         "type": "integer"
        },
        {
         "name": "PacketCounter",
         "rawType": "int64",
         "type": "integer"
        },
        {
         "name": "SampleTimeFine",
         "rawType": "int64",
         "type": "integer"
        },
        {
         "name": "Euler_X",
         "rawType": "float64",
         "type": "float"
        },
        {
         "name": "Euler_Y",
         "rawType": "float64",
         "type": "float"
        },
        {
         "name": "Euler_Z",
         "rawType": "float64",
         "type": "float"
        },
        {
         "name": "Acc_X",
         "rawType": "float64",
         "type": "float"
        },
        {
         "name": "Acc_Y",
         "rawType": "float64",
         "type": "float"
        },
        {
         "name": "Acc_Z",
         "rawType": "float64",
         "type": "float"
        },
        {
         "name": "Gyr_X",
         "rawType": "float64",
         "type": "float"
        },
        {
         "name": "Gyr_Y",
         "rawType": "float64",
         "type": "float"
        },
        {
         "name": "Gyr_Z",
         "rawType": "float64",
         "type": "float"
        }
       ],
       "conversionMethod": "pd.DataFrame",
       "ref": "8b95714a-2c99-426b-bc5b-53b2b2eb43c9",
       "rows": [
        [
         "0",
         "0",
         "1607860018",
         "-34.95073699951172",
         "-86.53898620605469",
         "66.92284393310547",
         "0.0",
         "0.0",
         "0.0",
         "0.0",
         "0.0",
         "0.0"
        ],
        [
         "1",
         "1",
         "1607876685",
         "-34.95709991455078",
         "-86.54299926757812",
         "66.93344116210938",
         "9.74260330200195",
         "-0.3796483874321",
         "0.48855316638947",
         "0.15416924655437",
         "-0.1189581900835",
         "-1.37045896053314"
        ],
        [
         "2",
         "2",
         "1607893352",
         "-34.94863891601562",
         "-86.54407501220703",
         "66.92259216308594",
         "9.76574325561523",
         "-0.4088069498539",
         "0.51351261138916",
         "0.62381654977798",
         "0.03419935330749",
         "-1.2914947271347"
        ],
        [
         "3",
         "3",
         "1607910019",
         "-34.95122146606445",
         "-86.54215240478516",
         "66.93653869628906",
         "9.75792026519775",
         "-0.40696352720261",
         "0.53770661354065",
         "0.62659555673599",
         "0.15021207928658",
         "-1.16443014144897"
        ],
        [
         "4",
         "4",
         "1607926686",
         "-34.93185424804688",
         "-86.53881072998047",
         "66.92466735839844",
         "9.78346824645996",
         "-0.40321636199951",
         "0.4783578813076",
         "0.52272313833237",
         "0.27046370506287",
         "-1.18677723407745"
        ],
        [
         "5",
         "5",
         "1607943353",
         "-34.89524459838867",
         "-86.53592681884766",
         "66.88114166259766",
         "9.76277542114258",
         "-0.39311948418617",
         "0.49822619557381",
         "-0.59598195552826",
         "0.33701831102371",
         "-1.30113804340363"
        ],
        [
         "6",
         "6",
         "1607960020",
         "-34.84722518920898",
         "-86.53479766845703",
         "66.82670593261719",
         "9.72385311126709",
         "-0.43327385187149",
         "0.50886052846909",
         "-0.34982463717461",
         "0.25424447655678",
         "-1.38958501815796"
        ],
        [
         "7",
         "7",
         "1607976687",
         "-34.83343124389648",
         "-86.5389175415039",
         "66.80322265625",
         "9.73955821990967",
         "-0.41442033648491",
         "0.53320318460464",
         "-0.53376221656799",
         "-0.0572251714766",
         "-1.4676011800766"
        ],
        [
         "8",
         "8",
         "1607993354",
         "-34.84566879272461",
         "-86.54776000976562",
         "66.82996368408203",
         "9.71406745910645",
         "-0.40965014696121",
         "0.56706619262695",
         "0.76737570762634",
         "-0.39005580544472",
         "-1.48868691921234"
        ],
        [
         "9",
         "9",
         "1608010021",
         "-34.90338897705078",
         "-86.55633544921875",
         "66.90415954589844",
         "9.74542903900146",
         "-0.35649210214615",
         "0.54049378633499",
         "0.85794216394424",
         "-0.47660109400749",
         "-1.34078633785248"
        ]
       ],
       "shape": {
        "columns": 11,
        "rows": 10
       }
      },
      "text/html": [
       "<div>\n",
       "<style scoped>\n",
       "    .dataframe tbody tr th:only-of-type {\n",
       "        vertical-align: middle;\n",
       "    }\n",
       "\n",
       "    .dataframe tbody tr th {\n",
       "        vertical-align: top;\n",
       "    }\n",
       "\n",
       "    .dataframe thead th {\n",
       "        text-align: right;\n",
       "    }\n",
       "</style>\n",
       "<table border=\"1\" class=\"dataframe\">\n",
       "  <thead>\n",
       "    <tr style=\"text-align: right;\">\n",
       "      <th></th>\n",
       "      <th>PacketCounter</th>\n",
       "      <th>SampleTimeFine</th>\n",
       "      <th>Euler_X</th>\n",
       "      <th>Euler_Y</th>\n",
       "      <th>Euler_Z</th>\n",
       "      <th>Acc_X</th>\n",
       "      <th>Acc_Y</th>\n",
       "      <th>Acc_Z</th>\n",
       "      <th>Gyr_X</th>\n",
       "      <th>Gyr_Y</th>\n",
       "      <th>Gyr_Z</th>\n",
       "    </tr>\n",
       "  </thead>\n",
       "  <tbody>\n",
       "    <tr>\n",
       "      <th>0</th>\n",
       "      <td>0</td>\n",
       "      <td>1607860018</td>\n",
       "      <td>-34.950737</td>\n",
       "      <td>-86.538986</td>\n",
       "      <td>66.922844</td>\n",
       "      <td>0.000000</td>\n",
       "      <td>0.000000</td>\n",
       "      <td>0.000000</td>\n",
       "      <td>0.000000</td>\n",
       "      <td>0.000000</td>\n",
       "      <td>0.000000</td>\n",
       "    </tr>\n",
       "    <tr>\n",
       "      <th>1</th>\n",
       "      <td>1</td>\n",
       "      <td>1607876685</td>\n",
       "      <td>-34.957100</td>\n",
       "      <td>-86.542999</td>\n",
       "      <td>66.933441</td>\n",
       "      <td>9.742603</td>\n",
       "      <td>-0.379648</td>\n",
       "      <td>0.488553</td>\n",
       "      <td>0.154169</td>\n",
       "      <td>-0.118958</td>\n",
       "      <td>-1.370459</td>\n",
       "    </tr>\n",
       "    <tr>\n",
       "      <th>2</th>\n",
       "      <td>2</td>\n",
       "      <td>1607893352</td>\n",
       "      <td>-34.948639</td>\n",
       "      <td>-86.544075</td>\n",
       "      <td>66.922592</td>\n",
       "      <td>9.765743</td>\n",
       "      <td>-0.408807</td>\n",
       "      <td>0.513513</td>\n",
       "      <td>0.623817</td>\n",
       "      <td>0.034199</td>\n",
       "      <td>-1.291495</td>\n",
       "    </tr>\n",
       "    <tr>\n",
       "      <th>3</th>\n",
       "      <td>3</td>\n",
       "      <td>1607910019</td>\n",
       "      <td>-34.951221</td>\n",
       "      <td>-86.542152</td>\n",
       "      <td>66.936539</td>\n",
       "      <td>9.757920</td>\n",
       "      <td>-0.406964</td>\n",
       "      <td>0.537707</td>\n",
       "      <td>0.626596</td>\n",
       "      <td>0.150212</td>\n",
       "      <td>-1.164430</td>\n",
       "    </tr>\n",
       "    <tr>\n",
       "      <th>4</th>\n",
       "      <td>4</td>\n",
       "      <td>1607926686</td>\n",
       "      <td>-34.931854</td>\n",
       "      <td>-86.538811</td>\n",
       "      <td>66.924667</td>\n",
       "      <td>9.783468</td>\n",
       "      <td>-0.403216</td>\n",
       "      <td>0.478358</td>\n",
       "      <td>0.522723</td>\n",
       "      <td>0.270464</td>\n",
       "      <td>-1.186777</td>\n",
       "    </tr>\n",
       "    <tr>\n",
       "      <th>5</th>\n",
       "      <td>5</td>\n",
       "      <td>1607943353</td>\n",
       "      <td>-34.895245</td>\n",
       "      <td>-86.535927</td>\n",
       "      <td>66.881142</td>\n",
       "      <td>9.762775</td>\n",
       "      <td>-0.393119</td>\n",
       "      <td>0.498226</td>\n",
       "      <td>-0.595982</td>\n",
       "      <td>0.337018</td>\n",
       "      <td>-1.301138</td>\n",
       "    </tr>\n",
       "    <tr>\n",
       "      <th>6</th>\n",
       "      <td>6</td>\n",
       "      <td>1607960020</td>\n",
       "      <td>-34.847225</td>\n",
       "      <td>-86.534798</td>\n",
       "      <td>66.826706</td>\n",
       "      <td>9.723853</td>\n",
       "      <td>-0.433274</td>\n",
       "      <td>0.508861</td>\n",
       "      <td>-0.349825</td>\n",
       "      <td>0.254244</td>\n",
       "      <td>-1.389585</td>\n",
       "    </tr>\n",
       "    <tr>\n",
       "      <th>7</th>\n",
       "      <td>7</td>\n",
       "      <td>1607976687</td>\n",
       "      <td>-34.833431</td>\n",
       "      <td>-86.538918</td>\n",
       "      <td>66.803223</td>\n",
       "      <td>9.739558</td>\n",
       "      <td>-0.414420</td>\n",
       "      <td>0.533203</td>\n",
       "      <td>-0.533762</td>\n",
       "      <td>-0.057225</td>\n",
       "      <td>-1.467601</td>\n",
       "    </tr>\n",
       "    <tr>\n",
       "      <th>8</th>\n",
       "      <td>8</td>\n",
       "      <td>1607993354</td>\n",
       "      <td>-34.845669</td>\n",
       "      <td>-86.547760</td>\n",
       "      <td>66.829964</td>\n",
       "      <td>9.714067</td>\n",
       "      <td>-0.409650</td>\n",
       "      <td>0.567066</td>\n",
       "      <td>0.767376</td>\n",
       "      <td>-0.390056</td>\n",
       "      <td>-1.488687</td>\n",
       "    </tr>\n",
       "    <tr>\n",
       "      <th>9</th>\n",
       "      <td>9</td>\n",
       "      <td>1608010021</td>\n",
       "      <td>-34.903389</td>\n",
       "      <td>-86.556335</td>\n",
       "      <td>66.904160</td>\n",
       "      <td>9.745429</td>\n",
       "      <td>-0.356492</td>\n",
       "      <td>0.540494</td>\n",
       "      <td>0.857942</td>\n",
       "      <td>-0.476601</td>\n",
       "      <td>-1.340786</td>\n",
       "    </tr>\n",
       "  </tbody>\n",
       "</table>\n",
       "</div>"
      ],
      "text/plain": [
       "   PacketCounter  SampleTimeFine    Euler_X    Euler_Y    Euler_Z     Acc_X  \\\n",
       "0              0      1607860018 -34.950737 -86.538986  66.922844  0.000000   \n",
       "1              1      1607876685 -34.957100 -86.542999  66.933441  9.742603   \n",
       "2              2      1607893352 -34.948639 -86.544075  66.922592  9.765743   \n",
       "3              3      1607910019 -34.951221 -86.542152  66.936539  9.757920   \n",
       "4              4      1607926686 -34.931854 -86.538811  66.924667  9.783468   \n",
       "5              5      1607943353 -34.895245 -86.535927  66.881142  9.762775   \n",
       "6              6      1607960020 -34.847225 -86.534798  66.826706  9.723853   \n",
       "7              7      1607976687 -34.833431 -86.538918  66.803223  9.739558   \n",
       "8              8      1607993354 -34.845669 -86.547760  66.829964  9.714067   \n",
       "9              9      1608010021 -34.903389 -86.556335  66.904160  9.745429   \n",
       "\n",
       "      Acc_Y     Acc_Z     Gyr_X     Gyr_Y     Gyr_Z  \n",
       "0  0.000000  0.000000  0.000000  0.000000  0.000000  \n",
       "1 -0.379648  0.488553  0.154169 -0.118958 -1.370459  \n",
       "2 -0.408807  0.513513  0.623817  0.034199 -1.291495  \n",
       "3 -0.406964  0.537707  0.626596  0.150212 -1.164430  \n",
       "4 -0.403216  0.478358  0.522723  0.270464 -1.186777  \n",
       "5 -0.393119  0.498226 -0.595982  0.337018 -1.301138  \n",
       "6 -0.433274  0.508861 -0.349825  0.254244 -1.389585  \n",
       "7 -0.414420  0.533203 -0.533762 -0.057225 -1.467601  \n",
       "8 -0.409650  0.567066  0.767376 -0.390056 -1.488687  \n",
       "9 -0.356492  0.540494  0.857942 -0.476601 -1.340786  "
      ]
     },
     "execution_count": 3,
     "metadata": {},
     "output_type": "execute_result"
    }
   ],
   "source": [
    "df = pd.read_csv('Bib_skoky\\David-50-pokus01\\Xsens_DOT_4_D422CD006380_20250409_104913.csv', skiprows=7, sep=\",\")\n",
    "df.head(10)"
   ]
  },
  {
   "cell_type": "code",
   "execution_count": 4,
   "id": "2fdf2bf4",
   "metadata": {},
   "outputs": [
    {
     "name": "stdout",
     "output_type": "stream",
     "text": [
      "<class 'pandas.core.frame.DataFrame'>\n",
      "RangeIndex: 672 entries, 0 to 671\n",
      "Data columns (total 11 columns):\n",
      " #   Column          Non-Null Count  Dtype  \n",
      "---  ------          --------------  -----  \n",
      " 0   PacketCounter   672 non-null    int64  \n",
      " 1   SampleTimeFine  672 non-null    int64  \n",
      " 2   Euler_X         672 non-null    float64\n",
      " 3   Euler_Y         672 non-null    float64\n",
      " 4   Euler_Z         672 non-null    float64\n",
      " 5   Acc_X           672 non-null    float64\n",
      " 6   Acc_Y           672 non-null    float64\n",
      " 7   Acc_Z           672 non-null    float64\n",
      " 8   Gyr_X           672 non-null    float64\n",
      " 9   Gyr_Y           672 non-null    float64\n",
      " 10  Gyr_Z           672 non-null    float64\n",
      "dtypes: float64(9), int64(2)\n",
      "memory usage: 57.9 KB\n"
     ]
    }
   ],
   "source": [
    "df.info()"
   ]
  },
  {
   "cell_type": "code",
   "execution_count": 5,
   "id": "07b13698",
   "metadata": {},
   "outputs": [
    {
     "data": {
      "application/vnd.microsoft.datawrangler.viewer.v0+json": {
       "columns": [
        {
         "name": "index",
         "rawType": "object",
         "type": "string"
        },
        {
         "name": "PacketCounter",
         "rawType": "float64",
         "type": "float"
        },
        {
         "name": "SampleTimeFine",
         "rawType": "float64",
         "type": "float"
        },
        {
         "name": "Euler_X",
         "rawType": "float64",
         "type": "float"
        },
        {
         "name": "Euler_Y",
         "rawType": "float64",
         "type": "float"
        },
        {
         "name": "Euler_Z",
         "rawType": "float64",
         "type": "float"
        },
        {
         "name": "Acc_X",
         "rawType": "float64",
         "type": "float"
        },
        {
         "name": "Acc_Y",
         "rawType": "float64",
         "type": "float"
        },
        {
         "name": "Acc_Z",
         "rawType": "float64",
         "type": "float"
        },
        {
         "name": "Gyr_X",
         "rawType": "float64",
         "type": "float"
        },
        {
         "name": "Gyr_Y",
         "rawType": "float64",
         "type": "float"
        },
        {
         "name": "Gyr_Z",
         "rawType": "float64",
         "type": "float"
        }
       ],
       "conversionMethod": "pd.DataFrame",
       "ref": "afefb4fa-8f9b-40cc-b163-dd7d9051af38",
       "rows": [
        [
         "count",
         "672.0",
         "672.0",
         "672.0",
         "672.0",
         "672.0",
         "672.0",
         "672.0",
         "672.0",
         "672.0",
         "672.0",
         "672.0"
        ],
        [
         "mean",
         "335.5",
         "1613451796.5",
         "-4.921456153513558",
         "-84.84727798757099",
         "27.905753280169197",
         "9.550452161319775",
         "-0.08544620779256164",
         "0.21976893769931918",
         "-0.525056677912982",
         "0.1377777448344984",
         "-1.235771947859099"
        ],
        [
         "std",
         "194.13397435791603",
         "3235630.9506233865",
         "54.363654142280566",
         "4.980458676904954",
         "56.906306830591845",
         "6.681906710062291",
         "3.2723988236687953",
         "6.786552769303514",
         "52.97188589276205",
         "66.50629373552569",
         "12.6705207958775"
        ],
        [
         "min",
         "0.0",
         "1607860018.0",
         "-179.4549102783203",
         "-89.23077392578125",
         "-170.98092651367188",
         "-30.04910850524902",
         "-36.24996566772461",
         "-95.21165466308594",
         "-446.5546875",
         "-631.7611083984375",
         "-117.45103454589844"
        ],
        [
         "25%",
         "167.75",
         "1610655907.25",
         "-32.22972869873047",
         "-86.78247261047363",
         "24.049617290496826",
         "9.719179630279537",
         "-0.40947739779949",
         "0.4481864795088775",
         "-1.06953826546669",
         "-0.702205821871755",
         "-1.6825240552425424"
        ],
        [
         "50%",
         "335.5",
         "1613451796.5",
         "-10.645339012145996",
         "-86.46495819091797",
         "33.12573051452637",
         "9.748317241668705",
         "-0.337362304329875",
         "0.521021723747255",
         "0.051379073411224996",
         "0.067002814263105",
         "-1.28019320964813"
        ],
        [
         "75%",
         "503.25",
         "1616247685.75",
         "-0.11335005424917",
         "-86.09891700744629",
         "64.19780349731445",
         "9.766687870025635",
         "0.1232076622545725",
         "0.580052062869075",
         "0.5988601595163375",
         "0.77285526692867",
         "-0.9367460310459125"
        ],
        [
         "max",
         "671.0",
         "1619043575.0",
         "179.6435089111328",
         "-59.65825271606445",
         "162.6883087158203",
         "96.79747009277344",
         "40.73285675048828",
         "87.24107360839844",
         "423.890625",
         "542.8258056640625",
         "63.42529296875"
        ]
       ],
       "shape": {
        "columns": 11,
        "rows": 8
       }
      },
      "text/html": [
       "<div>\n",
       "<style scoped>\n",
       "    .dataframe tbody tr th:only-of-type {\n",
       "        vertical-align: middle;\n",
       "    }\n",
       "\n",
       "    .dataframe tbody tr th {\n",
       "        vertical-align: top;\n",
       "    }\n",
       "\n",
       "    .dataframe thead th {\n",
       "        text-align: right;\n",
       "    }\n",
       "</style>\n",
       "<table border=\"1\" class=\"dataframe\">\n",
       "  <thead>\n",
       "    <tr style=\"text-align: right;\">\n",
       "      <th></th>\n",
       "      <th>PacketCounter</th>\n",
       "      <th>SampleTimeFine</th>\n",
       "      <th>Euler_X</th>\n",
       "      <th>Euler_Y</th>\n",
       "      <th>Euler_Z</th>\n",
       "      <th>Acc_X</th>\n",
       "      <th>Acc_Y</th>\n",
       "      <th>Acc_Z</th>\n",
       "      <th>Gyr_X</th>\n",
       "      <th>Gyr_Y</th>\n",
       "      <th>Gyr_Z</th>\n",
       "    </tr>\n",
       "  </thead>\n",
       "  <tbody>\n",
       "    <tr>\n",
       "      <th>count</th>\n",
       "      <td>672.000000</td>\n",
       "      <td>6.720000e+02</td>\n",
       "      <td>672.000000</td>\n",
       "      <td>672.000000</td>\n",
       "      <td>672.000000</td>\n",
       "      <td>672.000000</td>\n",
       "      <td>672.000000</td>\n",
       "      <td>672.000000</td>\n",
       "      <td>672.000000</td>\n",
       "      <td>672.000000</td>\n",
       "      <td>672.000000</td>\n",
       "    </tr>\n",
       "    <tr>\n",
       "      <th>mean</th>\n",
       "      <td>335.500000</td>\n",
       "      <td>1.613452e+09</td>\n",
       "      <td>-4.921456</td>\n",
       "      <td>-84.847278</td>\n",
       "      <td>27.905753</td>\n",
       "      <td>9.550452</td>\n",
       "      <td>-0.085446</td>\n",
       "      <td>0.219769</td>\n",
       "      <td>-0.525057</td>\n",
       "      <td>0.137778</td>\n",
       "      <td>-1.235772</td>\n",
       "    </tr>\n",
       "    <tr>\n",
       "      <th>std</th>\n",
       "      <td>194.133974</td>\n",
       "      <td>3.235631e+06</td>\n",
       "      <td>54.363654</td>\n",
       "      <td>4.980459</td>\n",
       "      <td>56.906307</td>\n",
       "      <td>6.681907</td>\n",
       "      <td>3.272399</td>\n",
       "      <td>6.786553</td>\n",
       "      <td>52.971886</td>\n",
       "      <td>66.506294</td>\n",
       "      <td>12.670521</td>\n",
       "    </tr>\n",
       "    <tr>\n",
       "      <th>min</th>\n",
       "      <td>0.000000</td>\n",
       "      <td>1.607860e+09</td>\n",
       "      <td>-179.454910</td>\n",
       "      <td>-89.230774</td>\n",
       "      <td>-170.980927</td>\n",
       "      <td>-30.049109</td>\n",
       "      <td>-36.249966</td>\n",
       "      <td>-95.211655</td>\n",
       "      <td>-446.554688</td>\n",
       "      <td>-631.761108</td>\n",
       "      <td>-117.451035</td>\n",
       "    </tr>\n",
       "    <tr>\n",
       "      <th>25%</th>\n",
       "      <td>167.750000</td>\n",
       "      <td>1.610656e+09</td>\n",
       "      <td>-32.229729</td>\n",
       "      <td>-86.782473</td>\n",
       "      <td>24.049617</td>\n",
       "      <td>9.719180</td>\n",
       "      <td>-0.409477</td>\n",
       "      <td>0.448186</td>\n",
       "      <td>-1.069538</td>\n",
       "      <td>-0.702206</td>\n",
       "      <td>-1.682524</td>\n",
       "    </tr>\n",
       "    <tr>\n",
       "      <th>50%</th>\n",
       "      <td>335.500000</td>\n",
       "      <td>1.613452e+09</td>\n",
       "      <td>-10.645339</td>\n",
       "      <td>-86.464958</td>\n",
       "      <td>33.125731</td>\n",
       "      <td>9.748317</td>\n",
       "      <td>-0.337362</td>\n",
       "      <td>0.521022</td>\n",
       "      <td>0.051379</td>\n",
       "      <td>0.067003</td>\n",
       "      <td>-1.280193</td>\n",
       "    </tr>\n",
       "    <tr>\n",
       "      <th>75%</th>\n",
       "      <td>503.250000</td>\n",
       "      <td>1.616248e+09</td>\n",
       "      <td>-0.113350</td>\n",
       "      <td>-86.098917</td>\n",
       "      <td>64.197803</td>\n",
       "      <td>9.766688</td>\n",
       "      <td>0.123208</td>\n",
       "      <td>0.580052</td>\n",
       "      <td>0.598860</td>\n",
       "      <td>0.772855</td>\n",
       "      <td>-0.936746</td>\n",
       "    </tr>\n",
       "    <tr>\n",
       "      <th>max</th>\n",
       "      <td>671.000000</td>\n",
       "      <td>1.619044e+09</td>\n",
       "      <td>179.643509</td>\n",
       "      <td>-59.658253</td>\n",
       "      <td>162.688309</td>\n",
       "      <td>96.797470</td>\n",
       "      <td>40.732857</td>\n",
       "      <td>87.241074</td>\n",
       "      <td>423.890625</td>\n",
       "      <td>542.825806</td>\n",
       "      <td>63.425293</td>\n",
       "    </tr>\n",
       "  </tbody>\n",
       "</table>\n",
       "</div>"
      ],
      "text/plain": [
       "       PacketCounter  SampleTimeFine     Euler_X     Euler_Y     Euler_Z  \\\n",
       "count     672.000000    6.720000e+02  672.000000  672.000000  672.000000   \n",
       "mean      335.500000    1.613452e+09   -4.921456  -84.847278   27.905753   \n",
       "std       194.133974    3.235631e+06   54.363654    4.980459   56.906307   \n",
       "min         0.000000    1.607860e+09 -179.454910  -89.230774 -170.980927   \n",
       "25%       167.750000    1.610656e+09  -32.229729  -86.782473   24.049617   \n",
       "50%       335.500000    1.613452e+09  -10.645339  -86.464958   33.125731   \n",
       "75%       503.250000    1.616248e+09   -0.113350  -86.098917   64.197803   \n",
       "max       671.000000    1.619044e+09  179.643509  -59.658253  162.688309   \n",
       "\n",
       "            Acc_X       Acc_Y       Acc_Z       Gyr_X       Gyr_Y       Gyr_Z  \n",
       "count  672.000000  672.000000  672.000000  672.000000  672.000000  672.000000  \n",
       "mean     9.550452   -0.085446    0.219769   -0.525057    0.137778   -1.235772  \n",
       "std      6.681907    3.272399    6.786553   52.971886   66.506294   12.670521  \n",
       "min    -30.049109  -36.249966  -95.211655 -446.554688 -631.761108 -117.451035  \n",
       "25%      9.719180   -0.409477    0.448186   -1.069538   -0.702206   -1.682524  \n",
       "50%      9.748317   -0.337362    0.521022    0.051379    0.067003   -1.280193  \n",
       "75%      9.766688    0.123208    0.580052    0.598860    0.772855   -0.936746  \n",
       "max     96.797470   40.732857   87.241074  423.890625  542.825806   63.425293  "
      ]
     },
     "execution_count": 5,
     "metadata": {},
     "output_type": "execute_result"
    }
   ],
   "source": [
    "df.describe()"
   ]
  },
  {
   "cell_type": "code",
   "execution_count": 6,
   "id": "43765e0e",
   "metadata": {},
   "outputs": [],
   "source": [
    "# I zero the clock at the first row, this makes all subsequent rows relative to test start\n",
    "df['real_ticks'] = df['SampleTimeFine'] - df['SampleTimeFine'].iloc[0] \n",
    "\n",
    "# Converting the ticks to seconds and milliseconds\n",
    "df['time_s'] = df['real_ticks'] * 1e-6\n",
    "\n",
    "# Convert seconds to milliseconds\n",
    "df['time_ms'] = df['time_s'] * 1000\n",
    "#  show the actual intervals between samples\n",
    "df['delta_ms'] = df['time_ms'].diff()"
   ]
  },
  {
   "cell_type": "code",
   "execution_count": 8,
   "id": "d106a6f8",
   "metadata": {},
   "outputs": [
    {
     "data": {
      "application/vnd.microsoft.datawrangler.viewer.v0+json": {
       "columns": [
        {
         "name": "index",
         "rawType": "object",
         "type": "string"
        },
        {
         "name": "time_ms",
         "rawType": "float64",
         "type": "float"
        },
        {
         "name": "time_s",
         "rawType": "float64",
         "type": "float"
        },
        {
         "name": "delta_ms",
         "rawType": "float64",
         "type": "float"
        }
       ],
       "conversionMethod": "pd.DataFrame",
       "ref": "e4b6f6eb-f072-4aa6-b522-c05ab51914c4",
       "rows": [
        [
         "count",
         "672.0",
         "672.0",
         "671.0"
        ],
        [
         "mean",
         "5591.778499999999",
         "5.591778499999999",
         "16.666999999999998"
        ],
        [
         "std",
         "3235.6309506233865",
         "3.2356309506233862",
         "5.193369931040343e-13"
        ],
        [
         "min",
         "0.0",
         "0.0",
         "16.66699999999946"
        ],
        [
         "25%",
         "2795.8892499999997",
         "2.7958892499999997",
         "16.66699999999946"
        ],
        [
         "50%",
         "5591.778499999999",
         "5.591778499999999",
         "16.666999999999916"
        ],
        [
         "75%",
         "8387.667749999999",
         "8.387667749999999",
         "16.66700000000037"
        ],
        [
         "max",
         "11183.556999999999",
         "11.183556999999999",
         "16.66700000000128"
        ]
       ],
       "shape": {
        "columns": 3,
        "rows": 8
       }
      },
      "text/html": [
       "<div>\n",
       "<style scoped>\n",
       "    .dataframe tbody tr th:only-of-type {\n",
       "        vertical-align: middle;\n",
       "    }\n",
       "\n",
       "    .dataframe tbody tr th {\n",
       "        vertical-align: top;\n",
       "    }\n",
       "\n",
       "    .dataframe thead th {\n",
       "        text-align: right;\n",
       "    }\n",
       "</style>\n",
       "<table border=\"1\" class=\"dataframe\">\n",
       "  <thead>\n",
       "    <tr style=\"text-align: right;\">\n",
       "      <th></th>\n",
       "      <th>time_ms</th>\n",
       "      <th>time_s</th>\n",
       "      <th>delta_ms</th>\n",
       "    </tr>\n",
       "  </thead>\n",
       "  <tbody>\n",
       "    <tr>\n",
       "      <th>count</th>\n",
       "      <td>672.000000</td>\n",
       "      <td>672.000000</td>\n",
       "      <td>6.710000e+02</td>\n",
       "    </tr>\n",
       "    <tr>\n",
       "      <th>mean</th>\n",
       "      <td>5591.778500</td>\n",
       "      <td>5.591778</td>\n",
       "      <td>1.666700e+01</td>\n",
       "    </tr>\n",
       "    <tr>\n",
       "      <th>std</th>\n",
       "      <td>3235.630951</td>\n",
       "      <td>3.235631</td>\n",
       "      <td>5.193370e-13</td>\n",
       "    </tr>\n",
       "    <tr>\n",
       "      <th>min</th>\n",
       "      <td>0.000000</td>\n",
       "      <td>0.000000</td>\n",
       "      <td>1.666700e+01</td>\n",
       "    </tr>\n",
       "    <tr>\n",
       "      <th>25%</th>\n",
       "      <td>2795.889250</td>\n",
       "      <td>2.795889</td>\n",
       "      <td>1.666700e+01</td>\n",
       "    </tr>\n",
       "    <tr>\n",
       "      <th>50%</th>\n",
       "      <td>5591.778500</td>\n",
       "      <td>5.591778</td>\n",
       "      <td>1.666700e+01</td>\n",
       "    </tr>\n",
       "    <tr>\n",
       "      <th>75%</th>\n",
       "      <td>8387.667750</td>\n",
       "      <td>8.387668</td>\n",
       "      <td>1.666700e+01</td>\n",
       "    </tr>\n",
       "    <tr>\n",
       "      <th>max</th>\n",
       "      <td>11183.557000</td>\n",
       "      <td>11.183557</td>\n",
       "      <td>1.666700e+01</td>\n",
       "    </tr>\n",
       "  </tbody>\n",
       "</table>\n",
       "</div>"
      ],
      "text/plain": [
       "            time_ms      time_s      delta_ms\n",
       "count    672.000000  672.000000  6.710000e+02\n",
       "mean    5591.778500    5.591778  1.666700e+01\n",
       "std     3235.630951    3.235631  5.193370e-13\n",
       "min        0.000000    0.000000  1.666700e+01\n",
       "25%     2795.889250    2.795889  1.666700e+01\n",
       "50%     5591.778500    5.591778  1.666700e+01\n",
       "75%     8387.667750    8.387668  1.666700e+01\n",
       "max    11183.557000   11.183557  1.666700e+01"
      ]
     },
     "execution_count": 8,
     "metadata": {},
     "output_type": "execute_result"
    }
   ],
   "source": [
    "df[['time_ms', 'time_s', 'delta_ms']].describe()"
   ]
  },
  {
   "cell_type": "code",
   "execution_count": 10,
   "id": "5012bab3",
   "metadata": {},
   "outputs": [
    {
     "name": "stdout",
     "output_type": "stream",
     "text": [
      "Sampling frequency: 59.99880002399953 Hz\n"
     ]
    }
   ],
   "source": [
    "# Frequency Calculation:\n",
    "# Find out how fast they sampled\n",
    "mean_delta_ms = df['delta_ms'].mean()\n",
    "fs = 1000.0 / mean_delta_ms\n",
    "print(f\"Sampling frequency: {fs} Hz\")"
   ]
  },
  {
   "cell_type": "code",
   "execution_count": 29,
   "id": "ab71e5b3",
   "metadata": {},
   "outputs": [
    {
     "name": "stdout",
     "output_type": "stream",
     "text": [
      "Z axis acceleration statistics of right foot IMU vs Time in Seconds, Milliseconds and Delta in milliseconds:\n",
      "\n"
     ]
    },
    {
     "data": {
      "application/vnd.microsoft.datawrangler.viewer.v0+json": {
       "columns": [
        {
         "name": "index",
         "rawType": "object",
         "type": "string"
        },
        {
         "name": "time_ms",
         "rawType": "float64",
         "type": "float"
        },
        {
         "name": "time_s",
         "rawType": "float64",
         "type": "float"
        },
        {
         "name": "delta_ms",
         "rawType": "float64",
         "type": "float"
        },
        {
         "name": "Acc_Z",
         "rawType": "float64",
         "type": "float"
        }
       ],
       "conversionMethod": "pd.DataFrame",
       "ref": "5fb65d94-97a0-4f59-b153-ff43fe501621",
       "rows": [
        [
         "count",
         "672.0",
         "672.0",
         "671.0",
         "672.0"
        ],
        [
         "mean",
         "5591.778499999999",
         "5.591778499999999",
         "16.666999999999998",
         "0.21976893769931918"
        ],
        [
         "std",
         "3235.6309506233865",
         "3.2356309506233862",
         "5.193369931040343e-13",
         "6.786552769303514"
        ],
        [
         "min",
         "0.0",
         "0.0",
         "16.66699999999946",
         "-95.21165466308594"
        ],
        [
         "25%",
         "2795.8892499999997",
         "2.7958892499999997",
         "16.66699999999946",
         "0.4481864795088775"
        ],
        [
         "50%",
         "5591.778499999999",
         "5.591778499999999",
         "16.666999999999916",
         "0.521021723747255"
        ],
        [
         "75%",
         "8387.667749999999",
         "8.387667749999999",
         "16.66700000000037",
         "0.580052062869075"
        ],
        [
         "max",
         "11183.556999999999",
         "11.183556999999999",
         "16.66700000000128",
         "87.24107360839844"
        ]
       ],
       "shape": {
        "columns": 4,
        "rows": 8
       }
      },
      "text/html": [
       "<div>\n",
       "<style scoped>\n",
       "    .dataframe tbody tr th:only-of-type {\n",
       "        vertical-align: middle;\n",
       "    }\n",
       "\n",
       "    .dataframe tbody tr th {\n",
       "        vertical-align: top;\n",
       "    }\n",
       "\n",
       "    .dataframe thead th {\n",
       "        text-align: right;\n",
       "    }\n",
       "</style>\n",
       "<table border=\"1\" class=\"dataframe\">\n",
       "  <thead>\n",
       "    <tr style=\"text-align: right;\">\n",
       "      <th></th>\n",
       "      <th>time_ms</th>\n",
       "      <th>time_s</th>\n",
       "      <th>delta_ms</th>\n",
       "      <th>Acc_Z</th>\n",
       "    </tr>\n",
       "  </thead>\n",
       "  <tbody>\n",
       "    <tr>\n",
       "      <th>count</th>\n",
       "      <td>672.000000</td>\n",
       "      <td>672.000000</td>\n",
       "      <td>6.710000e+02</td>\n",
       "      <td>672.000000</td>\n",
       "    </tr>\n",
       "    <tr>\n",
       "      <th>mean</th>\n",
       "      <td>5591.778500</td>\n",
       "      <td>5.591778</td>\n",
       "      <td>1.666700e+01</td>\n",
       "      <td>0.219769</td>\n",
       "    </tr>\n",
       "    <tr>\n",
       "      <th>std</th>\n",
       "      <td>3235.630951</td>\n",
       "      <td>3.235631</td>\n",
       "      <td>5.193370e-13</td>\n",
       "      <td>6.786553</td>\n",
       "    </tr>\n",
       "    <tr>\n",
       "      <th>min</th>\n",
       "      <td>0.000000</td>\n",
       "      <td>0.000000</td>\n",
       "      <td>1.666700e+01</td>\n",
       "      <td>-95.211655</td>\n",
       "    </tr>\n",
       "    <tr>\n",
       "      <th>25%</th>\n",
       "      <td>2795.889250</td>\n",
       "      <td>2.795889</td>\n",
       "      <td>1.666700e+01</td>\n",
       "      <td>0.448186</td>\n",
       "    </tr>\n",
       "    <tr>\n",
       "      <th>50%</th>\n",
       "      <td>5591.778500</td>\n",
       "      <td>5.591778</td>\n",
       "      <td>1.666700e+01</td>\n",
       "      <td>0.521022</td>\n",
       "    </tr>\n",
       "    <tr>\n",
       "      <th>75%</th>\n",
       "      <td>8387.667750</td>\n",
       "      <td>8.387668</td>\n",
       "      <td>1.666700e+01</td>\n",
       "      <td>0.580052</td>\n",
       "    </tr>\n",
       "    <tr>\n",
       "      <th>max</th>\n",
       "      <td>11183.557000</td>\n",
       "      <td>11.183557</td>\n",
       "      <td>1.666700e+01</td>\n",
       "      <td>87.241074</td>\n",
       "    </tr>\n",
       "  </tbody>\n",
       "</table>\n",
       "</div>"
      ],
      "text/plain": [
       "            time_ms      time_s      delta_ms       Acc_Z\n",
       "count    672.000000  672.000000  6.710000e+02  672.000000\n",
       "mean    5591.778500    5.591778  1.666700e+01    0.219769\n",
       "std     3235.630951    3.235631  5.193370e-13    6.786553\n",
       "min        0.000000    0.000000  1.666700e+01  -95.211655\n",
       "25%     2795.889250    2.795889  1.666700e+01    0.448186\n",
       "50%     5591.778500    5.591778  1.666700e+01    0.521022\n",
       "75%     8387.667750    8.387668  1.666700e+01    0.580052\n",
       "max    11183.557000   11.183557  1.666700e+01   87.241074"
      ]
     },
     "execution_count": 29,
     "metadata": {},
     "output_type": "execute_result"
    }
   ],
   "source": [
    "print('Z axis acceleration statistics of right foot IMU vs Time in Seconds, Milliseconds and Delta in milliseconds:\\n')\n",
    "df[['time_ms', 'time_s', 'delta_ms', 'Acc_Z']].describe()"
   ]
  },
  {
   "cell_type": "code",
   "execution_count": 7,
   "id": "6e45636e",
   "metadata": {},
   "outputs": [
    {
     "data": {
      "text/plain": [
       "count    672.000000\n",
       "mean      10.799969\n",
       "std        8.717990\n",
       "min        0.000000\n",
       "25%        9.748042\n",
       "50%        9.771145\n",
       "75%        9.794334\n",
       "max      106.665667\n",
       "dtype: float64"
      ]
     },
     "execution_count": 7,
     "metadata": {},
     "output_type": "execute_result"
    }
   ],
   "source": [
    "acc_magnitude = np.sqrt(df[\"Acc_X\"]**2 + df[\"Acc_Y\"]**2 + df[\"Acc_Z\"]**2)\n",
    "\n",
    "acc_magnitude.describe()"
   ]
  },
  {
   "cell_type": "code",
   "execution_count": null,
   "id": "f4d56e49",
   "metadata": {},
   "outputs": [],
   "source": []
  }
 ],
 "metadata": {
  "kernelspec": {
   "display_name": "3.8.0",
   "language": "python",
   "name": "python3"
  },
  "language_info": {
   "codemirror_mode": {
    "name": "ipython",
    "version": 3
   },
   "file_extension": ".py",
   "mimetype": "text/x-python",
   "name": "python",
   "nbconvert_exporter": "python",
   "pygments_lexer": "ipython3",
   "version": "3.8.0"
  }
 },
 "nbformat": 4,
 "nbformat_minor": 5
}
