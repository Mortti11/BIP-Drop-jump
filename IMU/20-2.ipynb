{
 "cells": [
  {
   "cell_type": "code",
   "execution_count": 1,
   "id": "0e1d7323",
   "metadata": {},
   "outputs": [],
   "source": [
    "import pandas as pd\n",
    "import numpy as np\n",
    "import seaborn as sns\n",
    "import scipy.stats as stats\n",
    "import matplotlib.pyplot as plt\n",
    "from scipy.signal import butter, filtfilt"
   ]
  },
  {
   "cell_type": "code",
   "execution_count": 2,
   "id": "f88ae293",
   "metadata": {},
   "outputs": [],
   "source": [
    "right = pd.read_csv('20cm-try2-pilot_test/3-right_leg_tibi_20250429_191121_933.csv', skiprows=10, sep=\",\")\n",
    "left = pd.read_csv('20cm-try2-pilot_test/2-left_leg_tibia_20250429_191121_931.csv', skiprows=10, sep=\",\")\n",
    "pelvis = pd.read_csv('20cm-try2-pilot_test/1-pelvis(s2)_20250429_191121_924.csv', skiprows=10, sep=\",\")"
   ]
  },
  {
   "cell_type": "code",
   "execution_count": 5,
   "id": "27d06c21",
   "metadata": {},
   "outputs": [
    {
     "data": {
      "application/vnd.microsoft.datawrangler.viewer.v0+json": {
       "columns": [
        {
         "name": "index",
         "rawType": "int64",
         "type": "integer"
        },
        {
         "name": "PacketCounter",
         "rawType": "int64",
         "type": "integer"
        },
        {
         "name": "SampleTimeFine",
         "rawType": "int64",
         "type": "integer"
        },
        {
         "name": "dq_W",
         "rawType": "float64",
         "type": "float"
        },
        {
         "name": "dq_X",
         "rawType": "float64",
         "type": "float"
        },
        {
         "name": "dq_Y",
         "rawType": "float64",
         "type": "float"
        },
        {
         "name": "dq_Z",
         "rawType": "float64",
         "type": "float"
        },
        {
         "name": "dv[1]",
         "rawType": "float64",
         "type": "float"
        },
        {
         "name": "dv[2]",
         "rawType": "float64",
         "type": "float"
        },
        {
         "name": "dv[3]",
         "rawType": "float64",
         "type": "float"
        },
        {
         "name": "Status",
         "rawType": "int64",
         "type": "integer"
        }
       ],
       "conversionMethod": "pd.DataFrame",
       "ref": "61e4f98f-fd2a-4df9-bec1-f915d3f51f4b",
       "rows": [
        [
         "0",
         "1",
         "1609085621",
         "0.0",
         "0.0",
         "0.0",
         "0.0",
         "0.0",
         "0.0",
         "0.0",
         "0"
        ],
        [
         "1",
         "2",
         "1609102288",
         "1.0",
         "0.0002",
         "-0.000116",
         "0.000336",
         "0.161353",
         "-0.017578",
         "-0.012474",
         "0"
        ],
        [
         "2",
         "3",
         "1609118955",
         "1.0",
         "0.000188",
         "-0.000173",
         "0.000275",
         "0.162614",
         "-0.014434",
         "-0.011841",
         "0"
        ],
        [
         "3",
         "4",
         "1609135622",
         "1.0",
         "-0.000142",
         "-0.000163",
         "0.000275",
         "0.162148",
         "-0.015884",
         "-0.011889",
         "0"
        ],
        [
         "4",
         "5",
         "1609152289",
         "1.0",
         "3e-05",
         "-0.000241",
         "0.000236",
         "0.162651",
         "-0.016612",
         "-0.01184",
         "0"
        ]
       ],
       "shape": {
        "columns": 10,
        "rows": 5
       }
      },
      "text/html": [
       "<div>\n",
       "<style scoped>\n",
       "    .dataframe tbody tr th:only-of-type {\n",
       "        vertical-align: middle;\n",
       "    }\n",
       "\n",
       "    .dataframe tbody tr th {\n",
       "        vertical-align: top;\n",
       "    }\n",
       "\n",
       "    .dataframe thead th {\n",
       "        text-align: right;\n",
       "    }\n",
       "</style>\n",
       "<table border=\"1\" class=\"dataframe\">\n",
       "  <thead>\n",
       "    <tr style=\"text-align: right;\">\n",
       "      <th></th>\n",
       "      <th>PacketCounter</th>\n",
       "      <th>SampleTimeFine</th>\n",
       "      <th>dq_W</th>\n",
       "      <th>dq_X</th>\n",
       "      <th>dq_Y</th>\n",
       "      <th>dq_Z</th>\n",
       "      <th>dv[1]</th>\n",
       "      <th>dv[2]</th>\n",
       "      <th>dv[3]</th>\n",
       "      <th>Status</th>\n",
       "    </tr>\n",
       "  </thead>\n",
       "  <tbody>\n",
       "    <tr>\n",
       "      <th>0</th>\n",
       "      <td>1</td>\n",
       "      <td>1609085621</td>\n",
       "      <td>0.0</td>\n",
       "      <td>0.000000</td>\n",
       "      <td>0.000000</td>\n",
       "      <td>0.000000</td>\n",
       "      <td>0.000000</td>\n",
       "      <td>0.000000</td>\n",
       "      <td>0.000000</td>\n",
       "      <td>0</td>\n",
       "    </tr>\n",
       "    <tr>\n",
       "      <th>1</th>\n",
       "      <td>2</td>\n",
       "      <td>1609102288</td>\n",
       "      <td>1.0</td>\n",
       "      <td>0.000200</td>\n",
       "      <td>-0.000116</td>\n",
       "      <td>0.000336</td>\n",
       "      <td>0.161353</td>\n",
       "      <td>-0.017578</td>\n",
       "      <td>-0.012474</td>\n",
       "      <td>0</td>\n",
       "    </tr>\n",
       "    <tr>\n",
       "      <th>2</th>\n",
       "      <td>3</td>\n",
       "      <td>1609118955</td>\n",
       "      <td>1.0</td>\n",
       "      <td>0.000188</td>\n",
       "      <td>-0.000173</td>\n",
       "      <td>0.000275</td>\n",
       "      <td>0.162614</td>\n",
       "      <td>-0.014434</td>\n",
       "      <td>-0.011841</td>\n",
       "      <td>0</td>\n",
       "    </tr>\n",
       "    <tr>\n",
       "      <th>3</th>\n",
       "      <td>4</td>\n",
       "      <td>1609135622</td>\n",
       "      <td>1.0</td>\n",
       "      <td>-0.000142</td>\n",
       "      <td>-0.000163</td>\n",
       "      <td>0.000275</td>\n",
       "      <td>0.162148</td>\n",
       "      <td>-0.015884</td>\n",
       "      <td>-0.011889</td>\n",
       "      <td>0</td>\n",
       "    </tr>\n",
       "    <tr>\n",
       "      <th>4</th>\n",
       "      <td>5</td>\n",
       "      <td>1609152289</td>\n",
       "      <td>1.0</td>\n",
       "      <td>0.000030</td>\n",
       "      <td>-0.000241</td>\n",
       "      <td>0.000236</td>\n",
       "      <td>0.162651</td>\n",
       "      <td>-0.016612</td>\n",
       "      <td>-0.011840</td>\n",
       "      <td>0</td>\n",
       "    </tr>\n",
       "  </tbody>\n",
       "</table>\n",
       "</div>"
      ],
      "text/plain": [
       "   PacketCounter  SampleTimeFine  dq_W      dq_X      dq_Y      dq_Z  \\\n",
       "0              1      1609085621   0.0  0.000000  0.000000  0.000000   \n",
       "1              2      1609102288   1.0  0.000200 -0.000116  0.000336   \n",
       "2              3      1609118955   1.0  0.000188 -0.000173  0.000275   \n",
       "3              4      1609135622   1.0 -0.000142 -0.000163  0.000275   \n",
       "4              5      1609152289   1.0  0.000030 -0.000241  0.000236   \n",
       "\n",
       "      dv[1]     dv[2]     dv[3]  Status  \n",
       "0  0.000000  0.000000  0.000000       0  \n",
       "1  0.161353 -0.017578 -0.012474       0  \n",
       "2  0.162614 -0.014434 -0.011841       0  \n",
       "3  0.162148 -0.015884 -0.011889       0  \n",
       "4  0.162651 -0.016612 -0.011840       0  "
      ]
     },
     "execution_count": 5,
     "metadata": {},
     "output_type": "execute_result"
    }
   ],
   "source": [
    "right.head()"
   ]
  },
  {
   "cell_type": "code",
   "execution_count": 12,
   "id": "3281d727",
   "metadata": {},
   "outputs": [
    {
     "data": {
      "application/vnd.microsoft.datawrangler.viewer.v0+json": {
       "columns": [
        {
         "name": "index",
         "rawType": "int64",
         "type": "integer"
        },
        {
         "name": "PacketCounter",
         "rawType": "int64",
         "type": "integer"
        },
        {
         "name": "SampleTimeFine",
         "rawType": "int64",
         "type": "integer"
        },
        {
         "name": "dq_W",
         "rawType": "float64",
         "type": "float"
        },
        {
         "name": "dq_X",
         "rawType": "float64",
         "type": "float"
        },
        {
         "name": "dq_Y",
         "rawType": "float64",
         "type": "float"
        },
        {
         "name": "dq_Z",
         "rawType": "float64",
         "type": "float"
        },
        {
         "name": "dv[1]",
         "rawType": "float64",
         "type": "float"
        },
        {
         "name": "dv[2]",
         "rawType": "float64",
         "type": "float"
        },
        {
         "name": "dv[3]",
         "rawType": "float64",
         "type": "float"
        },
        {
         "name": "Status",
         "rawType": "int64",
         "type": "integer"
        },
        {
         "name": "Time_se",
         "rawType": "float64",
         "type": "float"
        },
        {
         "name": "Tim-se",
         "rawType": "float64",
         "type": "float"
        },
        {
         "name": "Tim_dt",
         "rawType": "float64",
         "type": "float"
        }
       ],
       "conversionMethod": "pd.DataFrame",
       "ref": "0edefa3e-a196-45a4-a8aa-8a4152926fd5",
       "rows": [
        [
         "0",
         "1",
         "1609085621",
         "0.0",
         "0.0",
         "0.0",
         "0.0",
         "0.0",
         "0.0",
         "0.0",
         "0",
         "1609085619.9999788",
         "0.0",
         null
        ],
        [
         "1",
         "2",
         "1609102288",
         "1.0",
         "0.0002",
         "-0.000116",
         "0.000336",
         "0.161353",
         "-0.017578",
         "-0.012474",
         "0",
         "1609102286.9999788",
         "0.016666999999999998",
         "0.016666999999999998"
        ],
        [
         "2",
         "3",
         "1609118955",
         "1.0",
         "0.000188",
         "-0.000173",
         "0.000275",
         "0.162614",
         "-0.014434",
         "-0.011841",
         "0",
         "1609118953.9999788",
         "0.033333999999999996",
         "0.016666999999999998"
        ],
        [
         "3",
         "4",
         "1609135622",
         "1.0",
         "-0.000142",
         "-0.000163",
         "0.000275",
         "0.162148",
         "-0.015884",
         "-0.011889",
         "0",
         "1609135620.9999788",
         "0.050001",
         "0.016667"
        ],
        [
         "4",
         "5",
         "1609152289",
         "1.0",
         "3e-05",
         "-0.000241",
         "0.000236",
         "0.162651",
         "-0.016612",
         "-0.01184",
         "0",
         "1609152287.9999788",
         "0.06666799999999999",
         "0.016666999999999994"
        ]
       ],
       "shape": {
        "columns": 13,
        "rows": 5
       }
      },
      "text/html": [
       "<div>\n",
       "<style scoped>\n",
       "    .dataframe tbody tr th:only-of-type {\n",
       "        vertical-align: middle;\n",
       "    }\n",
       "\n",
       "    .dataframe tbody tr th {\n",
       "        vertical-align: top;\n",
       "    }\n",
       "\n",
       "    .dataframe thead th {\n",
       "        text-align: right;\n",
       "    }\n",
       "</style>\n",
       "<table border=\"1\" class=\"dataframe\">\n",
       "  <thead>\n",
       "    <tr style=\"text-align: right;\">\n",
       "      <th></th>\n",
       "      <th>PacketCounter</th>\n",
       "      <th>SampleTimeFine</th>\n",
       "      <th>dq_W</th>\n",
       "      <th>dq_X</th>\n",
       "      <th>dq_Y</th>\n",
       "      <th>dq_Z</th>\n",
       "      <th>dv[1]</th>\n",
       "      <th>dv[2]</th>\n",
       "      <th>dv[3]</th>\n",
       "      <th>Status</th>\n",
       "      <th>Time_se</th>\n",
       "      <th>Tim-se</th>\n",
       "      <th>Tim_dt</th>\n",
       "    </tr>\n",
       "  </thead>\n",
       "  <tbody>\n",
       "    <tr>\n",
       "      <th>0</th>\n",
       "      <td>1</td>\n",
       "      <td>1609085621</td>\n",
       "      <td>0.0</td>\n",
       "      <td>0.000000</td>\n",
       "      <td>0.000000</td>\n",
       "      <td>0.000000</td>\n",
       "      <td>0.000000</td>\n",
       "      <td>0.000000</td>\n",
       "      <td>0.000000</td>\n",
       "      <td>0</td>\n",
       "      <td>1.609086e+09</td>\n",
       "      <td>0.000000</td>\n",
       "      <td>NaN</td>\n",
       "    </tr>\n",
       "    <tr>\n",
       "      <th>1</th>\n",
       "      <td>2</td>\n",
       "      <td>1609102288</td>\n",
       "      <td>1.0</td>\n",
       "      <td>0.000200</td>\n",
       "      <td>-0.000116</td>\n",
       "      <td>0.000336</td>\n",
       "      <td>0.161353</td>\n",
       "      <td>-0.017578</td>\n",
       "      <td>-0.012474</td>\n",
       "      <td>0</td>\n",
       "      <td>1.609102e+09</td>\n",
       "      <td>0.016667</td>\n",
       "      <td>0.016667</td>\n",
       "    </tr>\n",
       "    <tr>\n",
       "      <th>2</th>\n",
       "      <td>3</td>\n",
       "      <td>1609118955</td>\n",
       "      <td>1.0</td>\n",
       "      <td>0.000188</td>\n",
       "      <td>-0.000173</td>\n",
       "      <td>0.000275</td>\n",
       "      <td>0.162614</td>\n",
       "      <td>-0.014434</td>\n",
       "      <td>-0.011841</td>\n",
       "      <td>0</td>\n",
       "      <td>1.609119e+09</td>\n",
       "      <td>0.033334</td>\n",
       "      <td>0.016667</td>\n",
       "    </tr>\n",
       "    <tr>\n",
       "      <th>3</th>\n",
       "      <td>4</td>\n",
       "      <td>1609135622</td>\n",
       "      <td>1.0</td>\n",
       "      <td>-0.000142</td>\n",
       "      <td>-0.000163</td>\n",
       "      <td>0.000275</td>\n",
       "      <td>0.162148</td>\n",
       "      <td>-0.015884</td>\n",
       "      <td>-0.011889</td>\n",
       "      <td>0</td>\n",
       "      <td>1.609136e+09</td>\n",
       "      <td>0.050001</td>\n",
       "      <td>0.016667</td>\n",
       "    </tr>\n",
       "    <tr>\n",
       "      <th>4</th>\n",
       "      <td>5</td>\n",
       "      <td>1609152289</td>\n",
       "      <td>1.0</td>\n",
       "      <td>0.000030</td>\n",
       "      <td>-0.000241</td>\n",
       "      <td>0.000236</td>\n",
       "      <td>0.162651</td>\n",
       "      <td>-0.016612</td>\n",
       "      <td>-0.011840</td>\n",
       "      <td>0</td>\n",
       "      <td>1.609152e+09</td>\n",
       "      <td>0.066668</td>\n",
       "      <td>0.016667</td>\n",
       "    </tr>\n",
       "  </tbody>\n",
       "</table>\n",
       "</div>"
      ],
      "text/plain": [
       "   PacketCounter  SampleTimeFine  dq_W      dq_X      dq_Y      dq_Z  \\\n",
       "0              1      1609085621   0.0  0.000000  0.000000  0.000000   \n",
       "1              2      1609102288   1.0  0.000200 -0.000116  0.000336   \n",
       "2              3      1609118955   1.0  0.000188 -0.000173  0.000275   \n",
       "3              4      1609135622   1.0 -0.000142 -0.000163  0.000275   \n",
       "4              5      1609152289   1.0  0.000030 -0.000241  0.000236   \n",
       "\n",
       "      dv[1]     dv[2]     dv[3]  Status       Time_se    Tim-se    Tim_dt  \n",
       "0  0.000000  0.000000  0.000000       0  1.609086e+09  0.000000       NaN  \n",
       "1  0.161353 -0.017578 -0.012474       0  1.609102e+09  0.016667  0.016667  \n",
       "2  0.162614 -0.014434 -0.011841       0  1.609119e+09  0.033334  0.016667  \n",
       "3  0.162148 -0.015884 -0.011889       0  1.609136e+09  0.050001  0.016667  \n",
       "4  0.162651 -0.016612 -0.011840       0  1.609152e+09  0.066668  0.016667  "
      ]
     },
     "execution_count": 12,
     "metadata": {},
     "output_type": "execute_result"
    }
   ],
   "source": [
    "time = right['SampleTimeFine']-right['SampleTimeFine'].iloc[0]\n",
    "right['Tim-se']= time*1e-6\n",
    "right['Tim_dt'] = right['Tim-se'].diff()\n",
    "right.head()"
   ]
  },
  {
   "cell_type": "code",
   "execution_count": 15,
   "id": "4bd83f66",
   "metadata": {},
   "outputs": [
    {
     "data": {
      "application/vnd.microsoft.datawrangler.viewer.v0+json": {
       "columns": [
        {
         "name": "index",
         "rawType": "int64",
         "type": "integer"
        },
        {
         "name": "PacketCounter",
         "rawType": "int64",
         "type": "integer"
        },
        {
         "name": "SampleTimeFine",
         "rawType": "int64",
         "type": "integer"
        },
        {
         "name": "dq_W",
         "rawType": "float64",
         "type": "float"
        },
        {
         "name": "dq_X",
         "rawType": "float64",
         "type": "float"
        },
        {
         "name": "dq_Y",
         "rawType": "float64",
         "type": "float"
        },
        {
         "name": "dq_Z",
         "rawType": "float64",
         "type": "float"
        },
        {
         "name": "dv[1]",
         "rawType": "float64",
         "type": "float"
        },
        {
         "name": "dv[2]",
         "rawType": "float64",
         "type": "float"
        },
        {
         "name": "dv[3]",
         "rawType": "float64",
         "type": "float"
        },
        {
         "name": "Status",
         "rawType": "int64",
         "type": "integer"
        },
        {
         "name": "Time_se",
         "rawType": "float64",
         "type": "float"
        },
        {
         "name": "Tim-se",
         "rawType": "float64",
         "type": "float"
        },
        {
         "name": "Tim_dt",
         "rawType": "float64",
         "type": "float"
        },
        {
         "name": "a_z",
         "rawType": "float64",
         "type": "float"
        }
       ],
       "conversionMethod": "pd.DataFrame",
       "ref": "0262d342-b6e7-42d2-b7da-65b4009c7ef6",
       "rows": [
        [
         "0",
         "1",
         "1609085621",
         "0.0",
         "0.0",
         "0.0",
         "0.0",
         "0.0",
         "0.0",
         "0.0",
         "0",
         "1609085619.9999788",
         "0.0",
         null,
         "0.0"
        ],
        [
         "1",
         "2",
         "1609102288",
         "1.0",
         "0.0002",
         "-0.000116",
         "0.000336",
         "0.161353",
         "-0.017578",
         "-0.012474",
         "0",
         "1609102286.9999788",
         "0.016666999999999998",
         "0.016666999999999998",
         "-0.74844"
        ],
        [
         "2",
         "3",
         "1609118955",
         "1.0",
         "0.000188",
         "-0.000173",
         "0.000275",
         "0.162614",
         "-0.014434",
         "-0.011841",
         "0",
         "1609118953.9999788",
         "0.033333999999999996",
         "0.016666999999999998",
         "-0.7104600000000001"
        ],
        [
         "3",
         "4",
         "1609135622",
         "1.0",
         "-0.000142",
         "-0.000163",
         "0.000275",
         "0.162148",
         "-0.015884",
         "-0.011889",
         "0",
         "1609135620.9999788",
         "0.050001",
         "0.016667",
         "-0.71334"
        ],
        [
         "4",
         "5",
         "1609152289",
         "1.0",
         "3e-05",
         "-0.000241",
         "0.000236",
         "0.162651",
         "-0.016612",
         "-0.01184",
         "0",
         "1609152287.9999788",
         "0.06666799999999999",
         "0.016666999999999994",
         "-0.7104"
        ]
       ],
       "shape": {
        "columns": 14,
        "rows": 5
       }
      },
      "text/html": [
       "<div>\n",
       "<style scoped>\n",
       "    .dataframe tbody tr th:only-of-type {\n",
       "        vertical-align: middle;\n",
       "    }\n",
       "\n",
       "    .dataframe tbody tr th {\n",
       "        vertical-align: top;\n",
       "    }\n",
       "\n",
       "    .dataframe thead th {\n",
       "        text-align: right;\n",
       "    }\n",
       "</style>\n",
       "<table border=\"1\" class=\"dataframe\">\n",
       "  <thead>\n",
       "    <tr style=\"text-align: right;\">\n",
       "      <th></th>\n",
       "      <th>PacketCounter</th>\n",
       "      <th>SampleTimeFine</th>\n",
       "      <th>dq_W</th>\n",
       "      <th>dq_X</th>\n",
       "      <th>dq_Y</th>\n",
       "      <th>dq_Z</th>\n",
       "      <th>dv[1]</th>\n",
       "      <th>dv[2]</th>\n",
       "      <th>dv[3]</th>\n",
       "      <th>Status</th>\n",
       "      <th>Time_se</th>\n",
       "      <th>Tim-se</th>\n",
       "      <th>Tim_dt</th>\n",
       "      <th>a_z</th>\n",
       "    </tr>\n",
       "  </thead>\n",
       "  <tbody>\n",
       "    <tr>\n",
       "      <th>0</th>\n",
       "      <td>1</td>\n",
       "      <td>1609085621</td>\n",
       "      <td>0.0</td>\n",
       "      <td>0.000000</td>\n",
       "      <td>0.000000</td>\n",
       "      <td>0.000000</td>\n",
       "      <td>0.000000</td>\n",
       "      <td>0.000000</td>\n",
       "      <td>0.000000</td>\n",
       "      <td>0</td>\n",
       "      <td>1.609086e+09</td>\n",
       "      <td>0.000000</td>\n",
       "      <td>NaN</td>\n",
       "      <td>0.00000</td>\n",
       "    </tr>\n",
       "    <tr>\n",
       "      <th>1</th>\n",
       "      <td>2</td>\n",
       "      <td>1609102288</td>\n",
       "      <td>1.0</td>\n",
       "      <td>0.000200</td>\n",
       "      <td>-0.000116</td>\n",
       "      <td>0.000336</td>\n",
       "      <td>0.161353</td>\n",
       "      <td>-0.017578</td>\n",
       "      <td>-0.012474</td>\n",
       "      <td>0</td>\n",
       "      <td>1.609102e+09</td>\n",
       "      <td>0.016667</td>\n",
       "      <td>0.016667</td>\n",
       "      <td>-0.74844</td>\n",
       "    </tr>\n",
       "    <tr>\n",
       "      <th>2</th>\n",
       "      <td>3</td>\n",
       "      <td>1609118955</td>\n",
       "      <td>1.0</td>\n",
       "      <td>0.000188</td>\n",
       "      <td>-0.000173</td>\n",
       "      <td>0.000275</td>\n",
       "      <td>0.162614</td>\n",
       "      <td>-0.014434</td>\n",
       "      <td>-0.011841</td>\n",
       "      <td>0</td>\n",
       "      <td>1.609119e+09</td>\n",
       "      <td>0.033334</td>\n",
       "      <td>0.016667</td>\n",
       "      <td>-0.71046</td>\n",
       "    </tr>\n",
       "    <tr>\n",
       "      <th>3</th>\n",
       "      <td>4</td>\n",
       "      <td>1609135622</td>\n",
       "      <td>1.0</td>\n",
       "      <td>-0.000142</td>\n",
       "      <td>-0.000163</td>\n",
       "      <td>0.000275</td>\n",
       "      <td>0.162148</td>\n",
       "      <td>-0.015884</td>\n",
       "      <td>-0.011889</td>\n",
       "      <td>0</td>\n",
       "      <td>1.609136e+09</td>\n",
       "      <td>0.050001</td>\n",
       "      <td>0.016667</td>\n",
       "      <td>-0.71334</td>\n",
       "    </tr>\n",
       "    <tr>\n",
       "      <th>4</th>\n",
       "      <td>5</td>\n",
       "      <td>1609152289</td>\n",
       "      <td>1.0</td>\n",
       "      <td>0.000030</td>\n",
       "      <td>-0.000241</td>\n",
       "      <td>0.000236</td>\n",
       "      <td>0.162651</td>\n",
       "      <td>-0.016612</td>\n",
       "      <td>-0.011840</td>\n",
       "      <td>0</td>\n",
       "      <td>1.609152e+09</td>\n",
       "      <td>0.066668</td>\n",
       "      <td>0.016667</td>\n",
       "      <td>-0.71040</td>\n",
       "    </tr>\n",
       "  </tbody>\n",
       "</table>\n",
       "</div>"
      ],
      "text/plain": [
       "   PacketCounter  SampleTimeFine  dq_W      dq_X      dq_Y      dq_Z  \\\n",
       "0              1      1609085621   0.0  0.000000  0.000000  0.000000   \n",
       "1              2      1609102288   1.0  0.000200 -0.000116  0.000336   \n",
       "2              3      1609118955   1.0  0.000188 -0.000173  0.000275   \n",
       "3              4      1609135622   1.0 -0.000142 -0.000163  0.000275   \n",
       "4              5      1609152289   1.0  0.000030 -0.000241  0.000236   \n",
       "\n",
       "      dv[1]     dv[2]     dv[3]  Status       Time_se    Tim-se    Tim_dt  \\\n",
       "0  0.000000  0.000000  0.000000       0  1.609086e+09  0.000000       NaN   \n",
       "1  0.161353 -0.017578 -0.012474       0  1.609102e+09  0.016667  0.016667   \n",
       "2  0.162614 -0.014434 -0.011841       0  1.609119e+09  0.033334  0.016667   \n",
       "3  0.162148 -0.015884 -0.011889       0  1.609136e+09  0.050001  0.016667   \n",
       "4  0.162651 -0.016612 -0.011840       0  1.609152e+09  0.066668  0.016667   \n",
       "\n",
       "       a_z  \n",
       "0  0.00000  \n",
       "1 -0.74844  \n",
       "2 -0.71046  \n",
       "3 -0.71334  \n",
       "4 -0.71040  "
      ]
     },
     "execution_count": 15,
     "metadata": {},
     "output_type": "execute_result"
    }
   ],
   "source": [
    "right['a_z'] = right['dv[3]'] * 60.0\n",
    "right.head()"
   ]
  },
  {
   "cell_type": "code",
   "execution_count": 17,
   "id": "1d424e33",
   "metadata": {},
   "outputs": [
    {
     "data": {
      "application/vnd.microsoft.datawrangler.viewer.v0+json": {
       "columns": [
        {
         "name": "index",
         "rawType": "int64",
         "type": "integer"
        },
        {
         "name": "PacketCounter",
         "rawType": "int64",
         "type": "integer"
        },
        {
         "name": "SampleTimeFine",
         "rawType": "int64",
         "type": "integer"
        },
        {
         "name": "dq_W",
         "rawType": "float64",
         "type": "float"
        },
        {
         "name": "dq_X",
         "rawType": "float64",
         "type": "float"
        },
        {
         "name": "dq_Y",
         "rawType": "float64",
         "type": "float"
        },
        {
         "name": "dq_Z",
         "rawType": "float64",
         "type": "float"
        },
        {
         "name": "dv[1]",
         "rawType": "float64",
         "type": "float"
        },
        {
         "name": "dv[2]",
         "rawType": "float64",
         "type": "float"
        },
        {
         "name": "dv[3]",
         "rawType": "float64",
         "type": "float"
        },
        {
         "name": "Status",
         "rawType": "int64",
         "type": "integer"
        },
        {
         "name": "Time_se",
         "rawType": "float64",
         "type": "float"
        },
        {
         "name": "Tim-se",
         "rawType": "float64",
         "type": "float"
        },
        {
         "name": "Tim_dt",
         "rawType": "float64",
         "type": "float"
        },
        {
         "name": "a_z",
         "rawType": "float64",
         "type": "float"
        }
       ],
       "conversionMethod": "pd.DataFrame",
       "ref": "033074b6-2107-4650-8be6-0cab2091652a",
       "rows": [
        [
         "0",
         "1",
         "1609085621",
         "0.0",
         "0.0",
         "0.0",
         "0.0",
         "0.0",
         "0.0",
         "0.0",
         "0",
         "1609085619.9999788",
         "0.0",
         null,
         null
        ],
        [
         "1",
         "2",
         "1609102288",
         "1.0",
         "0.0002",
         "-0.000116",
         "0.000336",
         "0.161353",
         "-0.017578",
         "-0.012474",
         "0",
         "1609102286.9999788",
         "0.016666999999999998",
         "0.016666999999999998",
         "-0.7484250314993701"
        ],
        [
         "2",
         "3",
         "1609118955",
         "1.0",
         "0.000188",
         "-0.000173",
         "0.000275",
         "0.162614",
         "-0.014434",
         "-0.011841",
         "0",
         "1609118953.9999788",
         "0.033333999999999996",
         "0.016666999999999998",
         "-0.7104457910841785"
        ],
        [
         "3",
         "4",
         "1609135622",
         "1.0",
         "-0.000142",
         "-0.000163",
         "0.000275",
         "0.162148",
         "-0.015884",
         "-0.011889",
         "0",
         "1609135620.9999788",
         "0.050001",
         "0.016667",
         "-0.7133257334853302"
        ],
        [
         "4",
         "5",
         "1609152289",
         "1.0",
         "3e-05",
         "-0.000241",
         "0.000236",
         "0.162651",
         "-0.016612",
         "-0.01184",
         "0",
         "1609152287.9999788",
         "0.06666799999999999",
         "0.016666999999999994",
         "-0.7103857922841545"
        ]
       ],
       "shape": {
        "columns": 14,
        "rows": 5
       }
      },
      "text/html": [
       "<div>\n",
       "<style scoped>\n",
       "    .dataframe tbody tr th:only-of-type {\n",
       "        vertical-align: middle;\n",
       "    }\n",
       "\n",
       "    .dataframe tbody tr th {\n",
       "        vertical-align: top;\n",
       "    }\n",
       "\n",
       "    .dataframe thead th {\n",
       "        text-align: right;\n",
       "    }\n",
       "</style>\n",
       "<table border=\"1\" class=\"dataframe\">\n",
       "  <thead>\n",
       "    <tr style=\"text-align: right;\">\n",
       "      <th></th>\n",
       "      <th>PacketCounter</th>\n",
       "      <th>SampleTimeFine</th>\n",
       "      <th>dq_W</th>\n",
       "      <th>dq_X</th>\n",
       "      <th>dq_Y</th>\n",
       "      <th>dq_Z</th>\n",
       "      <th>dv[1]</th>\n",
       "      <th>dv[2]</th>\n",
       "      <th>dv[3]</th>\n",
       "      <th>Status</th>\n",
       "      <th>Time_se</th>\n",
       "      <th>Tim-se</th>\n",
       "      <th>Tim_dt</th>\n",
       "      <th>a_z</th>\n",
       "    </tr>\n",
       "  </thead>\n",
       "  <tbody>\n",
       "    <tr>\n",
       "      <th>0</th>\n",
       "      <td>1</td>\n",
       "      <td>1609085621</td>\n",
       "      <td>0.0</td>\n",
       "      <td>0.000000</td>\n",
       "      <td>0.000000</td>\n",
       "      <td>0.000000</td>\n",
       "      <td>0.000000</td>\n",
       "      <td>0.000000</td>\n",
       "      <td>0.000000</td>\n",
       "      <td>0</td>\n",
       "      <td>1.609086e+09</td>\n",
       "      <td>0.000000</td>\n",
       "      <td>NaN</td>\n",
       "      <td>NaN</td>\n",
       "    </tr>\n",
       "    <tr>\n",
       "      <th>1</th>\n",
       "      <td>2</td>\n",
       "      <td>1609102288</td>\n",
       "      <td>1.0</td>\n",
       "      <td>0.000200</td>\n",
       "      <td>-0.000116</td>\n",
       "      <td>0.000336</td>\n",
       "      <td>0.161353</td>\n",
       "      <td>-0.017578</td>\n",
       "      <td>-0.012474</td>\n",
       "      <td>0</td>\n",
       "      <td>1.609102e+09</td>\n",
       "      <td>0.016667</td>\n",
       "      <td>0.016667</td>\n",
       "      <td>-0.748425</td>\n",
       "    </tr>\n",
       "    <tr>\n",
       "      <th>2</th>\n",
       "      <td>3</td>\n",
       "      <td>1609118955</td>\n",
       "      <td>1.0</td>\n",
       "      <td>0.000188</td>\n",
       "      <td>-0.000173</td>\n",
       "      <td>0.000275</td>\n",
       "      <td>0.162614</td>\n",
       "      <td>-0.014434</td>\n",
       "      <td>-0.011841</td>\n",
       "      <td>0</td>\n",
       "      <td>1.609119e+09</td>\n",
       "      <td>0.033334</td>\n",
       "      <td>0.016667</td>\n",
       "      <td>-0.710446</td>\n",
       "    </tr>\n",
       "    <tr>\n",
       "      <th>3</th>\n",
       "      <td>4</td>\n",
       "      <td>1609135622</td>\n",
       "      <td>1.0</td>\n",
       "      <td>-0.000142</td>\n",
       "      <td>-0.000163</td>\n",
       "      <td>0.000275</td>\n",
       "      <td>0.162148</td>\n",
       "      <td>-0.015884</td>\n",
       "      <td>-0.011889</td>\n",
       "      <td>0</td>\n",
       "      <td>1.609136e+09</td>\n",
       "      <td>0.050001</td>\n",
       "      <td>0.016667</td>\n",
       "      <td>-0.713326</td>\n",
       "    </tr>\n",
       "    <tr>\n",
       "      <th>4</th>\n",
       "      <td>5</td>\n",
       "      <td>1609152289</td>\n",
       "      <td>1.0</td>\n",
       "      <td>0.000030</td>\n",
       "      <td>-0.000241</td>\n",
       "      <td>0.000236</td>\n",
       "      <td>0.162651</td>\n",
       "      <td>-0.016612</td>\n",
       "      <td>-0.011840</td>\n",
       "      <td>0</td>\n",
       "      <td>1.609152e+09</td>\n",
       "      <td>0.066668</td>\n",
       "      <td>0.016667</td>\n",
       "      <td>-0.710386</td>\n",
       "    </tr>\n",
       "  </tbody>\n",
       "</table>\n",
       "</div>"
      ],
      "text/plain": [
       "   PacketCounter  SampleTimeFine  dq_W      dq_X      dq_Y      dq_Z  \\\n",
       "0              1      1609085621   0.0  0.000000  0.000000  0.000000   \n",
       "1              2      1609102288   1.0  0.000200 -0.000116  0.000336   \n",
       "2              3      1609118955   1.0  0.000188 -0.000173  0.000275   \n",
       "3              4      1609135622   1.0 -0.000142 -0.000163  0.000275   \n",
       "4              5      1609152289   1.0  0.000030 -0.000241  0.000236   \n",
       "\n",
       "      dv[1]     dv[2]     dv[3]  Status       Time_se    Tim-se    Tim_dt  \\\n",
       "0  0.000000  0.000000  0.000000       0  1.609086e+09  0.000000       NaN   \n",
       "1  0.161353 -0.017578 -0.012474       0  1.609102e+09  0.016667  0.016667   \n",
       "2  0.162614 -0.014434 -0.011841       0  1.609119e+09  0.033334  0.016667   \n",
       "3  0.162148 -0.015884 -0.011889       0  1.609136e+09  0.050001  0.016667   \n",
       "4  0.162651 -0.016612 -0.011840       0  1.609152e+09  0.066668  0.016667   \n",
       "\n",
       "        a_z  \n",
       "0       NaN  \n",
       "1 -0.748425  \n",
       "2 -0.710446  \n",
       "3 -0.713326  \n",
       "4 -0.710386  "
      ]
     },
     "execution_count": 17,
     "metadata": {},
     "output_type": "execute_result"
    }
   ],
   "source": [
    "right['a_z'] = right['dv[3]'] / right['Tim_dt']\n",
    "right.head()\n"
   ]
  },
  {
   "cell_type": "code",
   "execution_count": 18,
   "id": "4d96f401",
   "metadata": {},
   "outputs": [
    {
     "data": {
      "text/plain": [
       "count    479.000000\n",
       "mean      -1.446206\n",
       "std        7.013757\n",
       "min      -98.813284\n",
       "25%       -1.036329\n",
       "50%       -0.788444\n",
       "75%       -0.693556\n",
       "max       63.784484\n",
       "Name: a_z, dtype: float64"
      ]
     },
     "execution_count": 18,
     "metadata": {},
     "output_type": "execute_result"
    }
   ],
   "source": [
    "right['a_z'].describe()"
   ]
  },
  {
   "cell_type": "code",
   "execution_count": null,
   "id": "1266a200",
   "metadata": {},
   "outputs": [],
   "source": []
  }
 ],
 "metadata": {
  "kernelspec": {
   "display_name": ".venv",
   "language": "python",
   "name": "python3"
  },
  "language_info": {
   "codemirror_mode": {
    "name": "ipython",
    "version": 3
   },
   "file_extension": ".py",
   "mimetype": "text/x-python",
   "name": "python",
   "nbconvert_exporter": "python",
   "pygments_lexer": "ipython3",
   "version": "3.10.11"
  }
 },
 "nbformat": 4,
 "nbformat_minor": 5
}
