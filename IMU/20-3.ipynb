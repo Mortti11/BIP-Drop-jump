{
 "cells": [
  {
   "cell_type": "code",
   "execution_count": 1,
   "id": "2e5ecb1d",
   "metadata": {},
   "outputs": [],
   "source": [
    "import pandas as pd\n",
    "import numpy as np\n",
    "import seaborn as sns\n",
    "import scipy.stats as stats\n",
    "import matplotlib.pyplot as plt\n",
    "from scipy.signal import butter, filtfilt"
   ]
  },
  {
   "cell_type": "code",
   "execution_count": 6,
   "id": "772d02a1",
   "metadata": {},
   "outputs": [],
   "source": [
    "right = pd.read_csv('20cm-try3-pilot_test/3-right_leg_tibi_20250429_191159_325.csv', skiprows=10, sep=\",\")\n",
    "left = pd.read_csv('20cm-try3-pilot_test/2-left_leg_tibia_20250429_191159_323.csv', skiprows=10, sep=\",\")\n",
    "pelvis = pd.read_csv('20cm-try3-pilot_test/1-pelvis(s2)_20250429_191159_316.csv', skiprows=10, sep=\",\")"
   ]
  },
  {
   "cell_type": "code",
   "execution_count": 7,
   "id": "17265994",
   "metadata": {},
   "outputs": [
    {
     "data": {
      "text/plain": [
       "count    514.000000\n",
       "mean      -1.520229\n",
       "std        5.353042\n",
       "min      -64.789884\n",
       "25%       -1.222986\n",
       "50%       -1.032759\n",
       "75%       -0.864673\n",
       "max       28.686926\n",
       "Name: a_z, dtype: float64"
      ]
     },
     "execution_count": 7,
     "metadata": {},
     "output_type": "execute_result"
    }
   ],
   "source": [
    "time = right['SampleTimeFine']-right['SampleTimeFine'].iloc[0]\n",
    "right['Tim-se']= time*1e-6\n",
    "right['Tim_dt'] = right['Tim-se'].diff()\n",
    "\n",
    "right['a_z'] = right['dv[3]'] * 60.0\n",
    "\n",
    "right['a_z'] = right['dv[3]'] / right['Tim_dt']\n",
    "right['a_z'].describe()"
   ]
  }
 ],
 "metadata": {
  "kernelspec": {
   "display_name": ".venv",
   "language": "python",
   "name": "python3"
  },
  "language_info": {
   "codemirror_mode": {
    "name": "ipython",
    "version": 3
   },
   "file_extension": ".py",
   "mimetype": "text/x-python",
   "name": "python",
   "nbconvert_exporter": "python",
   "pygments_lexer": "ipython3",
   "version": "3.10.11"
  }
 },
 "nbformat": 4,
 "nbformat_minor": 5
}
