{
 "cells": [
  {
   "cell_type": "code",
   "execution_count": 1,
   "id": "b7b4b13d",
   "metadata": {},
   "outputs": [],
   "source": [
    "import pandas as pd\n",
    "import numpy as np\n",
    "import seaborn as sns\n",
    "import scipy.stats as stats\n",
    "import matplotlib.pyplot as plt\n",
    "from scipy.signal import butter, filtfilt"
   ]
  },
  {
   "cell_type": "code",
   "execution_count": 2,
   "id": "c94c355e",
   "metadata": {},
   "outputs": [],
   "source": [
    "right = pd.read_csv('20cm-try1-pilot_test/3-right_leg_tibi_20250429_190737_820.csv', skiprows=10, sep=\",\")\n",
    "left = pd.read_csv('20cm-try1-pilot_test/2-left_leg_tibia_20250429_190737_819.csv', skiprows=10, sep=\",\")\n",
    "pelvis = pd.read_csv('20cm-try1-pilot_test/1-pelvis(s2)_20250429_190737_811.csv', skiprows=10, sep=\",\")"
   ]
  },
  {
   "cell_type": "code",
   "execution_count": 8,
   "id": "5cbbcd4c",
   "metadata": {},
   "outputs": [
    {
     "name": "stdout",
     "output_type": "stream",
     "text": [
      "<class 'pandas.core.frame.DataFrame'>\n",
      "RangeIndex: 464 entries, 0 to 463\n",
      "Data columns (total 10 columns):\n",
      " #   Column          Non-Null Count  Dtype  \n",
      "---  ------          --------------  -----  \n",
      " 0   PacketCounter   464 non-null    int64  \n",
      " 1   SampleTimeFine  464 non-null    int64  \n",
      " 2   dq_W            464 non-null    float64\n",
      " 3   dq_X            464 non-null    float64\n",
      " 4   dq_Y            464 non-null    float64\n",
      " 5   dq_Z            464 non-null    float64\n",
      " 6   dv[1]           464 non-null    float64\n",
      " 7   dv[2]           464 non-null    float64\n",
      " 8   dv[3]           464 non-null    float64\n",
      " 9   Status          464 non-null    int64  \n",
      "dtypes: float64(7), int64(3)\n",
      "memory usage: 36.4 KB\n"
     ]
    }
   ],
   "source": [
    "right.info()"
   ]
  },
  {
   "cell_type": "code",
   "execution_count": 6,
   "id": "f69257ef",
   "metadata": {},
   "outputs": [
    {
     "data": {
      "application/vnd.microsoft.datawrangler.viewer.v0+json": {
       "columns": [
        {
         "name": "index",
         "rawType": "int64",
         "type": "integer"
        },
        {
         "name": "PacketCounter",
         "rawType": "int64",
         "type": "integer"
        },
        {
         "name": "SampleTimeFine",
         "rawType": "int64",
         "type": "integer"
        },
        {
         "name": "dq_W",
         "rawType": "float64",
         "type": "float"
        },
        {
         "name": "dq_X",
         "rawType": "float64",
         "type": "float"
        },
        {
         "name": "dq_Y",
         "rawType": "float64",
         "type": "float"
        },
        {
         "name": "dq_Z",
         "rawType": "float64",
         "type": "float"
        },
        {
         "name": "dv[1]",
         "rawType": "float64",
         "type": "float"
        },
        {
         "name": "dv[2]",
         "rawType": "float64",
         "type": "float"
        },
        {
         "name": "dv[3]",
         "rawType": "float64",
         "type": "float"
        },
        {
         "name": "Status",
         "rawType": "int64",
         "type": "integer"
        }
       ],
       "conversionMethod": "pd.DataFrame",
       "ref": "d2abfedd-a7a2-42a5-8e9c-6c8d87178558",
       "rows": [
        [
         "0",
         "1",
         "1384981139",
         "0.0",
         "0.0",
         "0.0",
         "0.0",
         "0.0",
         "0.0",
         "0.0",
         "0"
        ],
        [
         "1",
         "2",
         "1384997806",
         "1.0",
         "0.000256",
         "-0.00026",
         "-6.5e-05",
         "0.160661",
         "-0.029274",
         "-0.008165",
         "0"
        ],
        [
         "2",
         "3",
         "1385014473",
         "1.0",
         "0.0003",
         "-0.000292",
         "-6.2e-05",
         "0.160749",
         "-0.029365",
         "-0.008515",
         "0"
        ],
        [
         "3",
         "4",
         "1385031140",
         "1.0",
         "0.000291",
         "-0.00031",
         "-6.5e-05",
         "0.161394",
         "-0.029261",
         "-0.007908",
         "0"
        ],
        [
         "4",
         "5",
         "1385047807",
         "1.0",
         "0.000356",
         "-0.000302",
         "-7.5e-05",
         "0.161656",
         "-0.02971",
         "-0.008048",
         "0"
        ]
       ],
       "shape": {
        "columns": 10,
        "rows": 5
       }
      },
      "text/html": [
       "<div>\n",
       "<style scoped>\n",
       "    .dataframe tbody tr th:only-of-type {\n",
       "        vertical-align: middle;\n",
       "    }\n",
       "\n",
       "    .dataframe tbody tr th {\n",
       "        vertical-align: top;\n",
       "    }\n",
       "\n",
       "    .dataframe thead th {\n",
       "        text-align: right;\n",
       "    }\n",
       "</style>\n",
       "<table border=\"1\" class=\"dataframe\">\n",
       "  <thead>\n",
       "    <tr style=\"text-align: right;\">\n",
       "      <th></th>\n",
       "      <th>PacketCounter</th>\n",
       "      <th>SampleTimeFine</th>\n",
       "      <th>dq_W</th>\n",
       "      <th>dq_X</th>\n",
       "      <th>dq_Y</th>\n",
       "      <th>dq_Z</th>\n",
       "      <th>dv[1]</th>\n",
       "      <th>dv[2]</th>\n",
       "      <th>dv[3]</th>\n",
       "      <th>Status</th>\n",
       "    </tr>\n",
       "  </thead>\n",
       "  <tbody>\n",
       "    <tr>\n",
       "      <th>0</th>\n",
       "      <td>1</td>\n",
       "      <td>1384981139</td>\n",
       "      <td>0.0</td>\n",
       "      <td>0.000000</td>\n",
       "      <td>0.000000</td>\n",
       "      <td>0.000000</td>\n",
       "      <td>0.000000</td>\n",
       "      <td>0.000000</td>\n",
       "      <td>0.000000</td>\n",
       "      <td>0</td>\n",
       "    </tr>\n",
       "    <tr>\n",
       "      <th>1</th>\n",
       "      <td>2</td>\n",
       "      <td>1384997806</td>\n",
       "      <td>1.0</td>\n",
       "      <td>0.000256</td>\n",
       "      <td>-0.000260</td>\n",
       "      <td>-0.000065</td>\n",
       "      <td>0.160661</td>\n",
       "      <td>-0.029274</td>\n",
       "      <td>-0.008165</td>\n",
       "      <td>0</td>\n",
       "    </tr>\n",
       "    <tr>\n",
       "      <th>2</th>\n",
       "      <td>3</td>\n",
       "      <td>1385014473</td>\n",
       "      <td>1.0</td>\n",
       "      <td>0.000300</td>\n",
       "      <td>-0.000292</td>\n",
       "      <td>-0.000062</td>\n",
       "      <td>0.160749</td>\n",
       "      <td>-0.029365</td>\n",
       "      <td>-0.008515</td>\n",
       "      <td>0</td>\n",
       "    </tr>\n",
       "    <tr>\n",
       "      <th>3</th>\n",
       "      <td>4</td>\n",
       "      <td>1385031140</td>\n",
       "      <td>1.0</td>\n",
       "      <td>0.000291</td>\n",
       "      <td>-0.000310</td>\n",
       "      <td>-0.000065</td>\n",
       "      <td>0.161394</td>\n",
       "      <td>-0.029261</td>\n",
       "      <td>-0.007908</td>\n",
       "      <td>0</td>\n",
       "    </tr>\n",
       "    <tr>\n",
       "      <th>4</th>\n",
       "      <td>5</td>\n",
       "      <td>1385047807</td>\n",
       "      <td>1.0</td>\n",
       "      <td>0.000356</td>\n",
       "      <td>-0.000302</td>\n",
       "      <td>-0.000075</td>\n",
       "      <td>0.161656</td>\n",
       "      <td>-0.029710</td>\n",
       "      <td>-0.008048</td>\n",
       "      <td>0</td>\n",
       "    </tr>\n",
       "  </tbody>\n",
       "</table>\n",
       "</div>"
      ],
      "text/plain": [
       "   PacketCounter  SampleTimeFine  dq_W      dq_X      dq_Y      dq_Z  \\\n",
       "0              1      1384981139   0.0  0.000000  0.000000  0.000000   \n",
       "1              2      1384997806   1.0  0.000256 -0.000260 -0.000065   \n",
       "2              3      1385014473   1.0  0.000300 -0.000292 -0.000062   \n",
       "3              4      1385031140   1.0  0.000291 -0.000310 -0.000065   \n",
       "4              5      1385047807   1.0  0.000356 -0.000302 -0.000075   \n",
       "\n",
       "      dv[1]     dv[2]     dv[3]  Status  \n",
       "0  0.000000  0.000000  0.000000       0  \n",
       "1  0.160661 -0.029274 -0.008165       0  \n",
       "2  0.160749 -0.029365 -0.008515       0  \n",
       "3  0.161394 -0.029261 -0.007908       0  \n",
       "4  0.161656 -0.029710 -0.008048       0  "
      ]
     },
     "execution_count": 6,
     "metadata": {},
     "output_type": "execute_result"
    }
   ],
   "source": [
    "right.head()"
   ]
  },
  {
   "cell_type": "code",
   "execution_count": 12,
   "id": "e176733d",
   "metadata": {},
   "outputs": [
    {
     "data": {
      "text/plain": [
       "count    464.000000\n",
       "mean      -0.023362\n",
       "std        0.084664\n",
       "min       -1.030902\n",
       "25%       -0.023054\n",
       "50%       -0.018739\n",
       "75%       -0.003429\n",
       "max        0.575202\n",
       "Name: dv[3], dtype: float64"
      ]
     },
     "execution_count": 12,
     "metadata": {},
     "output_type": "execute_result"
    }
   ],
   "source": [
    "right['dv[3]'].describe()"
   ]
  },
  {
   "cell_type": "code",
   "execution_count": 4,
   "id": "834b905b",
   "metadata": {},
   "outputs": [
    {
     "data": {
      "application/vnd.microsoft.datawrangler.viewer.v0+json": {
       "columns": [
        {
         "name": "index",
         "rawType": "object",
         "type": "string"
        },
        {
         "name": "PacketCounter",
         "rawType": "float64",
         "type": "float"
        },
        {
         "name": "SampleTimeFine",
         "rawType": "float64",
         "type": "float"
        },
        {
         "name": "dq_W",
         "rawType": "float64",
         "type": "float"
        },
        {
         "name": "dq_X",
         "rawType": "float64",
         "type": "float"
        },
        {
         "name": "dq_Y",
         "rawType": "float64",
         "type": "float"
        },
        {
         "name": "dq_Z",
         "rawType": "float64",
         "type": "float"
        },
        {
         "name": "dv[1]",
         "rawType": "float64",
         "type": "float"
        },
        {
         "name": "dv[2]",
         "rawType": "float64",
         "type": "float"
        },
        {
         "name": "dv[3]",
         "rawType": "float64",
         "type": "float"
        },
        {
         "name": "Status",
         "rawType": "float64",
         "type": "float"
        }
       ],
       "conversionMethod": "pd.DataFrame",
       "ref": "1819fe92-edb7-4ad5-b2b1-4e0ddd9b5569",
       "rows": [
        [
         "count",
         "463.0",
         "463.0",
         "463.0",
         "463.0",
         "463.0",
         "463.0",
         "463.0",
         "463.0",
         "463.0",
         "463.0"
        ],
        [
         "mean",
         "232.0",
         "1388831216.0",
         "0.9977330064794816",
         "0.00050270626349892",
         "-0.00034566738660907133",
         "0.00018630885529157668",
         "0.15774004751619872",
         "0.0010855961123110139",
         "-0.025781427645788335",
         "4.4233261339092875"
        ],
        [
         "std",
         "133.8008470326951",
         "2230058.717493929",
         "0.04647159216023144",
         "0.010751777572358914",
         "0.009652957564719308",
         "0.0023489339374484696",
         "0.14976749123467795",
         "0.07830427746209227",
         "0.16797490536182647",
         "67.22857933168137"
        ],
        [
         "min",
         "1.0",
         "1384981139.0",
         "0.0",
         "-0.089058",
         "-0.059259",
         "-0.014073",
         "-0.585263",
         "-0.791055",
         "-1.958981",
         "0.0"
        ],
        [
         "25%",
         "116.5",
         "1386906177.5",
         "0.999994",
         "-4.4e-05",
         "-0.0006065",
         "2.85e-05",
         "0.1605255",
         "-0.010364499999999999",
         "-0.025441",
         "0.0"
        ],
        [
         "50%",
         "232.0",
         "1388831216.0",
         "1.0",
         "0.000208",
         "-0.000258",
         "0.000197",
         "0.161815",
         "0.00163",
         "-0.01981",
         "0.0"
        ],
        [
         "75%",
         "347.5",
         "1390756254.5",
         "1.0",
         "0.000526",
         "0.00037549999999999997",
         "0.00043349999999999997",
         "0.1631225",
         "0.005774",
         "-0.0085615",
         "0.0"
        ],
        [
         "max",
         "463.0",
         "1392681293.0",
         "1.0",
         "0.070062",
         "0.065687",
         "0.02386",
         "1.738278",
         "0.597044",
         "1.361667",
         "1024.0"
        ]
       ],
       "shape": {
        "columns": 10,
        "rows": 8
       }
      },
      "text/html": [
       "<div>\n",
       "<style scoped>\n",
       "    .dataframe tbody tr th:only-of-type {\n",
       "        vertical-align: middle;\n",
       "    }\n",
       "\n",
       "    .dataframe tbody tr th {\n",
       "        vertical-align: top;\n",
       "    }\n",
       "\n",
       "    .dataframe thead th {\n",
       "        text-align: right;\n",
       "    }\n",
       "</style>\n",
       "<table border=\"1\" class=\"dataframe\">\n",
       "  <thead>\n",
       "    <tr style=\"text-align: right;\">\n",
       "      <th></th>\n",
       "      <th>PacketCounter</th>\n",
       "      <th>SampleTimeFine</th>\n",
       "      <th>dq_W</th>\n",
       "      <th>dq_X</th>\n",
       "      <th>dq_Y</th>\n",
       "      <th>dq_Z</th>\n",
       "      <th>dv[1]</th>\n",
       "      <th>dv[2]</th>\n",
       "      <th>dv[3]</th>\n",
       "      <th>Status</th>\n",
       "    </tr>\n",
       "  </thead>\n",
       "  <tbody>\n",
       "    <tr>\n",
       "      <th>count</th>\n",
       "      <td>463.000000</td>\n",
       "      <td>4.630000e+02</td>\n",
       "      <td>463.000000</td>\n",
       "      <td>463.000000</td>\n",
       "      <td>463.000000</td>\n",
       "      <td>463.000000</td>\n",
       "      <td>463.000000</td>\n",
       "      <td>463.000000</td>\n",
       "      <td>463.000000</td>\n",
       "      <td>463.000000</td>\n",
       "    </tr>\n",
       "    <tr>\n",
       "      <th>mean</th>\n",
       "      <td>232.000000</td>\n",
       "      <td>1.388831e+09</td>\n",
       "      <td>0.997733</td>\n",
       "      <td>0.000503</td>\n",
       "      <td>-0.000346</td>\n",
       "      <td>0.000186</td>\n",
       "      <td>0.157740</td>\n",
       "      <td>0.001086</td>\n",
       "      <td>-0.025781</td>\n",
       "      <td>4.423326</td>\n",
       "    </tr>\n",
       "    <tr>\n",
       "      <th>std</th>\n",
       "      <td>133.800847</td>\n",
       "      <td>2.230059e+06</td>\n",
       "      <td>0.046472</td>\n",
       "      <td>0.010752</td>\n",
       "      <td>0.009653</td>\n",
       "      <td>0.002349</td>\n",
       "      <td>0.149767</td>\n",
       "      <td>0.078304</td>\n",
       "      <td>0.167975</td>\n",
       "      <td>67.228579</td>\n",
       "    </tr>\n",
       "    <tr>\n",
       "      <th>min</th>\n",
       "      <td>1.000000</td>\n",
       "      <td>1.384981e+09</td>\n",
       "      <td>0.000000</td>\n",
       "      <td>-0.089058</td>\n",
       "      <td>-0.059259</td>\n",
       "      <td>-0.014073</td>\n",
       "      <td>-0.585263</td>\n",
       "      <td>-0.791055</td>\n",
       "      <td>-1.958981</td>\n",
       "      <td>0.000000</td>\n",
       "    </tr>\n",
       "    <tr>\n",
       "      <th>25%</th>\n",
       "      <td>116.500000</td>\n",
       "      <td>1.386906e+09</td>\n",
       "      <td>0.999994</td>\n",
       "      <td>-0.000044</td>\n",
       "      <td>-0.000607</td>\n",
       "      <td>0.000029</td>\n",
       "      <td>0.160525</td>\n",
       "      <td>-0.010364</td>\n",
       "      <td>-0.025441</td>\n",
       "      <td>0.000000</td>\n",
       "    </tr>\n",
       "    <tr>\n",
       "      <th>50%</th>\n",
       "      <td>232.000000</td>\n",
       "      <td>1.388831e+09</td>\n",
       "      <td>1.000000</td>\n",
       "      <td>0.000208</td>\n",
       "      <td>-0.000258</td>\n",
       "      <td>0.000197</td>\n",
       "      <td>0.161815</td>\n",
       "      <td>0.001630</td>\n",
       "      <td>-0.019810</td>\n",
       "      <td>0.000000</td>\n",
       "    </tr>\n",
       "    <tr>\n",
       "      <th>75%</th>\n",
       "      <td>347.500000</td>\n",
       "      <td>1.390756e+09</td>\n",
       "      <td>1.000000</td>\n",
       "      <td>0.000526</td>\n",
       "      <td>0.000375</td>\n",
       "      <td>0.000433</td>\n",
       "      <td>0.163123</td>\n",
       "      <td>0.005774</td>\n",
       "      <td>-0.008561</td>\n",
       "      <td>0.000000</td>\n",
       "    </tr>\n",
       "    <tr>\n",
       "      <th>max</th>\n",
       "      <td>463.000000</td>\n",
       "      <td>1.392681e+09</td>\n",
       "      <td>1.000000</td>\n",
       "      <td>0.070062</td>\n",
       "      <td>0.065687</td>\n",
       "      <td>0.023860</td>\n",
       "      <td>1.738278</td>\n",
       "      <td>0.597044</td>\n",
       "      <td>1.361667</td>\n",
       "      <td>1024.000000</td>\n",
       "    </tr>\n",
       "  </tbody>\n",
       "</table>\n",
       "</div>"
      ],
      "text/plain": [
       "       PacketCounter  SampleTimeFine        dq_W        dq_X        dq_Y  \\\n",
       "count     463.000000    4.630000e+02  463.000000  463.000000  463.000000   \n",
       "mean      232.000000    1.388831e+09    0.997733    0.000503   -0.000346   \n",
       "std       133.800847    2.230059e+06    0.046472    0.010752    0.009653   \n",
       "min         1.000000    1.384981e+09    0.000000   -0.089058   -0.059259   \n",
       "25%       116.500000    1.386906e+09    0.999994   -0.000044   -0.000607   \n",
       "50%       232.000000    1.388831e+09    1.000000    0.000208   -0.000258   \n",
       "75%       347.500000    1.390756e+09    1.000000    0.000526    0.000375   \n",
       "max       463.000000    1.392681e+09    1.000000    0.070062    0.065687   \n",
       "\n",
       "             dq_Z       dv[1]       dv[2]       dv[3]       Status  \n",
       "count  463.000000  463.000000  463.000000  463.000000   463.000000  \n",
       "mean     0.000186    0.157740    0.001086   -0.025781     4.423326  \n",
       "std      0.002349    0.149767    0.078304    0.167975    67.228579  \n",
       "min     -0.014073   -0.585263   -0.791055   -1.958981     0.000000  \n",
       "25%      0.000029    0.160525   -0.010364   -0.025441     0.000000  \n",
       "50%      0.000197    0.161815    0.001630   -0.019810     0.000000  \n",
       "75%      0.000433    0.163123    0.005774   -0.008561     0.000000  \n",
       "max      0.023860    1.738278    0.597044    1.361667  1024.000000  "
      ]
     },
     "execution_count": 4,
     "metadata": {},
     "output_type": "execute_result"
    }
   ],
   "source": [
    "left.describe()"
   ]
  },
  {
   "cell_type": "code",
   "execution_count": 5,
   "id": "619cf6ac",
   "metadata": {},
   "outputs": [
    {
     "data": {
      "application/vnd.microsoft.datawrangler.viewer.v0+json": {
       "columns": [
        {
         "name": "index",
         "rawType": "object",
         "type": "string"
        },
        {
         "name": "PacketCounter",
         "rawType": "float64",
         "type": "float"
        },
        {
         "name": "SampleTimeFine",
         "rawType": "float64",
         "type": "float"
        },
        {
         "name": "dq_W",
         "rawType": "float64",
         "type": "float"
        },
        {
         "name": "dq_X",
         "rawType": "float64",
         "type": "float"
        },
        {
         "name": "dq_Y",
         "rawType": "float64",
         "type": "float"
        },
        {
         "name": "dq_Z",
         "rawType": "float64",
         "type": "float"
        },
        {
         "name": "dv[1]",
         "rawType": "float64",
         "type": "float"
        },
        {
         "name": "dv[2]",
         "rawType": "float64",
         "type": "float"
        },
        {
         "name": "dv[3]",
         "rawType": "float64",
         "type": "float"
        },
        {
         "name": "Status",
         "rawType": "float64",
         "type": "float"
        }
       ],
       "conversionMethod": "pd.DataFrame",
       "ref": "e3db4d35-012d-481c-a365-86607da7620c",
       "rows": [
        [
         "count",
         "463.0",
         "463.0",
         "463.0",
         "463.0",
         "463.0",
         "463.0",
         "463.0",
         "463.0",
         "463.0",
         "463.0"
        ],
        [
         "mean",
         "232.0",
         "1388831216.0",
         "0.9978209935205185",
         "0.0002697084233261339",
         "6.556587473002153e-05",
         "-8.211663066954642e-05",
         "0.1588216544276458",
         "0.0009577904967602594",
         "0.034892952483801296",
         "0.0"
        ],
        [
         "std",
         "133.8008470326951",
         "2230058.717493929",
         "0.04647328712647499",
         "0.0019453022509881225",
         "0.005760260020687653",
         "0.001210623982880847",
         "0.09290178158787198",
         "0.019787135326848764",
         "0.05287889988931531",
         "0.0"
        ],
        [
         "min",
         "1.0",
         "1384981139.0",
         "0.0",
         "-0.009235",
         "-0.033616",
         "-0.007377",
         "-0.134059",
         "-0.168638",
         "-0.329105",
         "0.0"
        ],
        [
         "25%",
         "116.5",
         "1386906177.5",
         "0.999996",
         "-0.00015099999999999998",
         "-0.0002985",
         "-0.000291",
         "0.159753",
         "0.000477",
         "0.01684",
         "0.0"
        ],
        [
         "50%",
         "232.0",
         "1388831216.0",
         "1.0",
         "0.000198",
         "-1e-05",
         "-7.9e-05",
         "0.161562",
         "0.002378",
         "0.027926",
         "0.0"
        ],
        [
         "75%",
         "347.5",
         "1390756254.5",
         "1.0",
         "0.0006119999999999999",
         "0.0005465",
         "8.85e-05",
         "0.1629525",
         "0.004089",
         "0.0317005",
         "0.0"
        ],
        [
         "max",
         "463.0",
         "1392681293.0",
         "1.0",
         "0.014374",
         "0.070714",
         "0.007108",
         "1.190327",
         "0.106289",
         "0.582826",
         "0.0"
        ]
       ],
       "shape": {
        "columns": 10,
        "rows": 8
       }
      },
      "text/html": [
       "<div>\n",
       "<style scoped>\n",
       "    .dataframe tbody tr th:only-of-type {\n",
       "        vertical-align: middle;\n",
       "    }\n",
       "\n",
       "    .dataframe tbody tr th {\n",
       "        vertical-align: top;\n",
       "    }\n",
       "\n",
       "    .dataframe thead th {\n",
       "        text-align: right;\n",
       "    }\n",
       "</style>\n",
       "<table border=\"1\" class=\"dataframe\">\n",
       "  <thead>\n",
       "    <tr style=\"text-align: right;\">\n",
       "      <th></th>\n",
       "      <th>PacketCounter</th>\n",
       "      <th>SampleTimeFine</th>\n",
       "      <th>dq_W</th>\n",
       "      <th>dq_X</th>\n",
       "      <th>dq_Y</th>\n",
       "      <th>dq_Z</th>\n",
       "      <th>dv[1]</th>\n",
       "      <th>dv[2]</th>\n",
       "      <th>dv[3]</th>\n",
       "      <th>Status</th>\n",
       "    </tr>\n",
       "  </thead>\n",
       "  <tbody>\n",
       "    <tr>\n",
       "      <th>count</th>\n",
       "      <td>463.000000</td>\n",
       "      <td>4.630000e+02</td>\n",
       "      <td>463.000000</td>\n",
       "      <td>463.000000</td>\n",
       "      <td>463.000000</td>\n",
       "      <td>463.000000</td>\n",
       "      <td>463.000000</td>\n",
       "      <td>463.000000</td>\n",
       "      <td>463.000000</td>\n",
       "      <td>463.0</td>\n",
       "    </tr>\n",
       "    <tr>\n",
       "      <th>mean</th>\n",
       "      <td>232.000000</td>\n",
       "      <td>1.388831e+09</td>\n",
       "      <td>0.997821</td>\n",
       "      <td>0.000270</td>\n",
       "      <td>0.000066</td>\n",
       "      <td>-0.000082</td>\n",
       "      <td>0.158822</td>\n",
       "      <td>0.000958</td>\n",
       "      <td>0.034893</td>\n",
       "      <td>0.0</td>\n",
       "    </tr>\n",
       "    <tr>\n",
       "      <th>std</th>\n",
       "      <td>133.800847</td>\n",
       "      <td>2.230059e+06</td>\n",
       "      <td>0.046473</td>\n",
       "      <td>0.001945</td>\n",
       "      <td>0.005760</td>\n",
       "      <td>0.001211</td>\n",
       "      <td>0.092902</td>\n",
       "      <td>0.019787</td>\n",
       "      <td>0.052879</td>\n",
       "      <td>0.0</td>\n",
       "    </tr>\n",
       "    <tr>\n",
       "      <th>min</th>\n",
       "      <td>1.000000</td>\n",
       "      <td>1.384981e+09</td>\n",
       "      <td>0.000000</td>\n",
       "      <td>-0.009235</td>\n",
       "      <td>-0.033616</td>\n",
       "      <td>-0.007377</td>\n",
       "      <td>-0.134059</td>\n",
       "      <td>-0.168638</td>\n",
       "      <td>-0.329105</td>\n",
       "      <td>0.0</td>\n",
       "    </tr>\n",
       "    <tr>\n",
       "      <th>25%</th>\n",
       "      <td>116.500000</td>\n",
       "      <td>1.386906e+09</td>\n",
       "      <td>0.999996</td>\n",
       "      <td>-0.000151</td>\n",
       "      <td>-0.000298</td>\n",
       "      <td>-0.000291</td>\n",
       "      <td>0.159753</td>\n",
       "      <td>0.000477</td>\n",
       "      <td>0.016840</td>\n",
       "      <td>0.0</td>\n",
       "    </tr>\n",
       "    <tr>\n",
       "      <th>50%</th>\n",
       "      <td>232.000000</td>\n",
       "      <td>1.388831e+09</td>\n",
       "      <td>1.000000</td>\n",
       "      <td>0.000198</td>\n",
       "      <td>-0.000010</td>\n",
       "      <td>-0.000079</td>\n",
       "      <td>0.161562</td>\n",
       "      <td>0.002378</td>\n",
       "      <td>0.027926</td>\n",
       "      <td>0.0</td>\n",
       "    </tr>\n",
       "    <tr>\n",
       "      <th>75%</th>\n",
       "      <td>347.500000</td>\n",
       "      <td>1.390756e+09</td>\n",
       "      <td>1.000000</td>\n",
       "      <td>0.000612</td>\n",
       "      <td>0.000547</td>\n",
       "      <td>0.000088</td>\n",
       "      <td>0.162953</td>\n",
       "      <td>0.004089</td>\n",
       "      <td>0.031700</td>\n",
       "      <td>0.0</td>\n",
       "    </tr>\n",
       "    <tr>\n",
       "      <th>max</th>\n",
       "      <td>463.000000</td>\n",
       "      <td>1.392681e+09</td>\n",
       "      <td>1.000000</td>\n",
       "      <td>0.014374</td>\n",
       "      <td>0.070714</td>\n",
       "      <td>0.007108</td>\n",
       "      <td>1.190327</td>\n",
       "      <td>0.106289</td>\n",
       "      <td>0.582826</td>\n",
       "      <td>0.0</td>\n",
       "    </tr>\n",
       "  </tbody>\n",
       "</table>\n",
       "</div>"
      ],
      "text/plain": [
       "       PacketCounter  SampleTimeFine        dq_W        dq_X        dq_Y  \\\n",
       "count     463.000000    4.630000e+02  463.000000  463.000000  463.000000   \n",
       "mean      232.000000    1.388831e+09    0.997821    0.000270    0.000066   \n",
       "std       133.800847    2.230059e+06    0.046473    0.001945    0.005760   \n",
       "min         1.000000    1.384981e+09    0.000000   -0.009235   -0.033616   \n",
       "25%       116.500000    1.386906e+09    0.999996   -0.000151   -0.000298   \n",
       "50%       232.000000    1.388831e+09    1.000000    0.000198   -0.000010   \n",
       "75%       347.500000    1.390756e+09    1.000000    0.000612    0.000547   \n",
       "max       463.000000    1.392681e+09    1.000000    0.014374    0.070714   \n",
       "\n",
       "             dq_Z       dv[1]       dv[2]       dv[3]  Status  \n",
       "count  463.000000  463.000000  463.000000  463.000000   463.0  \n",
       "mean    -0.000082    0.158822    0.000958    0.034893     0.0  \n",
       "std      0.001211    0.092902    0.019787    0.052879     0.0  \n",
       "min     -0.007377   -0.134059   -0.168638   -0.329105     0.0  \n",
       "25%     -0.000291    0.159753    0.000477    0.016840     0.0  \n",
       "50%     -0.000079    0.161562    0.002378    0.027926     0.0  \n",
       "75%      0.000088    0.162953    0.004089    0.031700     0.0  \n",
       "max      0.007108    1.190327    0.106289    0.582826     0.0  "
      ]
     },
     "execution_count": 5,
     "metadata": {},
     "output_type": "execute_result"
    }
   ],
   "source": [
    "pelvis.describe()"
   ]
  },
  {
   "cell_type": "code",
   "execution_count": null,
   "id": "395c2b9b",
   "metadata": {},
   "outputs": [],
   "source": []
  }
 ],
 "metadata": {
  "kernelspec": {
   "display_name": ".venv",
   "language": "python",
   "name": "python3"
  },
  "language_info": {
   "codemirror_mode": {
    "name": "ipython",
    "version": 3
   },
   "file_extension": ".py",
   "mimetype": "text/x-python",
   "name": "python",
   "nbconvert_exporter": "python",
   "pygments_lexer": "ipython3",
   "version": "3.10.11"
  }
 },
 "nbformat": 4,
 "nbformat_minor": 5
}
