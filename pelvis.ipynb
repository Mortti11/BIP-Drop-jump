{
 "cells": [
  {
   "cell_type": "code",
   "execution_count": null,
   "id": "0960464f",
   "metadata": {},
   "outputs": [],
   "source": [
    "import pandas as pd\n",
    "import numpy as np\n",
    "import seaborn as sns\n",
    "import scipy.stats as stats\n",
    "import matplotlib.pyplot as plt\n",
    "from scipy.signal import butter, filtfilt\n",
    "from scipy.signal import find_peaks"
   ]
  },
  {
   "cell_type": "markdown",
   "id": "40cfb6f8",
   "metadata": {},
   "source": [
    "**My goal:**\n",
    "<p>Ground contact time (how long your foot is on the ground), and Peak vertical acceleration on landing.</p>"
   ]
  },
  {
   "cell_type": "code",
   "execution_count": 2,
   "id": "72bbfb61",
   "metadata": {},
   "outputs": [
    {
     "data": {
      "application/vnd.microsoft.datawrangler.viewer.v0+json": {
       "columns": [
        {
         "name": "index",
         "rawType": "int64",
         "type": "integer"
        },
        {
         "name": "PacketCounter",
         "rawType": "int64",
         "type": "integer"
        },
        {
         "name": "SampleTimeFine",
         "rawType": "int64",
         "type": "integer"
        },
        {
         "name": "Euler_X",
         "rawType": "float64",
         "type": "float"
        },
        {
         "name": "Euler_Y",
         "rawType": "float64",
         "type": "float"
        },
        {
         "name": "Euler_Z",
         "rawType": "float64",
         "type": "float"
        },
        {
         "name": "Acc_X",
         "rawType": "float64",
         "type": "float"
        },
        {
         "name": "Acc_Y",
         "rawType": "float64",
         "type": "float"
        },
        {
         "name": "Acc_Z",
         "rawType": "float64",
         "type": "float"
        },
        {
         "name": "Gyr_X",
         "rawType": "float64",
         "type": "float"
        },
        {
         "name": "Gyr_Y",
         "rawType": "float64",
         "type": "float"
        },
        {
         "name": "Gyr_Z",
         "rawType": "float64",
         "type": "float"
        }
       ],
       "conversionMethod": "pd.DataFrame",
       "ref": "b0d785ee-5070-4527-b5ad-cb314f2ac6af",
       "rows": [
        [
         "0",
         "0",
         "1607843351",
         "36.77572631835938",
         "-86.67139434814453",
         "13.27218151092529",
         "0.0",
         "0.0",
         "0.0",
         "0.0",
         "0.0",
         "0.0"
        ],
        [
         "1",
         "1",
         "1607860018",
         "36.78080368041992",
         "-86.6658706665039",
         "13.27164745330811",
         "9.82325458526611",
         "0.2145489603281",
         "0.53577101230621",
         "0.82038104534149",
         "-0.70180070400238",
         "0.46290472149849"
        ],
        [
         "2",
         "2",
         "1607876685",
         "36.77362060546875",
         "-86.65245056152344",
         "13.28327560424805",
         "9.8541374206543",
         "0.20524936914444",
         "0.61522656679153",
         "0.79139393568039",
         "-0.3073715865612",
         "0.21947522461414"
        ],
        [
         "3",
         "3",
         "1607893352",
         "36.82106018066406",
         "-86.64421844482422",
         "13.25047397613525",
         "9.83277130126953",
         "0.22208420932293",
         "0.59636658430099",
         "0.89114260673523",
         "-0.66410529613495",
         "0.24613803625107"
        ],
        [
         "4",
         "4",
         "1607910019",
         "36.73494720458984",
         "-86.64024353027344",
         "13.33260154724121",
         "9.85792446136475",
         "0.2433305233717",
         "0.52163702249527",
         "0.4617905318737",
         "-0.61256611347198",
         "0.77389407157898"
        ],
        [
         "5",
         "5",
         "1607926686",
         "36.64530563354492",
         "-86.63343811035156",
         "13.42189693450928",
         "9.82330989837646",
         "0.20753061771393",
         "0.53872269392014",
         "0.46687471866608",
         "-0.46415334939957",
         "0.67488825321198"
        ],
        [
         "6",
         "6",
         "1607943353",
         "36.55593872070312",
         "-86.62512969970703",
         "13.51437091827393",
         "9.78477954864502",
         "0.20933598279953",
         "0.53074359893799",
         "0.54898262023926",
         "-0.38680937886238",
         "0.62308013439178"
        ],
        [
         "7",
         "7",
         "1607960020",
         "36.48873901367188",
         "-86.61927795410156",
         "13.58439350128174",
         "9.77025508880615",
         "0.24471139907837",
         "0.55187922716141",
         "0.69642204046249",
         "-0.5493603348732",
         "0.66093569993973"
        ],
        [
         "8",
         "8",
         "1607976687",
         "36.49768829345703",
         "-86.62501525878906",
         "13.57601356506348",
         "9.74156951904297",
         "0.23111411929131",
         "0.55853188037872",
         "0.55762040615082",
         "-1.27164471149445",
         "0.85033518075943"
        ],
        [
         "9",
         "9",
         "1607993354",
         "36.55713653564453",
         "-86.62832641601562",
         "13.51749324798584",
         "9.75973033905029",
         "0.22408890724182",
         "0.55615830421448",
         "0.67577189207077",
         "-1.25403618812561",
         "0.62494349479675"
        ]
       ],
       "shape": {
        "columns": 11,
        "rows": 10
       }
      },
      "text/html": [
       "<div>\n",
       "<style scoped>\n",
       "    .dataframe tbody tr th:only-of-type {\n",
       "        vertical-align: middle;\n",
       "    }\n",
       "\n",
       "    .dataframe tbody tr th {\n",
       "        vertical-align: top;\n",
       "    }\n",
       "\n",
       "    .dataframe thead th {\n",
       "        text-align: right;\n",
       "    }\n",
       "</style>\n",
       "<table border=\"1\" class=\"dataframe\">\n",
       "  <thead>\n",
       "    <tr style=\"text-align: right;\">\n",
       "      <th></th>\n",
       "      <th>PacketCounter</th>\n",
       "      <th>SampleTimeFine</th>\n",
       "      <th>Euler_X</th>\n",
       "      <th>Euler_Y</th>\n",
       "      <th>Euler_Z</th>\n",
       "      <th>Acc_X</th>\n",
       "      <th>Acc_Y</th>\n",
       "      <th>Acc_Z</th>\n",
       "      <th>Gyr_X</th>\n",
       "      <th>Gyr_Y</th>\n",
       "      <th>Gyr_Z</th>\n",
       "    </tr>\n",
       "  </thead>\n",
       "  <tbody>\n",
       "    <tr>\n",
       "      <th>0</th>\n",
       "      <td>0</td>\n",
       "      <td>1607843351</td>\n",
       "      <td>36.775726</td>\n",
       "      <td>-86.671394</td>\n",
       "      <td>13.272182</td>\n",
       "      <td>0.000000</td>\n",
       "      <td>0.000000</td>\n",
       "      <td>0.000000</td>\n",
       "      <td>0.000000</td>\n",
       "      <td>0.000000</td>\n",
       "      <td>0.000000</td>\n",
       "    </tr>\n",
       "    <tr>\n",
       "      <th>1</th>\n",
       "      <td>1</td>\n",
       "      <td>1607860018</td>\n",
       "      <td>36.780804</td>\n",
       "      <td>-86.665871</td>\n",
       "      <td>13.271647</td>\n",
       "      <td>9.823255</td>\n",
       "      <td>0.214549</td>\n",
       "      <td>0.535771</td>\n",
       "      <td>0.820381</td>\n",
       "      <td>-0.701801</td>\n",
       "      <td>0.462905</td>\n",
       "    </tr>\n",
       "    <tr>\n",
       "      <th>2</th>\n",
       "      <td>2</td>\n",
       "      <td>1607876685</td>\n",
       "      <td>36.773621</td>\n",
       "      <td>-86.652451</td>\n",
       "      <td>13.283276</td>\n",
       "      <td>9.854137</td>\n",
       "      <td>0.205249</td>\n",
       "      <td>0.615227</td>\n",
       "      <td>0.791394</td>\n",
       "      <td>-0.307372</td>\n",
       "      <td>0.219475</td>\n",
       "    </tr>\n",
       "    <tr>\n",
       "      <th>3</th>\n",
       "      <td>3</td>\n",
       "      <td>1607893352</td>\n",
       "      <td>36.821060</td>\n",
       "      <td>-86.644218</td>\n",
       "      <td>13.250474</td>\n",
       "      <td>9.832771</td>\n",
       "      <td>0.222084</td>\n",
       "      <td>0.596367</td>\n",
       "      <td>0.891143</td>\n",
       "      <td>-0.664105</td>\n",
       "      <td>0.246138</td>\n",
       "    </tr>\n",
       "    <tr>\n",
       "      <th>4</th>\n",
       "      <td>4</td>\n",
       "      <td>1607910019</td>\n",
       "      <td>36.734947</td>\n",
       "      <td>-86.640244</td>\n",
       "      <td>13.332602</td>\n",
       "      <td>9.857924</td>\n",
       "      <td>0.243331</td>\n",
       "      <td>0.521637</td>\n",
       "      <td>0.461791</td>\n",
       "      <td>-0.612566</td>\n",
       "      <td>0.773894</td>\n",
       "    </tr>\n",
       "    <tr>\n",
       "      <th>5</th>\n",
       "      <td>5</td>\n",
       "      <td>1607926686</td>\n",
       "      <td>36.645306</td>\n",
       "      <td>-86.633438</td>\n",
       "      <td>13.421897</td>\n",
       "      <td>9.823310</td>\n",
       "      <td>0.207531</td>\n",
       "      <td>0.538723</td>\n",
       "      <td>0.466875</td>\n",
       "      <td>-0.464153</td>\n",
       "      <td>0.674888</td>\n",
       "    </tr>\n",
       "    <tr>\n",
       "      <th>6</th>\n",
       "      <td>6</td>\n",
       "      <td>1607943353</td>\n",
       "      <td>36.555939</td>\n",
       "      <td>-86.625130</td>\n",
       "      <td>13.514371</td>\n",
       "      <td>9.784780</td>\n",
       "      <td>0.209336</td>\n",
       "      <td>0.530744</td>\n",
       "      <td>0.548983</td>\n",
       "      <td>-0.386809</td>\n",
       "      <td>0.623080</td>\n",
       "    </tr>\n",
       "    <tr>\n",
       "      <th>7</th>\n",
       "      <td>7</td>\n",
       "      <td>1607960020</td>\n",
       "      <td>36.488739</td>\n",
       "      <td>-86.619278</td>\n",
       "      <td>13.584394</td>\n",
       "      <td>9.770255</td>\n",
       "      <td>0.244711</td>\n",
       "      <td>0.551879</td>\n",
       "      <td>0.696422</td>\n",
       "      <td>-0.549360</td>\n",
       "      <td>0.660936</td>\n",
       "    </tr>\n",
       "    <tr>\n",
       "      <th>8</th>\n",
       "      <td>8</td>\n",
       "      <td>1607976687</td>\n",
       "      <td>36.497688</td>\n",
       "      <td>-86.625015</td>\n",
       "      <td>13.576014</td>\n",
       "      <td>9.741570</td>\n",
       "      <td>0.231114</td>\n",
       "      <td>0.558532</td>\n",
       "      <td>0.557620</td>\n",
       "      <td>-1.271645</td>\n",
       "      <td>0.850335</td>\n",
       "    </tr>\n",
       "    <tr>\n",
       "      <th>9</th>\n",
       "      <td>9</td>\n",
       "      <td>1607993354</td>\n",
       "      <td>36.557137</td>\n",
       "      <td>-86.628326</td>\n",
       "      <td>13.517493</td>\n",
       "      <td>9.759730</td>\n",
       "      <td>0.224089</td>\n",
       "      <td>0.556158</td>\n",
       "      <td>0.675772</td>\n",
       "      <td>-1.254036</td>\n",
       "      <td>0.624943</td>\n",
       "    </tr>\n",
       "  </tbody>\n",
       "</table>\n",
       "</div>"
      ],
      "text/plain": [
       "   PacketCounter  SampleTimeFine    Euler_X    Euler_Y    Euler_Z     Acc_X  \\\n",
       "0              0      1607843351  36.775726 -86.671394  13.272182  0.000000   \n",
       "1              1      1607860018  36.780804 -86.665871  13.271647  9.823255   \n",
       "2              2      1607876685  36.773621 -86.652451  13.283276  9.854137   \n",
       "3              3      1607893352  36.821060 -86.644218  13.250474  9.832771   \n",
       "4              4      1607910019  36.734947 -86.640244  13.332602  9.857924   \n",
       "5              5      1607926686  36.645306 -86.633438  13.421897  9.823310   \n",
       "6              6      1607943353  36.555939 -86.625130  13.514371  9.784780   \n",
       "7              7      1607960020  36.488739 -86.619278  13.584394  9.770255   \n",
       "8              8      1607976687  36.497688 -86.625015  13.576014  9.741570   \n",
       "9              9      1607993354  36.557137 -86.628326  13.517493  9.759730   \n",
       "\n",
       "      Acc_Y     Acc_Z     Gyr_X     Gyr_Y     Gyr_Z  \n",
       "0  0.000000  0.000000  0.000000  0.000000  0.000000  \n",
       "1  0.214549  0.535771  0.820381 -0.701801  0.462905  \n",
       "2  0.205249  0.615227  0.791394 -0.307372  0.219475  \n",
       "3  0.222084  0.596367  0.891143 -0.664105  0.246138  \n",
       "4  0.243331  0.521637  0.461791 -0.612566  0.773894  \n",
       "5  0.207531  0.538723  0.466875 -0.464153  0.674888  \n",
       "6  0.209336  0.530744  0.548983 -0.386809  0.623080  \n",
       "7  0.244711  0.551879  0.696422 -0.549360  0.660936  \n",
       "8  0.231114  0.558532  0.557620 -1.271645  0.850335  \n",
       "9  0.224089  0.556158  0.675772 -1.254036  0.624943  "
      ]
     },
     "execution_count": 2,
     "metadata": {},
     "output_type": "execute_result"
    }
   ],
   "source": [
    "df = pd.read_csv('Bib_skoky\\David-50-pokus01\\Xsens_DOT_2_D422CD006474_20250409_104913.csv', skiprows=7, sep=\",\")\n",
    "df.head(10)"
   ]
  },
  {
   "cell_type": "code",
   "execution_count": 3,
   "id": "4baba577",
   "metadata": {},
   "outputs": [
    {
     "data": {
      "application/vnd.microsoft.datawrangler.viewer.v0+json": {
       "columns": [
        {
         "name": "index",
         "rawType": "object",
         "type": "string"
        },
        {
         "name": "PacketCounter",
         "rawType": "float64",
         "type": "float"
        },
        {
         "name": "SampleTimeFine",
         "rawType": "float64",
         "type": "float"
        },
        {
         "name": "Euler_X",
         "rawType": "float64",
         "type": "float"
        },
        {
         "name": "Euler_Y",
         "rawType": "float64",
         "type": "float"
        },
        {
         "name": "Euler_Z",
         "rawType": "float64",
         "type": "float"
        },
        {
         "name": "Acc_X",
         "rawType": "float64",
         "type": "float"
        },
        {
         "name": "Acc_Y",
         "rawType": "float64",
         "type": "float"
        },
        {
         "name": "Acc_Z",
         "rawType": "float64",
         "type": "float"
        },
        {
         "name": "Gyr_X",
         "rawType": "float64",
         "type": "float"
        },
        {
         "name": "Gyr_Y",
         "rawType": "float64",
         "type": "float"
        },
        {
         "name": "Gyr_Z",
         "rawType": "float64",
         "type": "float"
        }
       ],
       "conversionMethod": "pd.DataFrame",
       "ref": "5249d582-8c45-40f9-ac5f-adeb5474711f",
       "rows": [
        [
         "count",
         "672.0",
         "672.0",
         "672.0",
         "672.0",
         "672.0",
         "672.0",
         "672.0",
         "672.0",
         "672.0",
         "672.0",
         "672.0"
        ],
        [
         "mean",
         "335.5",
         "1613435129.5",
         "22.640519847403908",
         "-84.0968345176606",
         "24.063760611982573",
         "9.744937726296484",
         "0.11719072845465096",
         "1.0880222012163445",
         "-0.11433870306271798",
         "-0.9455155047499353",
         "0.23136410982087469"
        ],
        [
         "std",
         "194.13397435791603",
         "3235630.9506233865",
         "19.051348374784176",
         "4.889810317792616",
         "16.912264643443812",
         "5.866193477265884",
         "1.1827633071934816",
         "3.0675287485227347",
         "16.9727321075556",
         "30.346702193454874",
         "9.99496163922392"
        ],
        [
         "min",
         "0.0",
         "1607843351.0",
         "-29.0758113861084",
         "-86.88008880615234",
         "5.84134244918823",
         "-17.71585464477539",
         "-10.04597949981689",
         "-7.11599445343018",
         "-150.10751342773438",
         "-340.75958251953125",
         "-92.75701141357422"
        ],
        [
         "25%",
         "167.75",
         "1610639240.25",
         "10.542409181594852",
         "-86.71664428710938",
         "9.529316902160645",
         "9.774590253829953",
         "0.12395366467535751",
         "0.46208565682173",
         "-0.593726396560665",
         "-1.925176858901975",
         "0.32752078026533"
        ],
        [
         "50%",
         "335.5",
         "1613435129.5",
         "16.616341590881348",
         "-86.47478103637695",
         "25.971560478210446",
         "9.808512210845945",
         "0.2163188457489",
         "0.527104765176775",
         "0.51316326856613",
         "-1.00233370065689",
         "0.675054699182515"
        ],
        [
         "75%",
         "503.25",
         "1616231018.75",
         "40.42169666290284",
         "-83.75253105163574",
         "31.66724348068237",
         "9.839743614196776",
         "0.2531149387359625",
         "0.961802780628205",
         "1.20203110575676",
         "-0.2378539405763175",
         "1.234028041362765"
        ],
        [
         "max",
         "671.0",
         "1619026908.0",
         "44.06997299194336",
         "-59.81644821166992",
         "73.8951644897461",
         "97.0411376953125",
         "11.85751247406006",
         "36.16991424560547",
         "104.5688705444336",
         "264.0553894042969",
         "54.04671859741211"
        ]
       ],
       "shape": {
        "columns": 11,
        "rows": 8
       }
      },
      "text/html": [
       "<div>\n",
       "<style scoped>\n",
       "    .dataframe tbody tr th:only-of-type {\n",
       "        vertical-align: middle;\n",
       "    }\n",
       "\n",
       "    .dataframe tbody tr th {\n",
       "        vertical-align: top;\n",
       "    }\n",
       "\n",
       "    .dataframe thead th {\n",
       "        text-align: right;\n",
       "    }\n",
       "</style>\n",
       "<table border=\"1\" class=\"dataframe\">\n",
       "  <thead>\n",
       "    <tr style=\"text-align: right;\">\n",
       "      <th></th>\n",
       "      <th>PacketCounter</th>\n",
       "      <th>SampleTimeFine</th>\n",
       "      <th>Euler_X</th>\n",
       "      <th>Euler_Y</th>\n",
       "      <th>Euler_Z</th>\n",
       "      <th>Acc_X</th>\n",
       "      <th>Acc_Y</th>\n",
       "      <th>Acc_Z</th>\n",
       "      <th>Gyr_X</th>\n",
       "      <th>Gyr_Y</th>\n",
       "      <th>Gyr_Z</th>\n",
       "    </tr>\n",
       "  </thead>\n",
       "  <tbody>\n",
       "    <tr>\n",
       "      <th>count</th>\n",
       "      <td>672.000000</td>\n",
       "      <td>6.720000e+02</td>\n",
       "      <td>672.000000</td>\n",
       "      <td>672.000000</td>\n",
       "      <td>672.000000</td>\n",
       "      <td>672.000000</td>\n",
       "      <td>672.000000</td>\n",
       "      <td>672.000000</td>\n",
       "      <td>672.000000</td>\n",
       "      <td>672.000000</td>\n",
       "      <td>672.000000</td>\n",
       "    </tr>\n",
       "    <tr>\n",
       "      <th>mean</th>\n",
       "      <td>335.500000</td>\n",
       "      <td>1.613435e+09</td>\n",
       "      <td>22.640520</td>\n",
       "      <td>-84.096835</td>\n",
       "      <td>24.063761</td>\n",
       "      <td>9.744938</td>\n",
       "      <td>0.117191</td>\n",
       "      <td>1.088022</td>\n",
       "      <td>-0.114339</td>\n",
       "      <td>-0.945516</td>\n",
       "      <td>0.231364</td>\n",
       "    </tr>\n",
       "    <tr>\n",
       "      <th>std</th>\n",
       "      <td>194.133974</td>\n",
       "      <td>3.235631e+06</td>\n",
       "      <td>19.051348</td>\n",
       "      <td>4.889810</td>\n",
       "      <td>16.912265</td>\n",
       "      <td>5.866193</td>\n",
       "      <td>1.182763</td>\n",
       "      <td>3.067529</td>\n",
       "      <td>16.972732</td>\n",
       "      <td>30.346702</td>\n",
       "      <td>9.994962</td>\n",
       "    </tr>\n",
       "    <tr>\n",
       "      <th>min</th>\n",
       "      <td>0.000000</td>\n",
       "      <td>1.607843e+09</td>\n",
       "      <td>-29.075811</td>\n",
       "      <td>-86.880089</td>\n",
       "      <td>5.841342</td>\n",
       "      <td>-17.715855</td>\n",
       "      <td>-10.045979</td>\n",
       "      <td>-7.115994</td>\n",
       "      <td>-150.107513</td>\n",
       "      <td>-340.759583</td>\n",
       "      <td>-92.757011</td>\n",
       "    </tr>\n",
       "    <tr>\n",
       "      <th>25%</th>\n",
       "      <td>167.750000</td>\n",
       "      <td>1.610639e+09</td>\n",
       "      <td>10.542409</td>\n",
       "      <td>-86.716644</td>\n",
       "      <td>9.529317</td>\n",
       "      <td>9.774590</td>\n",
       "      <td>0.123954</td>\n",
       "      <td>0.462086</td>\n",
       "      <td>-0.593726</td>\n",
       "      <td>-1.925177</td>\n",
       "      <td>0.327521</td>\n",
       "    </tr>\n",
       "    <tr>\n",
       "      <th>50%</th>\n",
       "      <td>335.500000</td>\n",
       "      <td>1.613435e+09</td>\n",
       "      <td>16.616342</td>\n",
       "      <td>-86.474781</td>\n",
       "      <td>25.971560</td>\n",
       "      <td>9.808512</td>\n",
       "      <td>0.216319</td>\n",
       "      <td>0.527105</td>\n",
       "      <td>0.513163</td>\n",
       "      <td>-1.002334</td>\n",
       "      <td>0.675055</td>\n",
       "    </tr>\n",
       "    <tr>\n",
       "      <th>75%</th>\n",
       "      <td>503.250000</td>\n",
       "      <td>1.616231e+09</td>\n",
       "      <td>40.421697</td>\n",
       "      <td>-83.752531</td>\n",
       "      <td>31.667243</td>\n",
       "      <td>9.839744</td>\n",
       "      <td>0.253115</td>\n",
       "      <td>0.961803</td>\n",
       "      <td>1.202031</td>\n",
       "      <td>-0.237854</td>\n",
       "      <td>1.234028</td>\n",
       "    </tr>\n",
       "    <tr>\n",
       "      <th>max</th>\n",
       "      <td>671.000000</td>\n",
       "      <td>1.619027e+09</td>\n",
       "      <td>44.069973</td>\n",
       "      <td>-59.816448</td>\n",
       "      <td>73.895164</td>\n",
       "      <td>97.041138</td>\n",
       "      <td>11.857512</td>\n",
       "      <td>36.169914</td>\n",
       "      <td>104.568871</td>\n",
       "      <td>264.055389</td>\n",
       "      <td>54.046719</td>\n",
       "    </tr>\n",
       "  </tbody>\n",
       "</table>\n",
       "</div>"
      ],
      "text/plain": [
       "       PacketCounter  SampleTimeFine     Euler_X     Euler_Y     Euler_Z  \\\n",
       "count     672.000000    6.720000e+02  672.000000  672.000000  672.000000   \n",
       "mean      335.500000    1.613435e+09   22.640520  -84.096835   24.063761   \n",
       "std       194.133974    3.235631e+06   19.051348    4.889810   16.912265   \n",
       "min         0.000000    1.607843e+09  -29.075811  -86.880089    5.841342   \n",
       "25%       167.750000    1.610639e+09   10.542409  -86.716644    9.529317   \n",
       "50%       335.500000    1.613435e+09   16.616342  -86.474781   25.971560   \n",
       "75%       503.250000    1.616231e+09   40.421697  -83.752531   31.667243   \n",
       "max       671.000000    1.619027e+09   44.069973  -59.816448   73.895164   \n",
       "\n",
       "            Acc_X       Acc_Y       Acc_Z       Gyr_X       Gyr_Y       Gyr_Z  \n",
       "count  672.000000  672.000000  672.000000  672.000000  672.000000  672.000000  \n",
       "mean     9.744938    0.117191    1.088022   -0.114339   -0.945516    0.231364  \n",
       "std      5.866193    1.182763    3.067529   16.972732   30.346702    9.994962  \n",
       "min    -17.715855  -10.045979   -7.115994 -150.107513 -340.759583  -92.757011  \n",
       "25%      9.774590    0.123954    0.462086   -0.593726   -1.925177    0.327521  \n",
       "50%      9.808512    0.216319    0.527105    0.513163   -1.002334    0.675055  \n",
       "75%      9.839744    0.253115    0.961803    1.202031   -0.237854    1.234028  \n",
       "max     97.041138   11.857512   36.169914  104.568871  264.055389   54.046719  "
      ]
     },
     "execution_count": 3,
     "metadata": {},
     "output_type": "execute_result"
    }
   ],
   "source": [
    "df.describe()   "
   ]
  },
  {
   "cell_type": "code",
   "execution_count": 4,
   "id": "b7aae81d",
   "metadata": {},
   "outputs": [
    {
     "name": "stdout",
     "output_type": "stream",
     "text": [
      "<class 'pandas.core.frame.DataFrame'>\n",
      "RangeIndex: 672 entries, 0 to 671\n",
      "Data columns (total 11 columns):\n",
      " #   Column          Non-Null Count  Dtype  \n",
      "---  ------          --------------  -----  \n",
      " 0   PacketCounter   672 non-null    int64  \n",
      " 1   SampleTimeFine  672 non-null    int64  \n",
      " 2   Euler_X         672 non-null    float64\n",
      " 3   Euler_Y         672 non-null    float64\n",
      " 4   Euler_Z         672 non-null    float64\n",
      " 5   Acc_X           672 non-null    float64\n",
      " 6   Acc_Y           672 non-null    float64\n",
      " 7   Acc_Z           672 non-null    float64\n",
      " 8   Gyr_X           672 non-null    float64\n",
      " 9   Gyr_Y           672 non-null    float64\n",
      " 10  Gyr_Z           672 non-null    float64\n",
      "dtypes: float64(9), int64(2)\n",
      "memory usage: 57.9 KB\n"
     ]
    }
   ],
   "source": [
    "df.info()"
   ]
  },
  {
   "cell_type": "code",
   "execution_count": 5,
   "id": "6b613ba7",
   "metadata": {},
   "outputs": [
    {
     "data": {
      "text/plain": [
       "PacketCounter     0\n",
       "SampleTimeFine    0\n",
       "Euler_X           0\n",
       "Euler_Y           0\n",
       "Euler_Z           0\n",
       "Acc_X             0\n",
       "Acc_Y             0\n",
       "Acc_Z             0\n",
       "Gyr_X             0\n",
       "Gyr_Y             0\n",
       "Gyr_Z             0\n",
       "dtype: int64"
      ]
     },
     "execution_count": 5,
     "metadata": {},
     "output_type": "execute_result"
    }
   ],
   "source": [
    "df.isnull().sum()"
   ]
  },
  {
   "cell_type": "markdown",
   "id": "ec744bbe",
   "metadata": {},
   "source": [
    "**Right now I  only have SampleTimeFine tick counts. I have to convert it into real time axis**\n",
    "<p> SampleTimeFine Contains the timestamp of an output expressed in 1MHz clock ticks of the device’s local clock. <br>The unit of the SampleTimeFine is microsecond. If the data output rate is 60 Hz, the time interval between two SampleTimeFine is 16667 µs.</p>\n"
   ]
  },
  {
   "cell_type": "code",
   "execution_count": 6,
   "id": "2fddfa7c",
   "metadata": {},
   "outputs": [],
   "source": [
    "# I zero the clock at the first row, this makes all subsequent rows relative to test start\n",
    "df['real_ticks'] = df['SampleTimeFine'] - df['SampleTimeFine'].iloc[0] \n",
    "\n",
    "# Converting the ticks to seconds and milliseconds\n",
    "df['time_s'] = df['real_ticks'] * 1e-6\n",
    "\n",
    "# Convert seconds to milliseconds\n",
    "df['time_ms'] = df['time_s'] * 1000\n",
    "#  show the actual intervals between samples\n",
    "df['delta_ms'] = df['time_ms'].diff()"
   ]
  },
  {
   "cell_type": "code",
   "execution_count": 7,
   "id": "d2fe10f3",
   "metadata": {},
   "outputs": [
    {
     "data": {
      "application/vnd.microsoft.datawrangler.viewer.v0+json": {
       "columns": [
        {
         "name": "index",
         "rawType": "object",
         "type": "string"
        },
        {
         "name": "time_ms",
         "rawType": "float64",
         "type": "float"
        },
        {
         "name": "time_s",
         "rawType": "float64",
         "type": "float"
        },
        {
         "name": "delta_ms",
         "rawType": "float64",
         "type": "float"
        }
       ],
       "conversionMethod": "pd.DataFrame",
       "ref": "8661d648-9105-4434-b339-3a0c106325c5",
       "rows": [
        [
         "count",
         "672.0",
         "672.0",
         "671.0"
        ],
        [
         "mean",
         "5591.778499999999",
         "5.591778499999999",
         "16.666999999999998"
        ],
        [
         "std",
         "3235.6309506233865",
         "3.2356309506233862",
         "5.193369931040343e-13"
        ],
        [
         "min",
         "0.0",
         "0.0",
         "16.66699999999946"
        ],
        [
         "25%",
         "2795.8892499999997",
         "2.7958892499999997",
         "16.66699999999946"
        ],
        [
         "50%",
         "5591.778499999999",
         "5.591778499999999",
         "16.666999999999916"
        ],
        [
         "75%",
         "8387.667749999999",
         "8.387667749999999",
         "16.66700000000037"
        ],
        [
         "max",
         "11183.556999999999",
         "11.183556999999999",
         "16.66700000000128"
        ]
       ],
       "shape": {
        "columns": 3,
        "rows": 8
       }
      },
      "text/html": [
       "<div>\n",
       "<style scoped>\n",
       "    .dataframe tbody tr th:only-of-type {\n",
       "        vertical-align: middle;\n",
       "    }\n",
       "\n",
       "    .dataframe tbody tr th {\n",
       "        vertical-align: top;\n",
       "    }\n",
       "\n",
       "    .dataframe thead th {\n",
       "        text-align: right;\n",
       "    }\n",
       "</style>\n",
       "<table border=\"1\" class=\"dataframe\">\n",
       "  <thead>\n",
       "    <tr style=\"text-align: right;\">\n",
       "      <th></th>\n",
       "      <th>time_ms</th>\n",
       "      <th>time_s</th>\n",
       "      <th>delta_ms</th>\n",
       "    </tr>\n",
       "  </thead>\n",
       "  <tbody>\n",
       "    <tr>\n",
       "      <th>count</th>\n",
       "      <td>672.000000</td>\n",
       "      <td>672.000000</td>\n",
       "      <td>6.710000e+02</td>\n",
       "    </tr>\n",
       "    <tr>\n",
       "      <th>mean</th>\n",
       "      <td>5591.778500</td>\n",
       "      <td>5.591778</td>\n",
       "      <td>1.666700e+01</td>\n",
       "    </tr>\n",
       "    <tr>\n",
       "      <th>std</th>\n",
       "      <td>3235.630951</td>\n",
       "      <td>3.235631</td>\n",
       "      <td>5.193370e-13</td>\n",
       "    </tr>\n",
       "    <tr>\n",
       "      <th>min</th>\n",
       "      <td>0.000000</td>\n",
       "      <td>0.000000</td>\n",
       "      <td>1.666700e+01</td>\n",
       "    </tr>\n",
       "    <tr>\n",
       "      <th>25%</th>\n",
       "      <td>2795.889250</td>\n",
       "      <td>2.795889</td>\n",
       "      <td>1.666700e+01</td>\n",
       "    </tr>\n",
       "    <tr>\n",
       "      <th>50%</th>\n",
       "      <td>5591.778500</td>\n",
       "      <td>5.591778</td>\n",
       "      <td>1.666700e+01</td>\n",
       "    </tr>\n",
       "    <tr>\n",
       "      <th>75%</th>\n",
       "      <td>8387.667750</td>\n",
       "      <td>8.387668</td>\n",
       "      <td>1.666700e+01</td>\n",
       "    </tr>\n",
       "    <tr>\n",
       "      <th>max</th>\n",
       "      <td>11183.557000</td>\n",
       "      <td>11.183557</td>\n",
       "      <td>1.666700e+01</td>\n",
       "    </tr>\n",
       "  </tbody>\n",
       "</table>\n",
       "</div>"
      ],
      "text/plain": [
       "            time_ms      time_s      delta_ms\n",
       "count    672.000000  672.000000  6.710000e+02\n",
       "mean    5591.778500    5.591778  1.666700e+01\n",
       "std     3235.630951    3.235631  5.193370e-13\n",
       "min        0.000000    0.000000  1.666700e+01\n",
       "25%     2795.889250    2.795889  1.666700e+01\n",
       "50%     5591.778500    5.591778  1.666700e+01\n",
       "75%     8387.667750    8.387668  1.666700e+01\n",
       "max    11183.557000   11.183557  1.666700e+01"
      ]
     },
     "execution_count": 7,
     "metadata": {},
     "output_type": "execute_result"
    }
   ],
   "source": [
    "df[['time_ms', 'time_s', 'delta_ms']].describe()"
   ]
  },
  {
   "cell_type": "markdown",
   "id": "45b3e0c7",
   "metadata": {},
   "source": [
    "**Delta_ms is  16.667 ms,  IMU was sampling at  60 Hz**"
   ]
  },
  {
   "cell_type": "code",
   "execution_count": 8,
   "id": "655c1508",
   "metadata": {},
   "outputs": [
    {
     "name": "stdout",
     "output_type": "stream",
     "text": [
      "Sampling frequency: 59.99880002399953 Hz\n"
     ]
    }
   ],
   "source": [
    "# Frequency Calculation:\n",
    "# Find out how fast they sampled\n",
    "mean_delta_ms = df['delta_ms'].mean()\n",
    "fs = 1000.0 / mean_delta_ms\n",
    "print(f\"Sampling frequency: {fs} Hz\")"
   ]
  },
  {
   "cell_type": "code",
   "execution_count": 9,
   "id": "950e1cb0",
   "metadata": {},
   "outputs": [],
   "source": [
    "# 1. Find out how fast we sampled\n",
    "mean_delta_ms = df['delta_ms'].mean()"
   ]
  },
  {
   "cell_type": "code",
   "execution_count": 10,
   "id": "f8c92d6e",
   "metadata": {},
   "outputs": [
    {
     "name": "stdout",
     "output_type": "stream",
     "text": [
      "Z axis acceleration statistics of pelvis IMU vs Time in Seconds, Milliseconds and Delta in milliseconds:\n",
      "\n"
     ]
    },
    {
     "data": {
      "application/vnd.microsoft.datawrangler.viewer.v0+json": {
       "columns": [
        {
         "name": "index",
         "rawType": "object",
         "type": "string"
        },
        {
         "name": "time_ms",
         "rawType": "float64",
         "type": "float"
        },
        {
         "name": "time_s",
         "rawType": "float64",
         "type": "float"
        },
        {
         "name": "delta_ms",
         "rawType": "float64",
         "type": "float"
        },
        {
         "name": "Acc_Z",
         "rawType": "float64",
         "type": "float"
        }
       ],
       "conversionMethod": "pd.DataFrame",
       "ref": "7461276a-43ec-4522-a2a0-c0348abe98f8",
       "rows": [
        [
         "count",
         "672.0",
         "672.0",
         "671.0",
         "672.0"
        ],
        [
         "mean",
         "5591.778499999999",
         "5.591778499999999",
         "16.666999999999998",
         "1.0880222012163445"
        ],
        [
         "std",
         "3235.6309506233865",
         "3.2356309506233862",
         "5.193369931040343e-13",
         "3.0675287485227347"
        ],
        [
         "min",
         "0.0",
         "0.0",
         "16.66699999999946",
         "-7.11599445343018"
        ],
        [
         "25%",
         "2795.8892499999997",
         "2.7958892499999997",
         "16.66699999999946",
         "0.46208565682173"
        ],
        [
         "50%",
         "5591.778499999999",
         "5.591778499999999",
         "16.666999999999916",
         "0.527104765176775"
        ],
        [
         "75%",
         "8387.667749999999",
         "8.387667749999999",
         "16.66700000000037",
         "0.961802780628205"
        ],
        [
         "max",
         "11183.556999999999",
         "11.183556999999999",
         "16.66700000000128",
         "36.16991424560547"
        ]
       ],
       "shape": {
        "columns": 4,
        "rows": 8
       }
      },
      "text/html": [
       "<div>\n",
       "<style scoped>\n",
       "    .dataframe tbody tr th:only-of-type {\n",
       "        vertical-align: middle;\n",
       "    }\n",
       "\n",
       "    .dataframe tbody tr th {\n",
       "        vertical-align: top;\n",
       "    }\n",
       "\n",
       "    .dataframe thead th {\n",
       "        text-align: right;\n",
       "    }\n",
       "</style>\n",
       "<table border=\"1\" class=\"dataframe\">\n",
       "  <thead>\n",
       "    <tr style=\"text-align: right;\">\n",
       "      <th></th>\n",
       "      <th>time_ms</th>\n",
       "      <th>time_s</th>\n",
       "      <th>delta_ms</th>\n",
       "      <th>Acc_Z</th>\n",
       "    </tr>\n",
       "  </thead>\n",
       "  <tbody>\n",
       "    <tr>\n",
       "      <th>count</th>\n",
       "      <td>672.000000</td>\n",
       "      <td>672.000000</td>\n",
       "      <td>6.710000e+02</td>\n",
       "      <td>672.000000</td>\n",
       "    </tr>\n",
       "    <tr>\n",
       "      <th>mean</th>\n",
       "      <td>5591.778500</td>\n",
       "      <td>5.591778</td>\n",
       "      <td>1.666700e+01</td>\n",
       "      <td>1.088022</td>\n",
       "    </tr>\n",
       "    <tr>\n",
       "      <th>std</th>\n",
       "      <td>3235.630951</td>\n",
       "      <td>3.235631</td>\n",
       "      <td>5.193370e-13</td>\n",
       "      <td>3.067529</td>\n",
       "    </tr>\n",
       "    <tr>\n",
       "      <th>min</th>\n",
       "      <td>0.000000</td>\n",
       "      <td>0.000000</td>\n",
       "      <td>1.666700e+01</td>\n",
       "      <td>-7.115994</td>\n",
       "    </tr>\n",
       "    <tr>\n",
       "      <th>25%</th>\n",
       "      <td>2795.889250</td>\n",
       "      <td>2.795889</td>\n",
       "      <td>1.666700e+01</td>\n",
       "      <td>0.462086</td>\n",
       "    </tr>\n",
       "    <tr>\n",
       "      <th>50%</th>\n",
       "      <td>5591.778500</td>\n",
       "      <td>5.591778</td>\n",
       "      <td>1.666700e+01</td>\n",
       "      <td>0.527105</td>\n",
       "    </tr>\n",
       "    <tr>\n",
       "      <th>75%</th>\n",
       "      <td>8387.667750</td>\n",
       "      <td>8.387668</td>\n",
       "      <td>1.666700e+01</td>\n",
       "      <td>0.961803</td>\n",
       "    </tr>\n",
       "    <tr>\n",
       "      <th>max</th>\n",
       "      <td>11183.557000</td>\n",
       "      <td>11.183557</td>\n",
       "      <td>1.666700e+01</td>\n",
       "      <td>36.169914</td>\n",
       "    </tr>\n",
       "  </tbody>\n",
       "</table>\n",
       "</div>"
      ],
      "text/plain": [
       "            time_ms      time_s      delta_ms       Acc_Z\n",
       "count    672.000000  672.000000  6.710000e+02  672.000000\n",
       "mean    5591.778500    5.591778  1.666700e+01    1.088022\n",
       "std     3235.630951    3.235631  5.193370e-13    3.067529\n",
       "min        0.000000    0.000000  1.666700e+01   -7.115994\n",
       "25%     2795.889250    2.795889  1.666700e+01    0.462086\n",
       "50%     5591.778500    5.591778  1.666700e+01    0.527105\n",
       "75%     8387.667750    8.387668  1.666700e+01    0.961803\n",
       "max    11183.557000   11.183557  1.666700e+01   36.169914"
      ]
     },
     "execution_count": 10,
     "metadata": {},
     "output_type": "execute_result"
    }
   ],
   "source": [
    "print('Z axis acceleration statistics of pelvis IMU vs Time in Seconds, Milliseconds and Delta in milliseconds:\\n')\n",
    "df[['time_ms', 'time_s', 'delta_ms', 'Acc_Z']].describe()"
   ]
  },
  {
   "cell_type": "code",
   "execution_count": null,
   "id": "3353eab2",
   "metadata": {},
   "outputs": [
    {
     "data": {
      "image/png": "[encoded data removed]",
      "text/plain": [
       "<Figure size 640x480 with 1 Axes>"
      ]
     },
     "metadata": {},
     "output_type": "display_data"
    }
   ],
   "source": [
    "# Estimate my sampling frequency from the mean delta_ms\n",
    "mean_delta_ms = df['delta_ms'].mean()\n",
    "#  delta_ms is in milliseconds between samples (16.667 ms for 60 Hz data).\n",
    "fs = 1000.0 / mean_delta_ms\n",
    "# 1000 ms/s ÷ (ms/sample) = samples per second (Hz).\n",
    "\n",
    "# Design a 4th order low pass Butterworth at 10 Hz\n",
    "order = 4\n",
    "cutoff = 10.0        \n",
    "# I want to keep everything below 10 Hz\n",
    "nyquist = fs / 2.0   \n",
    "# Nyquist freq = half the sampling rate\n",
    "wn = cutoff / nyquist  \n",
    "# normalized cutoff (0…1) for digital design\n",
    "b, a = butter(order, wn, btype='low', analog=False)\n",
    "# butter() returns the filter coefficients for a stable, maximally‐flat passband :contentReference[oaicite:0]{index=0}.\n",
    "\n",
    "# Apply zero phase filtering to avoid phase‐shift\n",
    "df['Acc_Z_filt'] = filtfilt(b, a, df['Acc_Z'])\n",
    "#  filtfilt() runs the filter forward and backward, so your landing spike\n",
    "#  shows up at exactly the right time, with no delay.\n",
    "plt.figure()\n",
    "plt.title('Raw vs. Filtered Vertical Acceleration. Pelvis IMU')\n",
    "plt.plot(df['time_ms'], df['Acc_Z'],    label='raw')\n",
    "plt.plot(df['time_ms'], df['Acc_Z_filt'],label='filtered')\n",
    "plt.xlabel('Time (ms)')\n",
    "plt.ylabel('Vertical Accel (m/s²)')\n",
    "plt.legend()\n",
    "plt.show()\n"
   ]
  },
  {
   "cell_type": "code",
   "execution_count": 25,
   "id": "b04f8134",
   "metadata": {},
   "outputs": [],
   "source": [
    "def detect_events(df, col='Acc_Z_filt', td_sigma=2.0, to_sigma=0.5):\n",
    "    m = df[col].mean()\n",
    "    s = df[col].std()\n",
    "    td_th = m + td_sigma * s\n",
    "    to_th = m + to_sigma * s\n",
    "\n",
    "    idx_td = df.index[df[col] > td_th][0]\n",
    "    idx_to = df.index[(df.index > idx_td) & (df[col] < to_th)][0]\n",
    "\n",
    "    t_td = df.at[idx_td, 'time_ms']\n",
    "    t_to = df.at[idx_to, 'time_ms']\n",
    "    contact = t_to - t_td\n",
    "    peak    = df.loc[idx_td:idx_to, col].max()\n",
    "    return t_td, t_to, contact, peak"
   ]
  },
  {
   "cell_type": "code",
   "execution_count": null,
   "id": "7c5c9738",
   "metadata": {},
   "outputs": [
    {
     "name": "stdout",
     "output_type": "stream",
     "text": [
      "Top 2 Landing Spikes:\n",
      "  • 27.1 m/s² at 7100.1 ms\n",
      "  • 15.9 m/s² at 7633.5 ms\n",
      "Top 2 Falling Dips:\n",
      "  • -9.5 m/s² at 7166.8 ms\n",
      "  • -6.1 m/s² at 7016.8 ms\n"
     ]
    }
   ],
   "source": [
    "#  Find landing spikes\n",
    "peaks, peak_props = find_peaks(df['Acc_Z_filt'])\n",
    "peak_heights = df['Acc_Z_filt'].iloc[peaks].values\n",
    "\n",
    "# Sort peaks by height descending and pick the top two\n",
    "sorted_peak_idx = np.argsort(peak_heights)[::-1]\n",
    "top2_peaks = peaks[sorted_peak_idx[:2]]\n",
    "\n",
    "inv_signal = -df['Acc_Z_filt']\n",
    "troughs, trough_props = find_peaks(inv_signal)\n",
    "trough_depths = inv_signal.iloc[troughs].values  \n",
    "\n",
    "sorted_trough_idx = np.argsort(trough_depths)[::-1]\n",
    "top2_troughs = troughs[sorted_trough_idx[:2]]\n",
    "\n",
    "# Lookup their times and values\n",
    "landing_times = df['time_ms'].iloc[top2_peaks].to_list()\n",
    "landing_vals  = df['Acc_Z_filt'].iloc[top2_peaks].to_list()\n",
    "falling_times = df['time_ms'].iloc[top2_troughs].to_list()\n",
    "falling_vals  = df['Acc_Z_filt'].iloc[top2_troughs].to_list()\n",
    "\n",
    "print(\"Top 2 Landing Spikes:\")\n",
    "for t, v in zip(landing_times, landing_vals):\n",
    "    print(f\"  • {v:.1f} m/s² at {t:.1f} ms\")\n",
    "\n",
    "print(\"Top 2 Falling Dips:\")\n",
    "for t, v in zip(falling_times, falling_vals):\n",
    "    print(f\"  • {v:.1f} m/s² at {t:.1f} ms\")\n"
   ]
  },
  {
   "cell_type": "code",
   "execution_count": 12,
   "id": "06afdb67",
   "metadata": {},
   "outputs": [
    {
     "name": "stdout",
     "output_type": "stream",
     "text": [
      "          Euler_X     Euler_Y     Euler_Z\n",
      "count  672.000000  672.000000  672.000000\n",
      "mean    22.640520  -84.096835   24.063761\n",
      "std     19.051348    4.889810   16.912265\n",
      "min    -29.075811  -86.880089    5.841342\n",
      "25%     10.542409  -86.716644    9.529317\n",
      "50%     16.616342  -86.474781   25.971560\n",
      "75%     40.421697  -83.752531   31.667243\n",
      "max     44.069973  -59.816448   73.895164\n"
     ]
    }
   ],
   "source": [
    "# let's check statistics of the Euler angles\n",
    "df['Euler_X'] = pd.to_numeric(df['Euler_X'], errors='coerce')\n",
    "df['Euler_Y'] = pd.to_numeric(df['Euler_Y'], errors='coerce')\n",
    "df['Euler_Z'] = pd.to_numeric(df['Euler_Z'], errors='coerce')\n",
    "print(df[['Euler_X', 'Euler_Y', 'Euler_Z']].describe())     "
   ]
  },
  {
   "cell_type": "markdown",
   "id": "ca973c6d",
   "metadata": {},
   "source": [
    "**Mean gives the average angle (typical position).**\n",
    "\n",
    "**Range tells how extreme the angles get (the limits of the motion).**\n",
    "\n",
    "**Standard Deviation tells the consistency or variability of the movement.**"
   ]
  },
  {
   "cell_type": "markdown",
   "id": "950ccad1",
   "metadata": {},
   "source": [
    "**Euler_X Forward/Backward Tilt** (−29.08° to 44.07°): high standard deviation. It means that sometimes the athlete leans way more or even a little backwards<br>\n",
    "**Euler_Y Measures side-to-side tilt** (how much one side is lower or higher than the other). The average –84.10° seems odd, but it has lower standard deviation only about 4.89° variation which means the athlete’s side-to-side motion is stable.<br>\n",
    "**Euler_Z Rotational Twist** average around 24.06° and a wide range (from roughly 5.84° to almost 74°), there’s significant variation. "
   ]
  },
  {
   "cell_type": "code",
   "execution_count": 13,
   "id": "7eb4ccdd",
   "metadata": {},
   "outputs": [
    {
     "name": "stdout",
     "output_type": "stream",
     "text": [
      "          Euler_X   Euler_Y   Euler_Z\n",
      "Euler_X  1.000000 -0.497659 -0.981369\n",
      "Euler_Y -0.497659  1.000000  0.505301\n",
      "Euler_Z -0.981369  0.505301  1.000000\n"
     ]
    },
    {
     "data": {
      "image/png": "[encoded data removed]",
      "text/plain": [
       "<Figure size 640x480 with 2 Axes>"
      ]
     },
     "metadata": {},
     "output_type": "display_data"
    }
   ],
   "source": [
    "# Let's find the correlation between the Euler angles   \n",
    "corr = df[['Euler_X', 'Euler_Y', 'Euler_Z']].corr()\n",
    "print(corr)\n",
    "sns.heatmap(corr, annot=True, cmap='coolwarm')\n",
    "plt.title('Correlation between Euler angles')\n",
    "plt.show()"
   ]
  },
  {
   "cell_type": "markdown",
   "id": "1e682483",
   "metadata": {},
   "source": [
    "**Euler_X & Euler_Z** high negative correlation (when one angle goes up, the other goes down) which means if the pelvis tilts more forward, it tends to twist less, or vice versa<br>\n",
    "**Euler_X & Euler_Y** moderate negative relationship between forward/backward tilt (X) and side-to-side tilt (Y). If an athlete tilts forward more than usual, they might slightly reduce dropping one hip lower/higher<br>\n",
    "**Euler_Y & Euler_Z (+0.51)** As the pelvis tilts more to one side (Y), it also tends to twist (Z) in the same direction to some extent."
   ]
  },
  {
   "cell_type": "markdown",
   "id": "18a4be5c",
   "metadata": {},
   "source": [
    "# Accelerations"
   ]
  },
  {
   "cell_type": "markdown",
   "id": "5fff5bb5",
   "metadata": {},
   "source": [
    "**The peak accelerations (max values) can tell you how hard the athlete hits the ground.**"
   ]
  },
  {
   "cell_type": "code",
   "execution_count": 14,
   "id": "5acf9b37",
   "metadata": {},
   "outputs": [
    {
     "name": "stdout",
     "output_type": "stream",
     "text": [
      "            Acc_X       Acc_Y       Acc_Z\n",
      "count  672.000000  672.000000  672.000000\n",
      "mean     9.744938    0.117191    1.088022\n",
      "std      5.866193    1.182763    3.067529\n",
      "min    -17.715855  -10.045979   -7.115994\n",
      "25%      9.774590    0.123954    0.462086\n",
      "50%      9.808512    0.216319    0.527105\n",
      "75%      9.839744    0.253115    0.961803\n",
      "max     97.041138   11.857512   36.169914\n"
     ]
    }
   ],
   "source": [
    "# let's find acceleration statistics    \n",
    "df['Acc_X'] = pd.to_numeric(df['Acc_X'], errors='coerce')\n",
    "df['Acc_Y'] = pd.to_numeric(df['Acc_Y'], errors='coerce')\n",
    "df['Acc_Z'] = pd.to_numeric(df['Acc_Z'], errors='coerce')\n",
    "print(df[['Acc_X', 'Acc_Y', 'Acc_Z']].describe())"
   ]
  },
  {
   "cell_type": "code",
   "execution_count": 15,
   "id": "092047a2",
   "metadata": {},
   "outputs": [
    {
     "data": {
      "text/plain": [
       "count    672.000000\n",
       "mean      10.330275\n",
       "std        5.886588\n",
       "min        0.000000\n",
       "25%        9.806069\n",
       "50%        9.830605\n",
       "75%        9.868213\n",
       "max      102.855957\n",
       "dtype: float64"
      ]
     },
     "execution_count": 15,
     "metadata": {},
     "output_type": "execute_result"
    }
   ],
   "source": [
    "acc_magnitude = np.sqrt(df[\"Acc_X\"]**2 + df[\"Acc_Y\"]**2 + df[\"Acc_Z\"]**2)\n",
    "\n",
    "acc_magnitude.describe()"
   ]
  },
  {
   "cell_type": "markdown",
   "id": "68a344d4",
   "metadata": {},
   "source": [
    "# Gyroscope"
   ]
  },
  {
   "cell_type": "markdown",
   "id": "f59c57ca",
   "metadata": {},
   "source": [
    "**A gyroscope in an IMU sensor measures angular velocity how fast (and in which direction)**"
   ]
  },
  {
   "cell_type": "markdown",
   "id": "5b47089a",
   "metadata": {},
   "source": [
    "**Gyr_X: Rotation around the X-axis (e.g., forward/backward tilting speed).**\n",
    "\n",
    "**Gyr_Y: Rotation around the Y-axis (side-to-side tilting speed).**\n",
    "\n",
    "**Gyr_Z: Rotation around the Z-axis (twisting speed).**"
   ]
  },
  {
   "cell_type": "code",
   "execution_count": 16,
   "id": "82c518f4",
   "metadata": {},
   "outputs": [
    {
     "name": "stdout",
     "output_type": "stream",
     "text": [
      "            Gyr_X       Gyr_Y       Gyr_Z\n",
      "count  672.000000  672.000000  672.000000\n",
      "mean    -0.114339   -0.945516    0.231364\n",
      "std     16.972732   30.346702    9.994962\n",
      "min   -150.107513 -340.759583  -92.757011\n",
      "25%     -0.593726   -1.925177    0.327521\n",
      "50%      0.513163   -1.002334    0.675055\n",
      "75%      1.202031   -0.237854    1.234028\n",
      "max    104.568871  264.055389   54.046719\n"
     ]
    }
   ],
   "source": [
    "# let's find thr statistics of the gyroscope    \n",
    "df['Gyr_X'] = pd.to_numeric(df['Gyr_X'], errors='coerce')\n",
    "df['Gyr_Y'] = pd.to_numeric(df['Gyr_Y'], errors='coerce')\n",
    "df['Gyr_Z'] = pd.to_numeric(df['Gyr_Z'], errors='coerce')\n",
    "print(df[['Gyr_X', 'Gyr_Y', 'Gyr_Z']].describe())\n"
   ]
  },
  {
   "cell_type": "code",
   "execution_count": 17,
   "id": "94e4ebb9",
   "metadata": {},
   "outputs": [
    {
     "name": "stdout",
     "output_type": "stream",
     "text": [
      "            Gyr_X     Gyr_Y     Gyr_Z     Acc_X     Acc_Y     Acc_Z   Euler_X  \\\n",
      "Gyr_X    1.000000  0.022368  0.073021 -0.339250 -0.160966 -0.200499  0.042922   \n",
      "Gyr_Y    0.022368  1.000000 -0.116931 -0.158157  0.085517  0.254390 -0.000346   \n",
      "Gyr_Z    0.073021 -0.116931  1.000000  0.014253  0.198004 -0.302241  0.038458   \n",
      "Acc_X   -0.339250 -0.158157  0.014253  1.000000 -0.130161  0.402392 -0.050705   \n",
      "Acc_Y   -0.160966  0.085517  0.198004 -0.130161  1.000000 -0.107368  0.185147   \n",
      "Acc_Z   -0.200499  0.254390 -0.302241  0.402392 -0.107368  1.000000 -0.165442   \n",
      "Euler_X  0.042922 -0.000346  0.038458 -0.050705  0.185147 -0.165442  1.000000   \n",
      "Euler_Y -0.298204  0.045729 -0.260039  0.192837  0.009624  0.457560 -0.497659   \n",
      "Euler_Z -0.035879  0.055358 -0.044625  0.035563 -0.161940  0.136230 -0.981369   \n",
      "\n",
      "          Euler_Y   Euler_Z  \n",
      "Gyr_X   -0.298204 -0.035879  \n",
      "Gyr_Y    0.045729  0.055358  \n",
      "Gyr_Z   -0.260039 -0.044625  \n",
      "Acc_X    0.192837  0.035563  \n",
      "Acc_Y    0.009624 -0.161940  \n",
      "Acc_Z    0.457560  0.136230  \n",
      "Euler_X -0.497659 -0.981369  \n",
      "Euler_Y  1.000000  0.505301  \n",
      "Euler_Z  0.505301  1.000000  \n"
     ]
    },
    {
     "data": {
      "image/png": "[encoded data removed]",
      "text/plain": [
       "<Figure size 640x480 with 2 Axes>"
      ]
     },
     "metadata": {},
     "output_type": "display_data"
    }
   ],
   "source": [
    "# Find the correlation between the gyroscope, acceleration  and Euler angles    \n",
    "corr = df[['Gyr_X', 'Gyr_Y', 'Gyr_Z', 'Acc_X', 'Acc_Y', 'Acc_Z', 'Euler_X', 'Euler_Y', 'Euler_Z']].corr()\n",
    "print(corr)\n",
    "sns.heatmap(corr, annot=True, cmap='coolwarm')\n",
    "plt.title('Correlation between gyroscope, acceleration and Euler angles')\n",
    "plt.show()"
   ]
  },
  {
   "cell_type": "code",
   "execution_count": 18,
   "id": "c80a48f0",
   "metadata": {},
   "outputs": [
    {
     "data": {
      "text/plain": [
       "(672, 16)"
      ]
     },
     "execution_count": 18,
     "metadata": {},
     "output_type": "execute_result"
    }
   ],
   "source": [
    "df.shape"
   ]
  },
  {
   "cell_type": "code",
   "execution_count": null,
   "id": "52a13f02",
   "metadata": {},
   "outputs": [],
   "source": []
  }
 ],
 "metadata": {
  "kernelspec": {
   "display_name": ".venv",
   "language": "python",
   "name": "python3"
  },
  "language_info": {
   "codemirror_mode": {
    "name": "ipython",
    "version": 3
   },
   "file_extension": ".py",
   "mimetype": "text/x-python",
   "name": "python",
   "nbconvert_exporter": "python",
   "pygments_lexer": "ipython3",
   "version": "3.10.11"
  }
 },
 "nbformat": 4,
 "nbformat_minor": 5
}
