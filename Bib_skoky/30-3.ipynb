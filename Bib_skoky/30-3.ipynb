{
 "cells": [
  {
   "cell_type": "code",
   "execution_count": 4,
   "id": "4a7de8f6",
   "metadata": {},
   "outputs": [],
   "source": [
    "import pandas as pd\n",
    "import numpy as np\n",
    "import seaborn as sns\n",
    "import scipy.stats as stats\n",
    "import matplotlib.pyplot as plt\n",
    "from scipy.signal import butter, filtfilt\n",
    "from scipy.spatial.transform import Rotation as R"
   ]
  },
  {
   "cell_type": "code",
   "execution_count": 5,
   "id": "48925754",
   "metadata": {},
   "outputs": [],
   "source": [
    "pelvis = pd.read_csv('David-30-pokus03/Xsens_DOT_2_D422CD006474_20250409_104535.csv', skiprows= 7,  sep=',')\n",
    "right = pd.read_csv('David-30-pokus03/Xsens_DOT_4_D422CD006380_20250409_104535.csv', skiprows= 7,  sep=',')\n",
    "left = pd.read_csv('David-30-pokus03/Xsens_DOT_3_D422CD006379_20250409_104535.csv', skiprows= 7,  sep=',')"
   ]
  },
  {
   "cell_type": "code",
   "execution_count": 7,
   "id": "fb5b622a",
   "metadata": {},
   "outputs": [],
   "source": [
    "# I zero the clock at the first row, this makes all subsequent rows relative to test start\n",
    "right['real_ticks'] = right['SampleTimeFine'] - right['SampleTimeFine'].iloc[0] \n",
    "\n",
    "# Converting the ticks to seconds and milliseconds\n",
    "right['time_s'] = right['real_ticks'] * 1e-6\n",
    "\n",
    "# Convert seconds to milliseconds\n",
    "right['time_ms'] = right['time_s'] * 1000\n",
    "#  show the actual intervals between samples\n",
    "right['delta_ms'] = right['time_ms'].diff()\n",
    "\n",
    "# I zero the clock at the first row, this makes all subsequent rows relative to test start\n",
    "left['real_ticks'] = left['SampleTimeFine'] - left['SampleTimeFine'].iloc[0] \n",
    "\n",
    "# Converting the ticks to seconds and milliseconds\n",
    "left['time_s'] = left['real_ticks'] * 1e-6\n",
    "\n",
    "# Convert seconds to milliseconds\n",
    "left['time_ms'] = left['time_s'] * 1000\n",
    "#  show the actual intervals between samples\n",
    "left['delta_ms'] = left['time_ms'].diff()\n",
    "\n",
    "\n",
    "# I zero the clock at the first row, this makes all subsequent rows relative to test start\n",
    "pelvis['real_ticks'] = pelvis['SampleTimeFine'] - pelvis['SampleTimeFine'].iloc[0] \n",
    "\n",
    "# Converting the ticks to seconds and milliseconds\n",
    "pelvis['time_s'] = pelvis['real_ticks'] * 1e-6\n",
    "\n",
    "# Convert seconds to milliseconds\n",
    "pelvis['time_ms'] = pelvis['time_s'] * 1000\n",
    "#  show the actual intervals between samples\n",
    "pelvis['delta_ms'] = pelvis['time_ms'].diff()"
   ]
  },
  {
   "cell_type": "code",
   "execution_count": 12,
   "id": "b1c9f62a",
   "metadata": {},
   "outputs": [
    {
     "data": {
      "application/vnd.microsoft.datawrangler.viewer.v0+json": {
       "columns": [
        {
         "name": "index",
         "rawType": "object",
         "type": "string"
        },
        {
         "name": "Acc_Z",
         "rawType": "float64",
         "type": "float"
        },
        {
         "name": "time_ms",
         "rawType": "float64",
         "type": "float"
        }
       ],
       "conversionMethod": "pd.DataFrame",
       "ref": "52509e3f-b796-4407-acbc-3dc67232ea92",
       "rows": [
        [
         "count",
         "714.0",
         "714.0"
        ],
        [
         "mean",
         "0.4304360224805376",
         "5941.7855"
        ],
        [
         "std",
         "6.302065195352864",
         "3437.707638860888"
        ],
        [
         "min",
         "-91.2397689819336",
         "0.0"
        ],
        [
         "25%",
         "0.76766747236252",
         "2970.89275"
        ],
        [
         "50%",
         "0.868467301130295",
         "5941.7855"
        ],
        [
         "75%",
         "0.959482997655865",
         "8912.67825"
        ],
        [
         "max",
         "55.86001586914062",
         "11883.571"
        ]
       ],
       "shape": {
        "columns": 2,
        "rows": 8
       }
      },
      "text/html": [
       "<div>\n",
       "<style scoped>\n",
       "    .dataframe tbody tr th:only-of-type {\n",
       "        vertical-align: middle;\n",
       "    }\n",
       "\n",
       "    .dataframe tbody tr th {\n",
       "        vertical-align: top;\n",
       "    }\n",
       "\n",
       "    .dataframe thead th {\n",
       "        text-align: right;\n",
       "    }\n",
       "</style>\n",
       "<table border=\"1\" class=\"dataframe\">\n",
       "  <thead>\n",
       "    <tr style=\"text-align: right;\">\n",
       "      <th></th>\n",
       "      <th>Acc_Z</th>\n",
       "      <th>time_ms</th>\n",
       "    </tr>\n",
       "  </thead>\n",
       "  <tbody>\n",
       "    <tr>\n",
       "      <th>count</th>\n",
       "      <td>714.000000</td>\n",
       "      <td>714.000000</td>\n",
       "    </tr>\n",
       "    <tr>\n",
       "      <th>mean</th>\n",
       "      <td>0.430436</td>\n",
       "      <td>5941.785500</td>\n",
       "    </tr>\n",
       "    <tr>\n",
       "      <th>std</th>\n",
       "      <td>6.302065</td>\n",
       "      <td>3437.707639</td>\n",
       "    </tr>\n",
       "    <tr>\n",
       "      <th>min</th>\n",
       "      <td>-91.239769</td>\n",
       "      <td>0.000000</td>\n",
       "    </tr>\n",
       "    <tr>\n",
       "      <th>25%</th>\n",
       "      <td>0.767667</td>\n",
       "      <td>2970.892750</td>\n",
       "    </tr>\n",
       "    <tr>\n",
       "      <th>50%</th>\n",
       "      <td>0.868467</td>\n",
       "      <td>5941.785500</td>\n",
       "    </tr>\n",
       "    <tr>\n",
       "      <th>75%</th>\n",
       "      <td>0.959483</td>\n",
       "      <td>8912.678250</td>\n",
       "    </tr>\n",
       "    <tr>\n",
       "      <th>max</th>\n",
       "      <td>55.860016</td>\n",
       "      <td>11883.571000</td>\n",
       "    </tr>\n",
       "  </tbody>\n",
       "</table>\n",
       "</div>"
      ],
      "text/plain": [
       "            Acc_Z       time_ms\n",
       "count  714.000000    714.000000\n",
       "mean     0.430436   5941.785500\n",
       "std      6.302065   3437.707639\n",
       "min    -91.239769      0.000000\n",
       "25%      0.767667   2970.892750\n",
       "50%      0.868467   5941.785500\n",
       "75%      0.959483   8912.678250\n",
       "max     55.860016  11883.571000"
      ]
     },
     "execution_count": 12,
     "metadata": {},
     "output_type": "execute_result"
    }
   ],
   "source": [
    "right[['Acc_Z', 'time_ms']].describe()"
   ]
  },
  {
   "cell_type": "code",
   "execution_count": 13,
   "id": "c298132c",
   "metadata": {},
   "outputs": [
    {
     "data": {
      "application/vnd.microsoft.datawrangler.viewer.v0+json": {
       "columns": [
        {
         "name": "index",
         "rawType": "object",
         "type": "string"
        },
        {
         "name": "Acc_Z",
         "rawType": "float64",
         "type": "float"
        },
        {
         "name": "time_ms",
         "rawType": "float64",
         "type": "float"
        }
       ],
       "conversionMethod": "pd.DataFrame",
       "ref": "7b17ac64-b34f-4810-810e-fbfcc4bd5c1a",
       "rows": [
        [
         "count",
         "714.0",
         "714.0"
        ],
        [
         "mean",
         "-0.8741587792570161",
         "5941.7855"
        ],
        [
         "std",
         "7.1055865122752415",
         "3437.707638860888"
        ],
        [
         "min",
         "-108.11607360839844",
         "0.0"
        ],
        [
         "25%",
         "-0.41320338845252746",
         "2970.89275"
        ],
        [
         "50%",
         "-0.224769741296765",
         "5941.7855"
        ],
        [
         "75%",
         "-0.1148960907012225",
         "8912.67825"
        ],
        [
         "max",
         "81.41768646240234",
         "11883.571"
        ]
       ],
       "shape": {
        "columns": 2,
        "rows": 8
       }
      },
      "text/html": [
       "<div>\n",
       "<style scoped>\n",
       "    .dataframe tbody tr th:only-of-type {\n",
       "        vertical-align: middle;\n",
       "    }\n",
       "\n",
       "    .dataframe tbody tr th {\n",
       "        vertical-align: top;\n",
       "    }\n",
       "\n",
       "    .dataframe thead th {\n",
       "        text-align: right;\n",
       "    }\n",
       "</style>\n",
       "<table border=\"1\" class=\"dataframe\">\n",
       "  <thead>\n",
       "    <tr style=\"text-align: right;\">\n",
       "      <th></th>\n",
       "      <th>Acc_Z</th>\n",
       "      <th>time_ms</th>\n",
       "    </tr>\n",
       "  </thead>\n",
       "  <tbody>\n",
       "    <tr>\n",
       "      <th>count</th>\n",
       "      <td>714.000000</td>\n",
       "      <td>714.000000</td>\n",
       "    </tr>\n",
       "    <tr>\n",
       "      <th>mean</th>\n",
       "      <td>-0.874159</td>\n",
       "      <td>5941.785500</td>\n",
       "    </tr>\n",
       "    <tr>\n",
       "      <th>std</th>\n",
       "      <td>7.105587</td>\n",
       "      <td>3437.707639</td>\n",
       "    </tr>\n",
       "    <tr>\n",
       "      <th>min</th>\n",
       "      <td>-108.116074</td>\n",
       "      <td>0.000000</td>\n",
       "    </tr>\n",
       "    <tr>\n",
       "      <th>25%</th>\n",
       "      <td>-0.413203</td>\n",
       "      <td>2970.892750</td>\n",
       "    </tr>\n",
       "    <tr>\n",
       "      <th>50%</th>\n",
       "      <td>-0.224770</td>\n",
       "      <td>5941.785500</td>\n",
       "    </tr>\n",
       "    <tr>\n",
       "      <th>75%</th>\n",
       "      <td>-0.114896</td>\n",
       "      <td>8912.678250</td>\n",
       "    </tr>\n",
       "    <tr>\n",
       "      <th>max</th>\n",
       "      <td>81.417686</td>\n",
       "      <td>11883.571000</td>\n",
       "    </tr>\n",
       "  </tbody>\n",
       "</table>\n",
       "</div>"
      ],
      "text/plain": [
       "            Acc_Z       time_ms\n",
       "count  714.000000    714.000000\n",
       "mean    -0.874159   5941.785500\n",
       "std      7.105587   3437.707639\n",
       "min   -108.116074      0.000000\n",
       "25%     -0.413203   2970.892750\n",
       "50%     -0.224770   5941.785500\n",
       "75%     -0.114896   8912.678250\n",
       "max     81.417686  11883.571000"
      ]
     },
     "execution_count": 13,
     "metadata": {},
     "output_type": "execute_result"
    }
   ],
   "source": [
    "left[['Acc_Z', 'time_ms']].describe()"
   ]
  },
  {
   "cell_type": "code",
   "execution_count": 14,
   "id": "b34d72e6",
   "metadata": {},
   "outputs": [
    {
     "data": {
      "application/vnd.microsoft.datawrangler.viewer.v0+json": {
       "columns": [
        {
         "name": "index",
         "rawType": "object",
         "type": "string"
        },
        {
         "name": "Acc_Z",
         "rawType": "float64",
         "type": "float"
        },
        {
         "name": "time_ms",
         "rawType": "float64",
         "type": "float"
        }
       ],
       "conversionMethod": "pd.DataFrame",
       "ref": "4054ce5e-5b5d-4150-bee5-e442890fef00",
       "rows": [
        [
         "count",
         "714.0",
         "714.0"
        ],
        [
         "mean",
         "0.49388033072777215",
         "5941.7855"
        ],
        [
         "std",
         "2.22258111264739",
         "3437.707638860888"
        ],
        [
         "min",
         "-17.71142959594727",
         "0.0"
        ],
        [
         "25%",
         "0.022424491122364998",
         "2970.89275"
        ],
        [
         "50%",
         "0.530346482992175",
         "5941.7855"
        ],
        [
         "75%",
         "0.5952533632516825",
         "8912.67825"
        ],
        [
         "max",
         "24.35205268859863",
         "11883.571"
        ]
       ],
       "shape": {
        "columns": 2,
        "rows": 8
       }
      },
      "text/html": [
       "<div>\n",
       "<style scoped>\n",
       "    .dataframe tbody tr th:only-of-type {\n",
       "        vertical-align: middle;\n",
       "    }\n",
       "\n",
       "    .dataframe tbody tr th {\n",
       "        vertical-align: top;\n",
       "    }\n",
       "\n",
       "    .dataframe thead th {\n",
       "        text-align: right;\n",
       "    }\n",
       "</style>\n",
       "<table border=\"1\" class=\"dataframe\">\n",
       "  <thead>\n",
       "    <tr style=\"text-align: right;\">\n",
       "      <th></th>\n",
       "      <th>Acc_Z</th>\n",
       "      <th>time_ms</th>\n",
       "    </tr>\n",
       "  </thead>\n",
       "  <tbody>\n",
       "    <tr>\n",
       "      <th>count</th>\n",
       "      <td>714.000000</td>\n",
       "      <td>714.000000</td>\n",
       "    </tr>\n",
       "    <tr>\n",
       "      <th>mean</th>\n",
       "      <td>0.493880</td>\n",
       "      <td>5941.785500</td>\n",
       "    </tr>\n",
       "    <tr>\n",
       "      <th>std</th>\n",
       "      <td>2.222581</td>\n",
       "      <td>3437.707639</td>\n",
       "    </tr>\n",
       "    <tr>\n",
       "      <th>min</th>\n",
       "      <td>-17.711430</td>\n",
       "      <td>0.000000</td>\n",
       "    </tr>\n",
       "    <tr>\n",
       "      <th>25%</th>\n",
       "      <td>0.022424</td>\n",
       "      <td>2970.892750</td>\n",
       "    </tr>\n",
       "    <tr>\n",
       "      <th>50%</th>\n",
       "      <td>0.530346</td>\n",
       "      <td>5941.785500</td>\n",
       "    </tr>\n",
       "    <tr>\n",
       "      <th>75%</th>\n",
       "      <td>0.595253</td>\n",
       "      <td>8912.678250</td>\n",
       "    </tr>\n",
       "    <tr>\n",
       "      <th>max</th>\n",
       "      <td>24.352053</td>\n",
       "      <td>11883.571000</td>\n",
       "    </tr>\n",
       "  </tbody>\n",
       "</table>\n",
       "</div>"
      ],
      "text/plain": [
       "            Acc_Z       time_ms\n",
       "count  714.000000    714.000000\n",
       "mean     0.493880   5941.785500\n",
       "std      2.222581   3437.707639\n",
       "min    -17.711430      0.000000\n",
       "25%      0.022424   2970.892750\n",
       "50%      0.530346   5941.785500\n",
       "75%      0.595253   8912.678250\n",
       "max     24.352053  11883.571000"
      ]
     },
     "execution_count": 14,
     "metadata": {},
     "output_type": "execute_result"
    }
   ],
   "source": [
    "pelvis[['Acc_Z', 'time_ms']].describe()"
   ]
  },
  {
   "cell_type": "code",
   "execution_count": 15,
   "id": "074ee653",
   "metadata": {},
   "outputs": [
    {
     "data": {
      "text/plain": [
       "<Axes: title={'center': 'Pelvis Acc Z vs Time'}, xlabel='time_ms'>"
      ]
     },
     "execution_count": 15,
     "metadata": {},
     "output_type": "execute_result"
    },
    {
     "data": {
      "image/png": "[encoded data removed]",
      "text/plain": [
       "<Figure size 1500x500 with 1 Axes>"
      ]
     },
     "metadata": {},
     "output_type": "display_data"
    },
    {
     "data": {
      "image/png": "[encoded data removed]",
      "text/plain": [
       "<Figure size 1500x500 with 1 Axes>"
      ]
     },
     "metadata": {},
     "output_type": "display_data"
    },
    {
     "data": {
      "image/png": "[encoded data removed]",
      "text/plain": [
       "<Figure size 1500x500 with 1 Axes>"
      ]
     },
     "metadata": {},
     "output_type": "display_data"
    }
   ],
   "source": [
    "# visualize the data and find the connection between the accelerometer  and times \n",
    "left.plot(x='time_ms', y='Acc_Z', title='Left Acc Z vs Time', figsize=(15, 5), color='blue')\n",
    "right.plot(x='time_ms', y='Acc_Z', title='Right Acc Z vs Time', figsize=(15, 5), color='red')\n",
    "pelvis.plot(x='time_ms', y='Acc_Z', title='Pelvis Acc Z vs Time', figsize=(15, 5), color='green')"
   ]
  }
 ],
 "metadata": {
  "kernelspec": {
   "display_name": ".venv",
   "language": "python",
   "name": "python3"
  },
  "language_info": {
   "codemirror_mode": {
    "name": "ipython",
    "version": 3
   },
   "file_extension": ".py",
   "mimetype": "text/x-python",
   "name": "python",
   "nbconvert_exporter": "python",
   "pygments_lexer": "ipython3",
   "version": "3.10.11"
  }
 },
 "nbformat": 4,
 "nbformat_minor": 5
}
