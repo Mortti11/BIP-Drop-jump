{
 "cells": [
  {
   "cell_type": "code",
   "execution_count": 3,
   "id": "b9d7d709",
   "metadata": {},
   "outputs": [],
   "source": [
    "import pandas as pd\n",
    "import numpy as np\n",
    "import seaborn as sns\n",
    "import scipy.stats as stats\n",
    "import matplotlib.pyplot as plt\n",
    "from scipy.signal import butter, filtfilt\n",
    "from scipy.spatial.transform import Rotation as R"
   ]
  },
  {
   "cell_type": "code",
   "execution_count": 5,
   "id": "3ca7de53",
   "metadata": {},
   "outputs": [],
   "source": [
    "pelvis = pd.read_csv('David-30-pokus01-2Senzory/Xsens_DOT_2_D422CD006474_20250409_110429.csv', skiprows= 7,  sep=',')\n",
    "right = pd.read_csv('David-30-pokus01-2Senzory/Xsens_DOT_4_D422CD006380_20250409_110429.csv', skiprows= 7,  sep=',')\n",
    "left = pd.read_csv('David-30-pokus01-2Senzory/Xsens_DOT_3_D422CD006379_20250409_110429.csv', skiprows= 7,  sep=',')"
   ]
  },
  {
   "cell_type": "code",
   "execution_count": 6,
   "id": "97660555",
   "metadata": {},
   "outputs": [],
   "source": [
    "# I zero the clock at the first row, this makes all subsequent rows relative to test start\n",
    "right['real_ticks'] = right['SampleTimeFine'] - right['SampleTimeFine'].iloc[0] \n",
    "\n",
    "# Converting the ticks to seconds and milliseconds\n",
    "right['time_s'] = right['real_ticks'] * 1e-6\n",
    "\n",
    "# Convert seconds to milliseconds\n",
    "right['time_ms'] = right['time_s'] * 1000\n",
    "#  show the actual intervals between samples\n",
    "right['delta_ms'] = right['time_ms'].diff()"
   ]
  },
  {
   "cell_type": "code",
   "execution_count": 7,
   "id": "d80b41e9",
   "metadata": {},
   "outputs": [],
   "source": [
    "# I zero the clock at the first row, this makes all subsequent rows relative to test start\n",
    "left['real_ticks'] = left['SampleTimeFine'] - left['SampleTimeFine'].iloc[0] \n",
    "\n",
    "# Converting the ticks to seconds and milliseconds\n",
    "left['time_s'] = left['real_ticks'] * 1e-6\n",
    "\n",
    "# Convert seconds to milliseconds\n",
    "left['time_ms'] = left['time_s'] * 1000\n",
    "#  show the actual intervals between samples\n",
    "left['delta_ms'] = left['time_ms'].diff()"
   ]
  },
  {
   "cell_type": "code",
   "execution_count": 8,
   "id": "e4c03730",
   "metadata": {},
   "outputs": [],
   "source": [
    "# I zero the clock at the first row, this makes all subsequent rows relative to test start\n",
    "pelvis['real_ticks'] = pelvis['SampleTimeFine'] - pelvis['SampleTimeFine'].iloc[0] \n",
    "\n",
    "# Converting the ticks to seconds and milliseconds\n",
    "pelvis['time_s'] = pelvis['real_ticks'] * 1e-6\n",
    "\n",
    "# Convert seconds to milliseconds\n",
    "pelvis['time_ms'] = pelvis['time_s'] * 1000\n",
    "#  show the actual intervals between samples\n",
    "pelvis['delta_ms'] = pelvis['time_ms'].diff()"
   ]
  },
  {
   "cell_type": "code",
   "execution_count": 9,
   "id": "183cc144",
   "metadata": {},
   "outputs": [
    {
     "data": {
      "application/vnd.microsoft.datawrangler.viewer.v0+json": {
       "columns": [
        {
         "name": "index",
         "rawType": "object",
         "type": "string"
        },
        {
         "name": "Acc_Z",
         "rawType": "float64",
         "type": "float"
        },
        {
         "name": "time_ms",
         "rawType": "float64",
         "type": "float"
        }
       ],
       "conversionMethod": "pd.DataFrame",
       "ref": "4d4bd495-8ecb-4cd8-90b9-5077ca80d31d",
       "rows": [
        [
         "count",
         "672.0",
         "672.0"
        ],
        [
         "mean",
         "0.540381839277134",
         "5591.778499999999"
        ],
        [
         "std",
         "5.793029312813963",
         "3235.6309506233865"
        ],
        [
         "min",
         "-85.94263458251953",
         "0.0"
        ],
        [
         "25%",
         "0.781904324889185",
         "2795.8892499999997"
        ],
        [
         "50%",
         "1.125001549720765",
         "5591.778499999999"
        ],
        [
         "75%",
         "1.3719824552536026",
         "8387.667749999999"
        ],
        [
         "max",
         "59.18762969970703",
         "11183.556999999999"
        ]
       ],
       "shape": {
        "columns": 2,
        "rows": 8
       }
      },
      "text/html": [
       "<div>\n",
       "<style scoped>\n",
       "    .dataframe tbody tr th:only-of-type {\n",
       "        vertical-align: middle;\n",
       "    }\n",
       "\n",
       "    .dataframe tbody tr th {\n",
       "        vertical-align: top;\n",
       "    }\n",
       "\n",
       "    .dataframe thead th {\n",
       "        text-align: right;\n",
       "    }\n",
       "</style>\n",
       "<table border=\"1\" class=\"dataframe\">\n",
       "  <thead>\n",
       "    <tr style=\"text-align: right;\">\n",
       "      <th></th>\n",
       "      <th>Acc_Z</th>\n",
       "      <th>time_ms</th>\n",
       "    </tr>\n",
       "  </thead>\n",
       "  <tbody>\n",
       "    <tr>\n",
       "      <th>count</th>\n",
       "      <td>672.000000</td>\n",
       "      <td>672.000000</td>\n",
       "    </tr>\n",
       "    <tr>\n",
       "      <th>mean</th>\n",
       "      <td>0.540382</td>\n",
       "      <td>5591.778500</td>\n",
       "    </tr>\n",
       "    <tr>\n",
       "      <th>std</th>\n",
       "      <td>5.793029</td>\n",
       "      <td>3235.630951</td>\n",
       "    </tr>\n",
       "    <tr>\n",
       "      <th>min</th>\n",
       "      <td>-85.942635</td>\n",
       "      <td>0.000000</td>\n",
       "    </tr>\n",
       "    <tr>\n",
       "      <th>25%</th>\n",
       "      <td>0.781904</td>\n",
       "      <td>2795.889250</td>\n",
       "    </tr>\n",
       "    <tr>\n",
       "      <th>50%</th>\n",
       "      <td>1.125002</td>\n",
       "      <td>5591.778500</td>\n",
       "    </tr>\n",
       "    <tr>\n",
       "      <th>75%</th>\n",
       "      <td>1.371982</td>\n",
       "      <td>8387.667750</td>\n",
       "    </tr>\n",
       "    <tr>\n",
       "      <th>max</th>\n",
       "      <td>59.187630</td>\n",
       "      <td>11183.557000</td>\n",
       "    </tr>\n",
       "  </tbody>\n",
       "</table>\n",
       "</div>"
      ],
      "text/plain": [
       "            Acc_Z       time_ms\n",
       "count  672.000000    672.000000\n",
       "mean     0.540382   5591.778500\n",
       "std      5.793029   3235.630951\n",
       "min    -85.942635      0.000000\n",
       "25%      0.781904   2795.889250\n",
       "50%      1.125002   5591.778500\n",
       "75%      1.371982   8387.667750\n",
       "max     59.187630  11183.557000"
      ]
     },
     "execution_count": 9,
     "metadata": {},
     "output_type": "execute_result"
    }
   ],
   "source": [
    "right[['Acc_Z', 'time_ms']].describe()"
   ]
  },
  {
   "cell_type": "code",
   "execution_count": 10,
   "id": "2dcb2aa4",
   "metadata": {},
   "outputs": [
    {
     "data": {
      "application/vnd.microsoft.datawrangler.viewer.v0+json": {
       "columns": [
        {
         "name": "index",
         "rawType": "object",
         "type": "string"
        },
        {
         "name": "Acc_Z",
         "rawType": "float64",
         "type": "float"
        },
        {
         "name": "time_ms",
         "rawType": "float64",
         "type": "float"
        }
       ],
       "conversionMethod": "pd.DataFrame",
       "ref": "85ce754f-7f28-4a0e-9cc6-414b0be7b21d",
       "rows": [
        [
         "count",
         "672.0",
         "672.0"
        ],
        [
         "mean",
         "-1.7704098623445523",
         "5591.778499999999"
        ],
        [
         "std",
         "4.954896558126356",
         "3235.6309506233865"
        ],
        [
         "min",
         "-69.02079772949219",
         "0.0"
        ],
        [
         "25%",
         "-1.4027519822120649",
         "2795.8892499999997"
        ],
        [
         "50%",
         "-1.280103623867035",
         "5591.778499999999"
        ],
        [
         "75%",
         "-1.15037479996681",
         "8387.667749999999"
        ],
        [
         "max",
         "62.28680801391602",
         "11183.556999999999"
        ]
       ],
       "shape": {
        "columns": 2,
        "rows": 8
       }
      },
      "text/html": [
       "<div>\n",
       "<style scoped>\n",
       "    .dataframe tbody tr th:only-of-type {\n",
       "        vertical-align: middle;\n",
       "    }\n",
       "\n",
       "    .dataframe tbody tr th {\n",
       "        vertical-align: top;\n",
       "    }\n",
       "\n",
       "    .dataframe thead th {\n",
       "        text-align: right;\n",
       "    }\n",
       "</style>\n",
       "<table border=\"1\" class=\"dataframe\">\n",
       "  <thead>\n",
       "    <tr style=\"text-align: right;\">\n",
       "      <th></th>\n",
       "      <th>Acc_Z</th>\n",
       "      <th>time_ms</th>\n",
       "    </tr>\n",
       "  </thead>\n",
       "  <tbody>\n",
       "    <tr>\n",
       "      <th>count</th>\n",
       "      <td>672.000000</td>\n",
       "      <td>672.000000</td>\n",
       "    </tr>\n",
       "    <tr>\n",
       "      <th>mean</th>\n",
       "      <td>-1.770410</td>\n",
       "      <td>5591.778500</td>\n",
       "    </tr>\n",
       "    <tr>\n",
       "      <th>std</th>\n",
       "      <td>4.954897</td>\n",
       "      <td>3235.630951</td>\n",
       "    </tr>\n",
       "    <tr>\n",
       "      <th>min</th>\n",
       "      <td>-69.020798</td>\n",
       "      <td>0.000000</td>\n",
       "    </tr>\n",
       "    <tr>\n",
       "      <th>25%</th>\n",
       "      <td>-1.402752</td>\n",
       "      <td>2795.889250</td>\n",
       "    </tr>\n",
       "    <tr>\n",
       "      <th>50%</th>\n",
       "      <td>-1.280104</td>\n",
       "      <td>5591.778500</td>\n",
       "    </tr>\n",
       "    <tr>\n",
       "      <th>75%</th>\n",
       "      <td>-1.150375</td>\n",
       "      <td>8387.667750</td>\n",
       "    </tr>\n",
       "    <tr>\n",
       "      <th>max</th>\n",
       "      <td>62.286808</td>\n",
       "      <td>11183.557000</td>\n",
       "    </tr>\n",
       "  </tbody>\n",
       "</table>\n",
       "</div>"
      ],
      "text/plain": [
       "            Acc_Z       time_ms\n",
       "count  672.000000    672.000000\n",
       "mean    -1.770410   5591.778500\n",
       "std      4.954897   3235.630951\n",
       "min    -69.020798      0.000000\n",
       "25%     -1.402752   2795.889250\n",
       "50%     -1.280104   5591.778500\n",
       "75%     -1.150375   8387.667750\n",
       "max     62.286808  11183.557000"
      ]
     },
     "execution_count": 10,
     "metadata": {},
     "output_type": "execute_result"
    }
   ],
   "source": [
    "left[['Acc_Z', 'time_ms']].describe()"
   ]
  },
  {
   "cell_type": "code",
   "execution_count": 11,
   "id": "0e9a8598",
   "metadata": {},
   "outputs": [
    {
     "data": {
      "application/vnd.microsoft.datawrangler.viewer.v0+json": {
       "columns": [
        {
         "name": "index",
         "rawType": "object",
         "type": "string"
        },
        {
         "name": "Acc_Z",
         "rawType": "float64",
         "type": "float"
        },
        {
         "name": "time_ms",
         "rawType": "float64",
         "type": "float"
        }
       ],
       "conversionMethod": "pd.DataFrame",
       "ref": "25d39614-738f-488c-84dd-b089d67d7ce1",
       "rows": [
        [
         "count",
         "672.0",
         "672.0"
        ],
        [
         "mean",
         "0.7090585074010526",
         "5591.778499999999"
        ],
        [
         "std",
         "2.3403398311067893",
         "3235.6309506233865"
        ],
        [
         "min",
         "-11.95761013031006",
         "0.0"
        ],
        [
         "25%",
         "0.22581905499100752",
         "2795.8892499999997"
        ],
        [
         "50%",
         "0.302616223692895",
         "5591.778499999999"
        ],
        [
         "75%",
         "0.47424082458019",
         "8387.667749999999"
        ],
        [
         "max",
         "23.4786548614502",
         "11183.556999999999"
        ]
       ],
       "shape": {
        "columns": 2,
        "rows": 8
       }
      },
      "text/html": [
       "<div>\n",
       "<style scoped>\n",
       "    .dataframe tbody tr th:only-of-type {\n",
       "        vertical-align: middle;\n",
       "    }\n",
       "\n",
       "    .dataframe tbody tr th {\n",
       "        vertical-align: top;\n",
       "    }\n",
       "\n",
       "    .dataframe thead th {\n",
       "        text-align: right;\n",
       "    }\n",
       "</style>\n",
       "<table border=\"1\" class=\"dataframe\">\n",
       "  <thead>\n",
       "    <tr style=\"text-align: right;\">\n",
       "      <th></th>\n",
       "      <th>Acc_Z</th>\n",
       "      <th>time_ms</th>\n",
       "    </tr>\n",
       "  </thead>\n",
       "  <tbody>\n",
       "    <tr>\n",
       "      <th>count</th>\n",
       "      <td>672.000000</td>\n",
       "      <td>672.000000</td>\n",
       "    </tr>\n",
       "    <tr>\n",
       "      <th>mean</th>\n",
       "      <td>0.709059</td>\n",
       "      <td>5591.778500</td>\n",
       "    </tr>\n",
       "    <tr>\n",
       "      <th>std</th>\n",
       "      <td>2.340340</td>\n",
       "      <td>3235.630951</td>\n",
       "    </tr>\n",
       "    <tr>\n",
       "      <th>min</th>\n",
       "      <td>-11.957610</td>\n",
       "      <td>0.000000</td>\n",
       "    </tr>\n",
       "    <tr>\n",
       "      <th>25%</th>\n",
       "      <td>0.225819</td>\n",
       "      <td>2795.889250</td>\n",
       "    </tr>\n",
       "    <tr>\n",
       "      <th>50%</th>\n",
       "      <td>0.302616</td>\n",
       "      <td>5591.778500</td>\n",
       "    </tr>\n",
       "    <tr>\n",
       "      <th>75%</th>\n",
       "      <td>0.474241</td>\n",
       "      <td>8387.667750</td>\n",
       "    </tr>\n",
       "    <tr>\n",
       "      <th>max</th>\n",
       "      <td>23.478655</td>\n",
       "      <td>11183.557000</td>\n",
       "    </tr>\n",
       "  </tbody>\n",
       "</table>\n",
       "</div>"
      ],
      "text/plain": [
       "            Acc_Z       time_ms\n",
       "count  672.000000    672.000000\n",
       "mean     0.709059   5591.778500\n",
       "std      2.340340   3235.630951\n",
       "min    -11.957610      0.000000\n",
       "25%      0.225819   2795.889250\n",
       "50%      0.302616   5591.778500\n",
       "75%      0.474241   8387.667750\n",
       "max     23.478655  11183.557000"
      ]
     },
     "execution_count": 11,
     "metadata": {},
     "output_type": "execute_result"
    }
   ],
   "source": [
    "pelvis[['Acc_Z', 'time_ms']].describe()"
   ]
  },
  {
   "cell_type": "code",
   "execution_count": 12,
   "id": "d4621938",
   "metadata": {},
   "outputs": [
    {
     "data": {
      "text/plain": [
       "<Axes: title={'center': 'Pelvis Acc Z vs Time'}, xlabel='time_ms'>"
      ]
     },
     "execution_count": 12,
     "metadata": {},
     "output_type": "execute_result"
    },
    {
     "data": {
      "image/png": "[encoded data removed]",
      "text/plain": [
       "<Figure size 1500x500 with 1 Axes>"
      ]
     },
     "metadata": {},
     "output_type": "display_data"
    },
    {
     "data": {
      "image/png": "[encoded data removed]",
      "text/plain": [
       "<Figure size 1500x500 with 1 Axes>"
      ]
     },
     "metadata": {},
     "output_type": "display_data"
    },
    {
     "data": {
      "image/png": "[encoded data removed]",
      "text/plain": [
       "<Figure size 1500x500 with 1 Axes>"
      ]
     },
     "metadata": {},
     "output_type": "display_data"
    }
   ],
   "source": [
    "# visualize the data and find the connection between the accelerometer  and times \n",
    "left.plot(x='time_ms', y='Acc_Z', title='Left Acc Z vs Time', figsize=(15, 5), color='blue')\n",
    "right.plot(x='time_ms', y='Acc_Z', title='Right Acc Z vs Time', figsize=(15, 5), color='red')\n",
    "pelvis.plot(x='time_ms', y='Acc_Z', title='Pelvis Acc Z vs Time', figsize=(15, 5), color='green')"
   ]
  }
 ],
 "metadata": {
  "kernelspec": {
   "display_name": ".venv",
   "language": "python",
   "name": "python3"
  },
  "language_info": {
   "codemirror_mode": {
    "name": "ipython",
    "version": 3
   },
   "file_extension": ".py",
   "mimetype": "text/x-python",
   "name": "python",
   "nbconvert_exporter": "python",
   "pygments_lexer": "ipython3",
   "version": "3.10.11"
  }
 },
 "nbformat": 4,
 "nbformat_minor": 5
}
