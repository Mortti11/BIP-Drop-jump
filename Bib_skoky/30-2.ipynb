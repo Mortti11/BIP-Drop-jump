{
 "cells": [
  {
   "cell_type": "code",
   "execution_count": 1,
   "id": "c58f44eb",
   "metadata": {},
   "outputs": [],
   "source": [
    "import pandas as pd\n",
    "import numpy as np\n",
    "import seaborn as sns\n",
    "import scipy.stats as stats\n",
    "import matplotlib.pyplot as plt\n",
    "from scipy.signal import butter, filtfilt\n",
    "from scipy.spatial.transform import Rotation as R"
   ]
  },
  {
   "cell_type": "code",
   "execution_count": 2,
   "id": "f844558c",
   "metadata": {},
   "outputs": [],
   "source": [
    "pelvis = pd.read_csv('David-30-pokus02/Xsens_DOT_2_D422CD006474_20250409_104322.csv', skiprows= 7,  sep=',')\n",
    "right = pd.read_csv('David-30-pokus02/Xsens_DOT_4_D422CD006380_20250409_104322.csv', skiprows= 7,  sep=',')\n",
    "left = pd.read_csv('David-30-pokus02/Xsens_DOT_3_D422CD006379_20250409_104322.csv', skiprows= 7,  sep=',')"
   ]
  },
  {
   "cell_type": "code",
   "execution_count": 3,
   "id": "ff10ea0a",
   "metadata": {},
   "outputs": [],
   "source": [
    "# I zero the clock at the first row, this makes all subsequent rows relative to test start\n",
    "right['real_ticks'] = right['SampleTimeFine'] - right['SampleTimeFine'].iloc[0] \n",
    "\n",
    "# Converting the ticks to seconds and milliseconds\n",
    "right['time_s'] = right['real_ticks'] * 1e-6\n",
    "\n",
    "# Convert seconds to milliseconds\n",
    "right['time_ms'] = right['time_s'] * 1000\n",
    "#  show the actual intervals between samples\n",
    "right['delta_ms'] = right['time_ms'].diff()"
   ]
  },
  {
   "cell_type": "code",
   "execution_count": 4,
   "id": "c88367be",
   "metadata": {},
   "outputs": [],
   "source": [
    "# I zero the clock at the first row, this makes all subsequent rows relative to test start\n",
    "left['real_ticks'] = left['SampleTimeFine'] - left['SampleTimeFine'].iloc[0] \n",
    "\n",
    "# Converting the ticks to seconds and milliseconds\n",
    "left['time_s'] = left['real_ticks'] * 1e-6\n",
    "\n",
    "# Convert seconds to milliseconds\n",
    "left['time_ms'] = left['time_s'] * 1000\n",
    "#  show the actual intervals between samples\n",
    "left['delta_ms'] = left['time_ms'].diff()"
   ]
  },
  {
   "cell_type": "code",
   "execution_count": 5,
   "id": "ec2aef99",
   "metadata": {},
   "outputs": [],
   "source": [
    "# I zero the clock at the first row, this makes all subsequent rows relative to test start\n",
    "pelvis['real_ticks'] = pelvis['SampleTimeFine'] - pelvis['SampleTimeFine'].iloc[0] \n",
    "\n",
    "# Converting the ticks to seconds and milliseconds\n",
    "pelvis['time_s'] = pelvis['real_ticks'] * 1e-6\n",
    "\n",
    "# Convert seconds to milliseconds\n",
    "pelvis['time_ms'] = pelvis['time_s'] * 1000\n",
    "#  show the actual intervals between samples\n",
    "pelvis['delta_ms'] = pelvis['time_ms'].diff()"
   ]
  },
  {
   "cell_type": "code",
   "execution_count": 6,
   "id": "be7b22ff",
   "metadata": {},
   "outputs": [
    {
     "data": {
      "application/vnd.microsoft.datawrangler.viewer.v0+json": {
       "columns": [
        {
         "name": "index",
         "rawType": "object",
         "type": "string"
        },
        {
         "name": "Acc_Z",
         "rawType": "float64",
         "type": "float"
        },
        {
         "name": "time_ms",
         "rawType": "float64",
         "type": "float"
        }
       ],
       "conversionMethod": "pd.DataFrame",
       "ref": "41ec6054-c56f-4a74-9a4b-8c12b40204ce",
       "rows": [
        [
         "count",
         "714.0",
         "714.0"
        ],
        [
         "mean",
         "0.48349134754963446",
         "5941.7855"
        ],
        [
         "std",
         "6.600405220468301",
         "3437.707638860888"
        ],
        [
         "min",
         "-81.18051147460938",
         "0.0"
        ],
        [
         "25%",
         "0.7991645038127926",
         "2970.89275"
        ],
        [
         "50%",
         "0.8908991515636451",
         "5941.7855"
        ],
        [
         "75%",
         "0.950103268027305",
         "8912.67825"
        ],
        [
         "max",
         "51.90060043334961",
         "11883.571"
        ]
       ],
       "shape": {
        "columns": 2,
        "rows": 8
       }
      },
      "text/html": [
       "<div>\n",
       "<style scoped>\n",
       "    .dataframe tbody tr th:only-of-type {\n",
       "        vertical-align: middle;\n",
       "    }\n",
       "\n",
       "    .dataframe tbody tr th {\n",
       "        vertical-align: top;\n",
       "    }\n",
       "\n",
       "    .dataframe thead th {\n",
       "        text-align: right;\n",
       "    }\n",
       "</style>\n",
       "<table border=\"1\" class=\"dataframe\">\n",
       "  <thead>\n",
       "    <tr style=\"text-align: right;\">\n",
       "      <th></th>\n",
       "      <th>Acc_Z</th>\n",
       "      <th>time_ms</th>\n",
       "    </tr>\n",
       "  </thead>\n",
       "  <tbody>\n",
       "    <tr>\n",
       "      <th>count</th>\n",
       "      <td>714.000000</td>\n",
       "      <td>714.000000</td>\n",
       "    </tr>\n",
       "    <tr>\n",
       "      <th>mean</th>\n",
       "      <td>0.483491</td>\n",
       "      <td>5941.785500</td>\n",
       "    </tr>\n",
       "    <tr>\n",
       "      <th>std</th>\n",
       "      <td>6.600405</td>\n",
       "      <td>3437.707639</td>\n",
       "    </tr>\n",
       "    <tr>\n",
       "      <th>min</th>\n",
       "      <td>-81.180511</td>\n",
       "      <td>0.000000</td>\n",
       "    </tr>\n",
       "    <tr>\n",
       "      <th>25%</th>\n",
       "      <td>0.799165</td>\n",
       "      <td>2970.892750</td>\n",
       "    </tr>\n",
       "    <tr>\n",
       "      <th>50%</th>\n",
       "      <td>0.890899</td>\n",
       "      <td>5941.785500</td>\n",
       "    </tr>\n",
       "    <tr>\n",
       "      <th>75%</th>\n",
       "      <td>0.950103</td>\n",
       "      <td>8912.678250</td>\n",
       "    </tr>\n",
       "    <tr>\n",
       "      <th>max</th>\n",
       "      <td>51.900600</td>\n",
       "      <td>11883.571000</td>\n",
       "    </tr>\n",
       "  </tbody>\n",
       "</table>\n",
       "</div>"
      ],
      "text/plain": [
       "            Acc_Z       time_ms\n",
       "count  714.000000    714.000000\n",
       "mean     0.483491   5941.785500\n",
       "std      6.600405   3437.707639\n",
       "min    -81.180511      0.000000\n",
       "25%      0.799165   2970.892750\n",
       "50%      0.890899   5941.785500\n",
       "75%      0.950103   8912.678250\n",
       "max     51.900600  11883.571000"
      ]
     },
     "execution_count": 6,
     "metadata": {},
     "output_type": "execute_result"
    }
   ],
   "source": [
    "right[['Acc_Z', 'time_ms']].describe()"
   ]
  },
  {
   "cell_type": "code",
   "execution_count": 7,
   "id": "c20a5d38",
   "metadata": {},
   "outputs": [
    {
     "data": {
      "application/vnd.microsoft.datawrangler.viewer.v0+json": {
       "columns": [
        {
         "name": "index",
         "rawType": "object",
         "type": "string"
        },
        {
         "name": "Acc_Z",
         "rawType": "float64",
         "type": "float"
        },
        {
         "name": "time_ms",
         "rawType": "float64",
         "type": "float"
        }
       ],
       "conversionMethod": "pd.DataFrame",
       "ref": "a63d3e19-c8b0-432a-80c7-3aada2b913b6",
       "rows": [
        [
         "count",
         "714.0",
         "714.0"
        ],
        [
         "mean",
         "-1.0392395590591121",
         "5941.7855"
        ],
        [
         "std",
         "5.178558773142988",
         "3437.707638860888"
        ],
        [
         "min",
         "-82.40188598632812",
         "0.0"
        ],
        [
         "25%",
         "-0.555332392454145",
         "2970.89275"
        ],
        [
         "50%",
         "-0.410329923033715",
         "5941.7855"
        ],
        [
         "75%",
         "-0.3468069583177575",
         "8912.67825"
        ],
        [
         "max",
         "47.47109222412109",
         "11883.571"
        ]
       ],
       "shape": {
        "columns": 2,
        "rows": 8
       }
      },
      "text/html": [
       "<div>\n",
       "<style scoped>\n",
       "    .dataframe tbody tr th:only-of-type {\n",
       "        vertical-align: middle;\n",
       "    }\n",
       "\n",
       "    .dataframe tbody tr th {\n",
       "        vertical-align: top;\n",
       "    }\n",
       "\n",
       "    .dataframe thead th {\n",
       "        text-align: right;\n",
       "    }\n",
       "</style>\n",
       "<table border=\"1\" class=\"dataframe\">\n",
       "  <thead>\n",
       "    <tr style=\"text-align: right;\">\n",
       "      <th></th>\n",
       "      <th>Acc_Z</th>\n",
       "      <th>time_ms</th>\n",
       "    </tr>\n",
       "  </thead>\n",
       "  <tbody>\n",
       "    <tr>\n",
       "      <th>count</th>\n",
       "      <td>714.000000</td>\n",
       "      <td>714.000000</td>\n",
       "    </tr>\n",
       "    <tr>\n",
       "      <th>mean</th>\n",
       "      <td>-1.039240</td>\n",
       "      <td>5941.785500</td>\n",
       "    </tr>\n",
       "    <tr>\n",
       "      <th>std</th>\n",
       "      <td>5.178559</td>\n",
       "      <td>3437.707639</td>\n",
       "    </tr>\n",
       "    <tr>\n",
       "      <th>min</th>\n",
       "      <td>-82.401886</td>\n",
       "      <td>0.000000</td>\n",
       "    </tr>\n",
       "    <tr>\n",
       "      <th>25%</th>\n",
       "      <td>-0.555332</td>\n",
       "      <td>2970.892750</td>\n",
       "    </tr>\n",
       "    <tr>\n",
       "      <th>50%</th>\n",
       "      <td>-0.410330</td>\n",
       "      <td>5941.785500</td>\n",
       "    </tr>\n",
       "    <tr>\n",
       "      <th>75%</th>\n",
       "      <td>-0.346807</td>\n",
       "      <td>8912.678250</td>\n",
       "    </tr>\n",
       "    <tr>\n",
       "      <th>max</th>\n",
       "      <td>47.471092</td>\n",
       "      <td>11883.571000</td>\n",
       "    </tr>\n",
       "  </tbody>\n",
       "</table>\n",
       "</div>"
      ],
      "text/plain": [
       "            Acc_Z       time_ms\n",
       "count  714.000000    714.000000\n",
       "mean    -1.039240   5941.785500\n",
       "std      5.178559   3437.707639\n",
       "min    -82.401886      0.000000\n",
       "25%     -0.555332   2970.892750\n",
       "50%     -0.410330   5941.785500\n",
       "75%     -0.346807   8912.678250\n",
       "max     47.471092  11883.571000"
      ]
     },
     "execution_count": 7,
     "metadata": {},
     "output_type": "execute_result"
    }
   ],
   "source": [
    "left[['Acc_Z', 'time_ms']].describe()"
   ]
  },
  {
   "cell_type": "code",
   "execution_count": 8,
   "id": "029fe4f9",
   "metadata": {},
   "outputs": [
    {
     "data": {
      "application/vnd.microsoft.datawrangler.viewer.v0+json": {
       "columns": [
        {
         "name": "index",
         "rawType": "object",
         "type": "string"
        },
        {
         "name": "Acc_Z",
         "rawType": "float64",
         "type": "float"
        },
        {
         "name": "time_ms",
         "rawType": "float64",
         "type": "float"
        }
       ],
       "conversionMethod": "pd.DataFrame",
       "ref": "9c9d1c65-46f4-484a-ba4b-e75556fb02b3",
       "rows": [
        [
         "count",
         "714.0",
         "714.0"
        ],
        [
         "mean",
         "1.3496781117921952",
         "5941.7855"
        ],
        [
         "std",
         "2.5240188625286493",
         "3437.707638860888"
        ],
        [
         "min",
         "-9.29337215423584",
         "0.0"
        ],
        [
         "25%",
         "0.853924363851545",
         "2970.89275"
        ],
        [
         "50%",
         "0.94370445609093",
         "5941.7855"
        ],
        [
         "75%",
         "1.2343057692050898",
         "8912.67825"
        ],
        [
         "max",
         "41.64377212524414",
         "11883.571"
        ]
       ],
       "shape": {
        "columns": 2,
        "rows": 8
       }
      },
      "text/html": [
       "<div>\n",
       "<style scoped>\n",
       "    .dataframe tbody tr th:only-of-type {\n",
       "        vertical-align: middle;\n",
       "    }\n",
       "\n",
       "    .dataframe tbody tr th {\n",
       "        vertical-align: top;\n",
       "    }\n",
       "\n",
       "    .dataframe thead th {\n",
       "        text-align: right;\n",
       "    }\n",
       "</style>\n",
       "<table border=\"1\" class=\"dataframe\">\n",
       "  <thead>\n",
       "    <tr style=\"text-align: right;\">\n",
       "      <th></th>\n",
       "      <th>Acc_Z</th>\n",
       "      <th>time_ms</th>\n",
       "    </tr>\n",
       "  </thead>\n",
       "  <tbody>\n",
       "    <tr>\n",
       "      <th>count</th>\n",
       "      <td>714.000000</td>\n",
       "      <td>714.000000</td>\n",
       "    </tr>\n",
       "    <tr>\n",
       "      <th>mean</th>\n",
       "      <td>1.349678</td>\n",
       "      <td>5941.785500</td>\n",
       "    </tr>\n",
       "    <tr>\n",
       "      <th>std</th>\n",
       "      <td>2.524019</td>\n",
       "      <td>3437.707639</td>\n",
       "    </tr>\n",
       "    <tr>\n",
       "      <th>min</th>\n",
       "      <td>-9.293372</td>\n",
       "      <td>0.000000</td>\n",
       "    </tr>\n",
       "    <tr>\n",
       "      <th>25%</th>\n",
       "      <td>0.853924</td>\n",
       "      <td>2970.892750</td>\n",
       "    </tr>\n",
       "    <tr>\n",
       "      <th>50%</th>\n",
       "      <td>0.943704</td>\n",
       "      <td>5941.785500</td>\n",
       "    </tr>\n",
       "    <tr>\n",
       "      <th>75%</th>\n",
       "      <td>1.234306</td>\n",
       "      <td>8912.678250</td>\n",
       "    </tr>\n",
       "    <tr>\n",
       "      <th>max</th>\n",
       "      <td>41.643772</td>\n",
       "      <td>11883.571000</td>\n",
       "    </tr>\n",
       "  </tbody>\n",
       "</table>\n",
       "</div>"
      ],
      "text/plain": [
       "            Acc_Z       time_ms\n",
       "count  714.000000    714.000000\n",
       "mean     1.349678   5941.785500\n",
       "std      2.524019   3437.707639\n",
       "min     -9.293372      0.000000\n",
       "25%      0.853924   2970.892750\n",
       "50%      0.943704   5941.785500\n",
       "75%      1.234306   8912.678250\n",
       "max     41.643772  11883.571000"
      ]
     },
     "execution_count": 8,
     "metadata": {},
     "output_type": "execute_result"
    }
   ],
   "source": [
    "pelvis[['Acc_Z', 'time_ms']].describe()"
   ]
  },
  {
   "cell_type": "code",
   "execution_count": 9,
   "id": "e4fec698",
   "metadata": {},
   "outputs": [
    {
     "data": {
      "text/plain": [
       "<Axes: title={'center': 'Pelvis Acc Z vs Time'}, xlabel='time_ms'>"
      ]
     },
     "execution_count": 9,
     "metadata": {},
     "output_type": "execute_result"
    },
    {
     "data": {
      "image/png": "[encoded data removed]",
      "text/plain": [
       "<Figure size 1500x500 with 1 Axes>"
      ]
     },
     "metadata": {},
     "output_type": "display_data"
    },
    {
     "data": {
      "image/png": "[encoded data removed]",
      "text/plain": [
       "<Figure size 1500x500 with 1 Axes>"
      ]
     },
     "metadata": {},
     "output_type": "display_data"
    },
    {
     "data": {
      "image/png": "[encoded data removed]",
      "text/plain": [
       "<Figure size 1500x500 with 1 Axes>"
      ]
     },
     "metadata": {},
     "output_type": "display_data"
    }
   ],
   "source": [
    "# visualize the data and find the connection between the accelerometer  and times \n",
    "left.plot(x='time_ms', y='Acc_Z', title='Left Acc Z vs Time', figsize=(15, 5), color='blue')\n",
    "right.plot(x='time_ms', y='Acc_Z', title='Right Acc Z vs Time', figsize=(15, 5), color='red')\n",
    "pelvis.plot(x='time_ms', y='Acc_Z', title='Pelvis Acc Z vs Time', figsize=(15, 5), color='green')"
   ]
  }
 ],
 "metadata": {
  "kernelspec": {
   "display_name": ".venv",
   "language": "python",
   "name": "python3"
  },
  "language_info": {
   "codemirror_mode": {
    "name": "ipython",
    "version": 3
   },
   "file_extension": ".py",
   "mimetype": "text/x-python",
   "name": "python",
   "nbconvert_exporter": "python",
   "pygments_lexer": "ipython3",
   "version": "3.10.11"
  }
 },
 "nbformat": 4,
 "nbformat_minor": 5
}
