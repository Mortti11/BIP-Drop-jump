{
 "cells": [
  {
   "cell_type": "code",
   "execution_count": 1,
   "id": "775c0cb8",
   "metadata": {},
   "outputs": [],
   "source": [
    "import pandas as pd\n",
    "import numpy as np\n",
    "import seaborn as sns\n",
    "import scipy.stats as stats\n",
    "import matplotlib.pyplot as plt\n",
    "from scipy.signal import butter, filtfilt\n",
    "from scipy.spatial.transform import Rotation as R"
   ]
  },
  {
   "cell_type": "code",
   "execution_count": 3,
   "id": "9a93ebeb",
   "metadata": {},
   "outputs": [],
   "source": [
    "pelvis = pd.read_csv('David-30-pokus04-leva-noha/Xsens_DOT_2_D422CD006474_20250409_104658.csv', skiprows= 7,  sep=',')\n",
    "right = pd.read_csv('David-30-pokus04-leva-noha/Xsens_DOT_4_D422CD006380_20250409_104658.csv', skiprows= 7,  sep=',')\n",
    "left = pd.read_csv('David-30-pokus04-leva-noha/Xsens_DOT_3_D422CD006379_20250409_104658.csv', skiprows= 7,  sep=',')"
   ]
  },
  {
   "cell_type": "code",
   "execution_count": 4,
   "id": "f2321e3d",
   "metadata": {},
   "outputs": [],
   "source": [
    "# I zero the clock at the first row, this makes all subsequent rows relative to test start\n",
    "right['real_ticks'] = right['SampleTimeFine'] - right['SampleTimeFine'].iloc[0] \n",
    "\n",
    "# Converting the ticks to seconds and milliseconds\n",
    "right['time_s'] = right['real_ticks'] * 1e-6\n",
    "\n",
    "# Convert seconds to milliseconds\n",
    "right['time_ms'] = right['time_s'] * 1000\n",
    "#  show the actual intervals between samples\n",
    "right['delta_ms'] = right['time_ms'].diff()\n",
    "\n",
    "# I zero the clock at the first row, this makes all subsequent rows relative to test start\n",
    "left['real_ticks'] = left['SampleTimeFine'] - left['SampleTimeFine'].iloc[0] \n",
    "\n",
    "# Converting the ticks to seconds and milliseconds\n",
    "left['time_s'] = left['real_ticks'] * 1e-6\n",
    "\n",
    "# Convert seconds to milliseconds\n",
    "left['time_ms'] = left['time_s'] * 1000\n",
    "#  show the actual intervals between samples\n",
    "left['delta_ms'] = left['time_ms'].diff()\n",
    "\n",
    "\n",
    "# I zero the clock at the first row, this makes all subsequent rows relative to test start\n",
    "pelvis['real_ticks'] = pelvis['SampleTimeFine'] - pelvis['SampleTimeFine'].iloc[0] \n",
    "\n",
    "# Converting the ticks to seconds and milliseconds\n",
    "pelvis['time_s'] = pelvis['real_ticks'] * 1e-6\n",
    "\n",
    "# Convert seconds to milliseconds\n",
    "pelvis['time_ms'] = pelvis['time_s'] * 1000\n",
    "#  show the actual intervals between samples\n",
    "pelvis['delta_ms'] = pelvis['time_ms'].diff()"
   ]
  },
  {
   "cell_type": "code",
   "execution_count": 5,
   "id": "adce3ef6",
   "metadata": {},
   "outputs": [
    {
     "data": {
      "application/vnd.microsoft.datawrangler.viewer.v0+json": {
       "columns": [
        {
         "name": "index",
         "rawType": "object",
         "type": "string"
        },
        {
         "name": "Acc_Z",
         "rawType": "float64",
         "type": "float"
        },
        {
         "name": "time_ms",
         "rawType": "float64",
         "type": "float"
        }
       ],
       "conversionMethod": "pd.DataFrame",
       "ref": "1f798882-9b85-4852-9737-250035024562",
       "rows": [
        [
         "count",
         "735.0",
         "735.0"
        ],
        [
         "mean",
         "0.35255253865402597",
         "6116.788999999999"
        ],
        [
         "std",
         "5.9022863770681955",
         "3538.7459807282016"
        ],
        [
         "min",
         "-72.86369323730469",
         "0.0"
        ],
        [
         "25%",
         "0.731646209955215",
         "3058.3945"
        ],
        [
         "50%",
         "0.81417226791382",
         "6116.789"
        ],
        [
         "75%",
         "0.85850369930267",
         "9175.1835"
        ],
        [
         "max",
         "52.91938400268555",
         "12233.578"
        ]
       ],
       "shape": {
        "columns": 2,
        "rows": 8
       }
      },
      "text/html": [
       "<div>\n",
       "<style scoped>\n",
       "    .dataframe tbody tr th:only-of-type {\n",
       "        vertical-align: middle;\n",
       "    }\n",
       "\n",
       "    .dataframe tbody tr th {\n",
       "        vertical-align: top;\n",
       "    }\n",
       "\n",
       "    .dataframe thead th {\n",
       "        text-align: right;\n",
       "    }\n",
       "</style>\n",
       "<table border=\"1\" class=\"dataframe\">\n",
       "  <thead>\n",
       "    <tr style=\"text-align: right;\">\n",
       "      <th></th>\n",
       "      <th>Acc_Z</th>\n",
       "      <th>time_ms</th>\n",
       "    </tr>\n",
       "  </thead>\n",
       "  <tbody>\n",
       "    <tr>\n",
       "      <th>count</th>\n",
       "      <td>735.000000</td>\n",
       "      <td>735.000000</td>\n",
       "    </tr>\n",
       "    <tr>\n",
       "      <th>mean</th>\n",
       "      <td>0.352553</td>\n",
       "      <td>6116.789000</td>\n",
       "    </tr>\n",
       "    <tr>\n",
       "      <th>std</th>\n",
       "      <td>5.902286</td>\n",
       "      <td>3538.745981</td>\n",
       "    </tr>\n",
       "    <tr>\n",
       "      <th>min</th>\n",
       "      <td>-72.863693</td>\n",
       "      <td>0.000000</td>\n",
       "    </tr>\n",
       "    <tr>\n",
       "      <th>25%</th>\n",
       "      <td>0.731646</td>\n",
       "      <td>3058.394500</td>\n",
       "    </tr>\n",
       "    <tr>\n",
       "      <th>50%</th>\n",
       "      <td>0.814172</td>\n",
       "      <td>6116.789000</td>\n",
       "    </tr>\n",
       "    <tr>\n",
       "      <th>75%</th>\n",
       "      <td>0.858504</td>\n",
       "      <td>9175.183500</td>\n",
       "    </tr>\n",
       "    <tr>\n",
       "      <th>max</th>\n",
       "      <td>52.919384</td>\n",
       "      <td>12233.578000</td>\n",
       "    </tr>\n",
       "  </tbody>\n",
       "</table>\n",
       "</div>"
      ],
      "text/plain": [
       "            Acc_Z       time_ms\n",
       "count  735.000000    735.000000\n",
       "mean     0.352553   6116.789000\n",
       "std      5.902286   3538.745981\n",
       "min    -72.863693      0.000000\n",
       "25%      0.731646   3058.394500\n",
       "50%      0.814172   6116.789000\n",
       "75%      0.858504   9175.183500\n",
       "max     52.919384  12233.578000"
      ]
     },
     "execution_count": 5,
     "metadata": {},
     "output_type": "execute_result"
    }
   ],
   "source": [
    "right[['Acc_Z', 'time_ms']].describe()"
   ]
  },
  {
   "cell_type": "code",
   "execution_count": 6,
   "id": "d498966e",
   "metadata": {},
   "outputs": [
    {
     "data": {
      "application/vnd.microsoft.datawrangler.viewer.v0+json": {
       "columns": [
        {
         "name": "index",
         "rawType": "object",
         "type": "string"
        },
        {
         "name": "Acc_Z",
         "rawType": "float64",
         "type": "float"
        },
        {
         "name": "time_ms",
         "rawType": "float64",
         "type": "float"
        }
       ],
       "conversionMethod": "pd.DataFrame",
       "ref": "81bfedf8-6bdb-44e5-8250-6e5e0c9c3a74",
       "rows": [
        [
         "count",
         "735.0",
         "735.0"
        ],
        [
         "mean",
         "-0.6979556247693344",
         "6116.788999999999"
        ],
        [
         "std",
         "6.129550465461624",
         "3538.7459807282016"
        ],
        [
         "min",
         "-112.4668197631836",
         "0.0"
        ],
        [
         "25%",
         "-0.332215309143065",
         "3058.3945"
        ],
        [
         "50%",
         "-0.24800166487694",
         "6116.789"
        ],
        [
         "75%",
         "-0.19147678464651",
         "9175.1835"
        ],
        [
         "max",
         "81.48334503173828",
         "12233.578"
        ]
       ],
       "shape": {
        "columns": 2,
        "rows": 8
       }
      },
      "text/html": [
       "<div>\n",
       "<style scoped>\n",
       "    .dataframe tbody tr th:only-of-type {\n",
       "        vertical-align: middle;\n",
       "    }\n",
       "\n",
       "    .dataframe tbody tr th {\n",
       "        vertical-align: top;\n",
       "    }\n",
       "\n",
       "    .dataframe thead th {\n",
       "        text-align: right;\n",
       "    }\n",
       "</style>\n",
       "<table border=\"1\" class=\"dataframe\">\n",
       "  <thead>\n",
       "    <tr style=\"text-align: right;\">\n",
       "      <th></th>\n",
       "      <th>Acc_Z</th>\n",
       "      <th>time_ms</th>\n",
       "    </tr>\n",
       "  </thead>\n",
       "  <tbody>\n",
       "    <tr>\n",
       "      <th>count</th>\n",
       "      <td>735.000000</td>\n",
       "      <td>735.000000</td>\n",
       "    </tr>\n",
       "    <tr>\n",
       "      <th>mean</th>\n",
       "      <td>-0.697956</td>\n",
       "      <td>6116.789000</td>\n",
       "    </tr>\n",
       "    <tr>\n",
       "      <th>std</th>\n",
       "      <td>6.129550</td>\n",
       "      <td>3538.745981</td>\n",
       "    </tr>\n",
       "    <tr>\n",
       "      <th>min</th>\n",
       "      <td>-112.466820</td>\n",
       "      <td>0.000000</td>\n",
       "    </tr>\n",
       "    <tr>\n",
       "      <th>25%</th>\n",
       "      <td>-0.332215</td>\n",
       "      <td>3058.394500</td>\n",
       "    </tr>\n",
       "    <tr>\n",
       "      <th>50%</th>\n",
       "      <td>-0.248002</td>\n",
       "      <td>6116.789000</td>\n",
       "    </tr>\n",
       "    <tr>\n",
       "      <th>75%</th>\n",
       "      <td>-0.191477</td>\n",
       "      <td>9175.183500</td>\n",
       "    </tr>\n",
       "    <tr>\n",
       "      <th>max</th>\n",
       "      <td>81.483345</td>\n",
       "      <td>12233.578000</td>\n",
       "    </tr>\n",
       "  </tbody>\n",
       "</table>\n",
       "</div>"
      ],
      "text/plain": [
       "            Acc_Z       time_ms\n",
       "count  735.000000    735.000000\n",
       "mean    -0.697956   6116.789000\n",
       "std      6.129550   3538.745981\n",
       "min   -112.466820      0.000000\n",
       "25%     -0.332215   3058.394500\n",
       "50%     -0.248002   6116.789000\n",
       "75%     -0.191477   9175.183500\n",
       "max     81.483345  12233.578000"
      ]
     },
     "execution_count": 6,
     "metadata": {},
     "output_type": "execute_result"
    }
   ],
   "source": [
    "left[['Acc_Z', 'time_ms']].describe()"
   ]
  },
  {
   "cell_type": "code",
   "execution_count": 7,
   "id": "6f6666d7",
   "metadata": {},
   "outputs": [
    {
     "data": {
      "application/vnd.microsoft.datawrangler.viewer.v0+json": {
       "columns": [
        {
         "name": "index",
         "rawType": "object",
         "type": "string"
        },
        {
         "name": "Acc_Z",
         "rawType": "float64",
         "type": "float"
        },
        {
         "name": "time_ms",
         "rawType": "float64",
         "type": "float"
        }
       ],
       "conversionMethod": "pd.DataFrame",
       "ref": "88ca8780-fce8-443e-a3a7-48cc008825c0",
       "rows": [
        [
         "count",
         "735.0",
         "735.0"
        ],
        [
         "mean",
         "0.8862386857431866",
         "6116.788999999999"
        ],
        [
         "std",
         "2.272882265025297",
         "3538.7459807282016"
        ],
        [
         "min",
         "-5.86593627929688",
         "0.0"
        ],
        [
         "25%",
         "0.37121379375457997",
         "3058.3945"
        ],
        [
         "50%",
         "0.47405508160591",
         "6116.789"
        ],
        [
         "75%",
         "0.86111530661583",
         "9175.1835"
        ],
        [
         "max",
         "26.54154205322266",
         "12233.578"
        ]
       ],
       "shape": {
        "columns": 2,
        "rows": 8
       }
      },
      "text/html": [
       "<div>\n",
       "<style scoped>\n",
       "    .dataframe tbody tr th:only-of-type {\n",
       "        vertical-align: middle;\n",
       "    }\n",
       "\n",
       "    .dataframe tbody tr th {\n",
       "        vertical-align: top;\n",
       "    }\n",
       "\n",
       "    .dataframe thead th {\n",
       "        text-align: right;\n",
       "    }\n",
       "</style>\n",
       "<table border=\"1\" class=\"dataframe\">\n",
       "  <thead>\n",
       "    <tr style=\"text-align: right;\">\n",
       "      <th></th>\n",
       "      <th>Acc_Z</th>\n",
       "      <th>time_ms</th>\n",
       "    </tr>\n",
       "  </thead>\n",
       "  <tbody>\n",
       "    <tr>\n",
       "      <th>count</th>\n",
       "      <td>735.000000</td>\n",
       "      <td>735.000000</td>\n",
       "    </tr>\n",
       "    <tr>\n",
       "      <th>mean</th>\n",
       "      <td>0.886239</td>\n",
       "      <td>6116.789000</td>\n",
       "    </tr>\n",
       "    <tr>\n",
       "      <th>std</th>\n",
       "      <td>2.272882</td>\n",
       "      <td>3538.745981</td>\n",
       "    </tr>\n",
       "    <tr>\n",
       "      <th>min</th>\n",
       "      <td>-5.865936</td>\n",
       "      <td>0.000000</td>\n",
       "    </tr>\n",
       "    <tr>\n",
       "      <th>25%</th>\n",
       "      <td>0.371214</td>\n",
       "      <td>3058.394500</td>\n",
       "    </tr>\n",
       "    <tr>\n",
       "      <th>50%</th>\n",
       "      <td>0.474055</td>\n",
       "      <td>6116.789000</td>\n",
       "    </tr>\n",
       "    <tr>\n",
       "      <th>75%</th>\n",
       "      <td>0.861115</td>\n",
       "      <td>9175.183500</td>\n",
       "    </tr>\n",
       "    <tr>\n",
       "      <th>max</th>\n",
       "      <td>26.541542</td>\n",
       "      <td>12233.578000</td>\n",
       "    </tr>\n",
       "  </tbody>\n",
       "</table>\n",
       "</div>"
      ],
      "text/plain": [
       "            Acc_Z       time_ms\n",
       "count  735.000000    735.000000\n",
       "mean     0.886239   6116.789000\n",
       "std      2.272882   3538.745981\n",
       "min     -5.865936      0.000000\n",
       "25%      0.371214   3058.394500\n",
       "50%      0.474055   6116.789000\n",
       "75%      0.861115   9175.183500\n",
       "max     26.541542  12233.578000"
      ]
     },
     "execution_count": 7,
     "metadata": {},
     "output_type": "execute_result"
    }
   ],
   "source": [
    "pelvis[['Acc_Z', 'time_ms']].describe()"
   ]
  },
  {
   "cell_type": "code",
   "execution_count": 8,
   "id": "aa1fb6e3",
   "metadata": {},
   "outputs": [
    {
     "data": {
      "text/plain": [
       "<Axes: title={'center': 'Pelvis Acc Z vs Time'}, xlabel='time_ms'>"
      ]
     },
     "execution_count": 8,
     "metadata": {},
     "output_type": "execute_result"
    },
    {
     "data": {
      "image/png": "[encoded data removed]",
      "text/plain": [
       "<Figure size 1500x500 with 1 Axes>"
      ]
     },
     "metadata": {},
     "output_type": "display_data"
    },
    {
     "data": {
      "image/png": "[encoded data removed]",
      "text/plain": [
       "<Figure size 1500x500 with 1 Axes>"
      ]
     },
     "metadata": {},
     "output_type": "display_data"
    },
    {
     "data": {
      "image/png": "[encoded data removed]",
      "text/plain": [
       "<Figure size 1500x500 with 1 Axes>"
      ]
     },
     "metadata": {},
     "output_type": "display_data"
    }
   ],
   "source": [
    "# visualize the data and find the connection between the accelerometer  and times \n",
    "left.plot(x='time_ms', y='Acc_Z', title='Left Acc Z vs Time', figsize=(15, 5), color='blue')\n",
    "right.plot(x='time_ms', y='Acc_Z', title='Right Acc Z vs Time', figsize=(15, 5), color='red')\n",
    "pelvis.plot(x='time_ms', y='Acc_Z', title='Pelvis Acc Z vs Time', figsize=(15, 5), color='green')"
   ]
  }
 ],
 "metadata": {
  "kernelspec": {
   "display_name": ".venv",
   "language": "python",
   "name": "python3"
  },
  "language_info": {
   "codemirror_mode": {
    "name": "ipython",
    "version": 3
   },
   "file_extension": ".py",
   "mimetype": "text/x-python",
   "name": "python",
   "nbconvert_exporter": "python",
   "pygments_lexer": "ipython3",
   "version": "3.10.11"
  }
 },
 "nbformat": 4,
 "nbformat_minor": 5
}
