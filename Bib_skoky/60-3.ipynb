{
 "cells": [
  {
   "cell_type": "code",
   "execution_count": 3,
   "id": "94bd6350",
   "metadata": {},
   "outputs": [],
   "source": [
    "import pandas as pd\n",
    "import numpy as np\n",
    "import seaborn as sns\n",
    "import scipy.stats as stats\n",
    "import matplotlib.pyplot as plt\n",
    "from scipy.signal import butter, filtfilt\n",
    "from scipy.spatial.transform import Rotation as R"
   ]
  },
  {
   "cell_type": "code",
   "execution_count": 4,
   "id": "44440a2c",
   "metadata": {},
   "outputs": [],
   "source": [
    "pelvis = pd.read_csv('David-60-pokus03/Xsens_DOT_2_D422CD006474_20250409_110030.csv', skiprows= 7,  sep=',')\n",
    "right = pd.read_csv('David-60-pokus03/Xsens_DOT_4_D422CD006380_20250409_110030.csv', skiprows= 7,  sep=',')\n",
    "left = pd.read_csv('David-60-pokus03/Xsens_DOT_3_D422CD006379_20250409_110030.csv', skiprows= 7,  sep=',')"
   ]
  },
  {
   "cell_type": "code",
   "execution_count": 5,
   "id": "717118ff",
   "metadata": {},
   "outputs": [
    {
     "data": {
      "application/vnd.microsoft.datawrangler.viewer.v0+json": {
       "columns": [
        {
         "name": "index",
         "rawType": "int64",
         "type": "integer"
        },
        {
         "name": "PacketCounter",
         "rawType": "int64",
         "type": "integer"
        },
        {
         "name": "SampleTimeFine",
         "rawType": "int64",
         "type": "integer"
        },
        {
         "name": "Euler_X",
         "rawType": "float64",
         "type": "float"
        },
        {
         "name": "Euler_Y",
         "rawType": "float64",
         "type": "float"
        },
        {
         "name": "Euler_Z",
         "rawType": "float64",
         "type": "float"
        },
        {
         "name": "Acc_X",
         "rawType": "float64",
         "type": "float"
        },
        {
         "name": "Acc_Y",
         "rawType": "float64",
         "type": "float"
        },
        {
         "name": "Acc_Z",
         "rawType": "float64",
         "type": "float"
        },
        {
         "name": "Gyr_X",
         "rawType": "float64",
         "type": "float"
        },
        {
         "name": "Gyr_Y",
         "rawType": "float64",
         "type": "float"
        },
        {
         "name": "Gyr_Z",
         "rawType": "float64",
         "type": "float"
        }
       ],
       "conversionMethod": "pd.DataFrame",
       "ref": "80569854-98f3-484d-9794-7b08c4cc1eaf",
       "rows": [
        [
         "0",
         "0",
         "2285123563",
         "-179.2753448486328",
         "-86.53994750976562",
         "-114.79132843017578",
         "0.0",
         "0.0",
         "0.0",
         "0.0",
         "0.0",
         "0.0"
        ],
        [
         "1",
         "1",
         "2285140230",
         "-178.94227600097656",
         "-86.55957794189453",
         "-115.16445159912108",
         "9.79143810272217",
         "-0.4488699734211",
         "0.61736541986465",
         "-2.37851715087891",
         "0.00855464208871",
         "-0.41321608424187"
        ],
        [
         "2",
         "2",
         "2285156897",
         "-178.65354919433594",
         "-86.57549285888672",
         "-115.50991821289062",
         "9.75009059906006",
         "-0.54565435647964",
         "0.62308818101883",
         "-2.96374177932739",
         "-0.21362914144993",
         "-0.54615890979767"
        ],
        [
         "3",
         "3",
         "2285173564",
         "-178.34820556640625",
         "-86.5916519165039",
         "-115.85150146484376",
         "9.74499416351318",
         "-0.6563920378685",
         "0.67043834924698",
         "-1.65838408470154",
         "-0.17558786273003",
         "-0.57659310102463"
        ],
        [
         "4",
         "4",
         "2285190231",
         "-178.0092010498047",
         "-86.6121597290039",
         "-116.1889877319336",
         "9.79828262329102",
         "-0.6015682220459",
         "0.68183642625809",
         "0.18274660408497",
         "0.09173188358545",
         "-0.58717751502991"
        ]
       ],
       "shape": {
        "columns": 11,
        "rows": 5
       }
      },
      "text/html": [
       "<div>\n",
       "<style scoped>\n",
       "    .dataframe tbody tr th:only-of-type {\n",
       "        vertical-align: middle;\n",
       "    }\n",
       "\n",
       "    .dataframe tbody tr th {\n",
       "        vertical-align: top;\n",
       "    }\n",
       "\n",
       "    .dataframe thead th {\n",
       "        text-align: right;\n",
       "    }\n",
       "</style>\n",
       "<table border=\"1\" class=\"dataframe\">\n",
       "  <thead>\n",
       "    <tr style=\"text-align: right;\">\n",
       "      <th></th>\n",
       "      <th>PacketCounter</th>\n",
       "      <th>SampleTimeFine</th>\n",
       "      <th>Euler_X</th>\n",
       "      <th>Euler_Y</th>\n",
       "      <th>Euler_Z</th>\n",
       "      <th>Acc_X</th>\n",
       "      <th>Acc_Y</th>\n",
       "      <th>Acc_Z</th>\n",
       "      <th>Gyr_X</th>\n",
       "      <th>Gyr_Y</th>\n",
       "      <th>Gyr_Z</th>\n",
       "    </tr>\n",
       "  </thead>\n",
       "  <tbody>\n",
       "    <tr>\n",
       "      <th>0</th>\n",
       "      <td>0</td>\n",
       "      <td>2285123563</td>\n",
       "      <td>-179.275345</td>\n",
       "      <td>-86.539948</td>\n",
       "      <td>-114.791328</td>\n",
       "      <td>0.000000</td>\n",
       "      <td>0.000000</td>\n",
       "      <td>0.000000</td>\n",
       "      <td>0.000000</td>\n",
       "      <td>0.000000</td>\n",
       "      <td>0.000000</td>\n",
       "    </tr>\n",
       "    <tr>\n",
       "      <th>1</th>\n",
       "      <td>1</td>\n",
       "      <td>2285140230</td>\n",
       "      <td>-178.942276</td>\n",
       "      <td>-86.559578</td>\n",
       "      <td>-115.164452</td>\n",
       "      <td>9.791438</td>\n",
       "      <td>-0.448870</td>\n",
       "      <td>0.617365</td>\n",
       "      <td>-2.378517</td>\n",
       "      <td>0.008555</td>\n",
       "      <td>-0.413216</td>\n",
       "    </tr>\n",
       "    <tr>\n",
       "      <th>2</th>\n",
       "      <td>2</td>\n",
       "      <td>2285156897</td>\n",
       "      <td>-178.653549</td>\n",
       "      <td>-86.575493</td>\n",
       "      <td>-115.509918</td>\n",
       "      <td>9.750091</td>\n",
       "      <td>-0.545654</td>\n",
       "      <td>0.623088</td>\n",
       "      <td>-2.963742</td>\n",
       "      <td>-0.213629</td>\n",
       "      <td>-0.546159</td>\n",
       "    </tr>\n",
       "    <tr>\n",
       "      <th>3</th>\n",
       "      <td>3</td>\n",
       "      <td>2285173564</td>\n",
       "      <td>-178.348206</td>\n",
       "      <td>-86.591652</td>\n",
       "      <td>-115.851501</td>\n",
       "      <td>9.744994</td>\n",
       "      <td>-0.656392</td>\n",
       "      <td>0.670438</td>\n",
       "      <td>-1.658384</td>\n",
       "      <td>-0.175588</td>\n",
       "      <td>-0.576593</td>\n",
       "    </tr>\n",
       "    <tr>\n",
       "      <th>4</th>\n",
       "      <td>4</td>\n",
       "      <td>2285190231</td>\n",
       "      <td>-178.009201</td>\n",
       "      <td>-86.612160</td>\n",
       "      <td>-116.188988</td>\n",
       "      <td>9.798283</td>\n",
       "      <td>-0.601568</td>\n",
       "      <td>0.681836</td>\n",
       "      <td>0.182747</td>\n",
       "      <td>0.091732</td>\n",
       "      <td>-0.587178</td>\n",
       "    </tr>\n",
       "  </tbody>\n",
       "</table>\n",
       "</div>"
      ],
      "text/plain": [
       "   PacketCounter  SampleTimeFine     Euler_X    Euler_Y     Euler_Z     Acc_X  \\\n",
       "0              0      2285123563 -179.275345 -86.539948 -114.791328  0.000000   \n",
       "1              1      2285140230 -178.942276 -86.559578 -115.164452  9.791438   \n",
       "2              2      2285156897 -178.653549 -86.575493 -115.509918  9.750091   \n",
       "3              3      2285173564 -178.348206 -86.591652 -115.851501  9.744994   \n",
       "4              4      2285190231 -178.009201 -86.612160 -116.188988  9.798283   \n",
       "\n",
       "      Acc_Y     Acc_Z     Gyr_X     Gyr_Y     Gyr_Z  \n",
       "0  0.000000  0.000000  0.000000  0.000000  0.000000  \n",
       "1 -0.448870  0.617365 -2.378517  0.008555 -0.413216  \n",
       "2 -0.545654  0.623088 -2.963742 -0.213629 -0.546159  \n",
       "3 -0.656392  0.670438 -1.658384 -0.175588 -0.576593  \n",
       "4 -0.601568  0.681836  0.182747  0.091732 -0.587178  "
      ]
     },
     "execution_count": 5,
     "metadata": {},
     "output_type": "execute_result"
    }
   ],
   "source": [
    "right.head()"
   ]
  },
  {
   "cell_type": "code",
   "execution_count": 6,
   "id": "6a899233",
   "metadata": {},
   "outputs": [],
   "source": [
    "# I zero the clock at the first row, this makes all subsequent rows relative to test start\n",
    "right['real_ticks'] = right['SampleTimeFine'] - right['SampleTimeFine'].iloc[0] \n",
    "\n",
    "# Converting the ticks to seconds and milliseconds\n",
    "right['time_s'] = right['real_ticks'] * 1e-6\n",
    "\n",
    "# Convert seconds to milliseconds\n",
    "right['time_ms'] = right['time_s'] * 1000\n",
    "#  show the actual intervals between samples\n",
    "right['delta_ms'] = right['time_ms'].diff()\n",
    "\n",
    "# I zero the clock at the first row, this makes all subsequent rows relative to test start\n",
    "left['real_ticks'] = left['SampleTimeFine'] - left['SampleTimeFine'].iloc[0] \n",
    "\n",
    "# Converting the ticks to seconds and milliseconds\n",
    "left['time_s'] = left['real_ticks'] * 1e-6\n",
    "\n",
    "# Convert seconds to milliseconds\n",
    "left['time_ms'] = left['time_s'] * 1000\n",
    "#  show the actual intervals between samples\n",
    "left['delta_ms'] = left['time_ms'].diff()\n",
    "\n",
    "\n",
    "# I zero the clock at the first row, this makes all subsequent rows relative to test start\n",
    "pelvis['real_ticks'] = pelvis['SampleTimeFine'] - pelvis['SampleTimeFine'].iloc[0] \n",
    "\n",
    "# Converting the ticks to seconds and milliseconds\n",
    "pelvis['time_s'] = pelvis['real_ticks'] * 1e-6\n",
    "\n",
    "# Convert seconds to milliseconds\n",
    "pelvis['time_ms'] = pelvis['time_s'] * 1000\n",
    "#  show the actual intervals between samples\n",
    "pelvis['delta_ms'] = pelvis['time_ms'].diff()"
   ]
  },
  {
   "cell_type": "code",
   "execution_count": 13,
   "id": "df05981b",
   "metadata": {},
   "outputs": [
    {
     "data": {
      "application/vnd.microsoft.datawrangler.viewer.v0+json": {
       "columns": [
        {
         "name": "index",
         "rawType": "int64",
         "type": "integer"
        },
        {
         "name": "PacketCounter",
         "rawType": "int64",
         "type": "integer"
        },
        {
         "name": "SampleTimeFine",
         "rawType": "int64",
         "type": "integer"
        },
        {
         "name": "Euler_X",
         "rawType": "float64",
         "type": "float"
        },
        {
         "name": "Euler_Y",
         "rawType": "float64",
         "type": "float"
        },
        {
         "name": "Euler_Z",
         "rawType": "float64",
         "type": "float"
        },
        {
         "name": "Acc_X",
         "rawType": "float64",
         "type": "float"
        },
        {
         "name": "Acc_Y",
         "rawType": "float64",
         "type": "float"
        },
        {
         "name": "Acc_Z",
         "rawType": "float64",
         "type": "float"
        },
        {
         "name": "Gyr_X",
         "rawType": "float64",
         "type": "float"
        },
        {
         "name": "Gyr_Y",
         "rawType": "float64",
         "type": "float"
        },
        {
         "name": "Gyr_Z",
         "rawType": "float64",
         "type": "float"
        },
        {
         "name": "real_ticks",
         "rawType": "int64",
         "type": "integer"
        },
        {
         "name": "time_s",
         "rawType": "float64",
         "type": "float"
        },
        {
         "name": "time_ms",
         "rawType": "float64",
         "type": "float"
        },
        {
         "name": "delta_ms",
         "rawType": "float64",
         "type": "float"
        }
       ],
       "conversionMethod": "pd.DataFrame",
       "ref": "0e7855ad-bbe5-42d6-83bd-79dde2f262eb",
       "rows": [
        [
         "0",
         "0",
         "2285123563",
         "-179.2753448486328",
         "-86.53994750976562",
         "-114.79132843017578",
         "0.0",
         "0.0",
         "0.0",
         "0.0",
         "0.0",
         "0.0",
         "0",
         "0.0",
         "0.0",
         null
        ],
        [
         "1",
         "1",
         "2285140230",
         "-178.94227600097656",
         "-86.55957794189453",
         "-115.16445159912108",
         "9.79143810272217",
         "-0.4488699734211",
         "0.61736541986465",
         "-2.37851715087891",
         "0.00855464208871",
         "-0.41321608424187",
         "16667",
         "0.016666999999999998",
         "16.666999999999998",
         "16.666999999999998"
        ],
        [
         "2",
         "2",
         "2285156897",
         "-178.65354919433594",
         "-86.57549285888672",
         "-115.50991821289062",
         "9.75009059906006",
         "-0.54565435647964",
         "0.62308818101883",
         "-2.96374177932739",
         "-0.21362914144993",
         "-0.54615890979767",
         "33334",
         "0.033333999999999996",
         "33.333999999999996",
         "16.666999999999998"
        ],
        [
         "3",
         "3",
         "2285173564",
         "-178.34820556640625",
         "-86.5916519165039",
         "-115.85150146484376",
         "9.74499416351318",
         "-0.6563920378685",
         "0.67043834924698",
         "-1.65838408470154",
         "-0.17558786273003",
         "-0.57659310102463",
         "50001",
         "0.050001",
         "50.001",
         "16.667"
        ],
        [
         "4",
         "4",
         "2285190231",
         "-178.0092010498047",
         "-86.6121597290039",
         "-116.1889877319336",
         "9.79828262329102",
         "-0.6015682220459",
         "0.68183642625809",
         "0.18274660408497",
         "0.09173188358545",
         "-0.58717751502991",
         "66668",
         "0.06666799999999999",
         "66.66799999999999",
         "16.666999999999994"
        ]
       ],
       "shape": {
        "columns": 15,
        "rows": 5
       }
      },
      "text/html": [
       "<div>\n",
       "<style scoped>\n",
       "    .dataframe tbody tr th:only-of-type {\n",
       "        vertical-align: middle;\n",
       "    }\n",
       "\n",
       "    .dataframe tbody tr th {\n",
       "        vertical-align: top;\n",
       "    }\n",
       "\n",
       "    .dataframe thead th {\n",
       "        text-align: right;\n",
       "    }\n",
       "</style>\n",
       "<table border=\"1\" class=\"dataframe\">\n",
       "  <thead>\n",
       "    <tr style=\"text-align: right;\">\n",
       "      <th></th>\n",
       "      <th>PacketCounter</th>\n",
       "      <th>SampleTimeFine</th>\n",
       "      <th>Euler_X</th>\n",
       "      <th>Euler_Y</th>\n",
       "      <th>Euler_Z</th>\n",
       "      <th>Acc_X</th>\n",
       "      <th>Acc_Y</th>\n",
       "      <th>Acc_Z</th>\n",
       "      <th>Gyr_X</th>\n",
       "      <th>Gyr_Y</th>\n",
       "      <th>Gyr_Z</th>\n",
       "      <th>real_ticks</th>\n",
       "      <th>time_s</th>\n",
       "      <th>time_ms</th>\n",
       "      <th>delta_ms</th>\n",
       "    </tr>\n",
       "  </thead>\n",
       "  <tbody>\n",
       "    <tr>\n",
       "      <th>0</th>\n",
       "      <td>0</td>\n",
       "      <td>2285123563</td>\n",
       "      <td>-179.275345</td>\n",
       "      <td>-86.539948</td>\n",
       "      <td>-114.791328</td>\n",
       "      <td>0.000000</td>\n",
       "      <td>0.000000</td>\n",
       "      <td>0.000000</td>\n",
       "      <td>0.000000</td>\n",
       "      <td>0.000000</td>\n",
       "      <td>0.000000</td>\n",
       "      <td>0</td>\n",
       "      <td>0.000000</td>\n",
       "      <td>0.000</td>\n",
       "      <td>NaN</td>\n",
       "    </tr>\n",
       "    <tr>\n",
       "      <th>1</th>\n",
       "      <td>1</td>\n",
       "      <td>2285140230</td>\n",
       "      <td>-178.942276</td>\n",
       "      <td>-86.559578</td>\n",
       "      <td>-115.164452</td>\n",
       "      <td>9.791438</td>\n",
       "      <td>-0.448870</td>\n",
       "      <td>0.617365</td>\n",
       "      <td>-2.378517</td>\n",
       "      <td>0.008555</td>\n",
       "      <td>-0.413216</td>\n",
       "      <td>16667</td>\n",
       "      <td>0.016667</td>\n",
       "      <td>16.667</td>\n",
       "      <td>16.667</td>\n",
       "    </tr>\n",
       "    <tr>\n",
       "      <th>2</th>\n",
       "      <td>2</td>\n",
       "      <td>2285156897</td>\n",
       "      <td>-178.653549</td>\n",
       "      <td>-86.575493</td>\n",
       "      <td>-115.509918</td>\n",
       "      <td>9.750091</td>\n",
       "      <td>-0.545654</td>\n",
       "      <td>0.623088</td>\n",
       "      <td>-2.963742</td>\n",
       "      <td>-0.213629</td>\n",
       "      <td>-0.546159</td>\n",
       "      <td>33334</td>\n",
       "      <td>0.033334</td>\n",
       "      <td>33.334</td>\n",
       "      <td>16.667</td>\n",
       "    </tr>\n",
       "    <tr>\n",
       "      <th>3</th>\n",
       "      <td>3</td>\n",
       "      <td>2285173564</td>\n",
       "      <td>-178.348206</td>\n",
       "      <td>-86.591652</td>\n",
       "      <td>-115.851501</td>\n",
       "      <td>9.744994</td>\n",
       "      <td>-0.656392</td>\n",
       "      <td>0.670438</td>\n",
       "      <td>-1.658384</td>\n",
       "      <td>-0.175588</td>\n",
       "      <td>-0.576593</td>\n",
       "      <td>50001</td>\n",
       "      <td>0.050001</td>\n",
       "      <td>50.001</td>\n",
       "      <td>16.667</td>\n",
       "    </tr>\n",
       "    <tr>\n",
       "      <th>4</th>\n",
       "      <td>4</td>\n",
       "      <td>2285190231</td>\n",
       "      <td>-178.009201</td>\n",
       "      <td>-86.612160</td>\n",
       "      <td>-116.188988</td>\n",
       "      <td>9.798283</td>\n",
       "      <td>-0.601568</td>\n",
       "      <td>0.681836</td>\n",
       "      <td>0.182747</td>\n",
       "      <td>0.091732</td>\n",
       "      <td>-0.587178</td>\n",
       "      <td>66668</td>\n",
       "      <td>0.066668</td>\n",
       "      <td>66.668</td>\n",
       "      <td>16.667</td>\n",
       "    </tr>\n",
       "  </tbody>\n",
       "</table>\n",
       "</div>"
      ],
      "text/plain": [
       "   PacketCounter  SampleTimeFine     Euler_X    Euler_Y     Euler_Z     Acc_X  \\\n",
       "0              0      2285123563 -179.275345 -86.539948 -114.791328  0.000000   \n",
       "1              1      2285140230 -178.942276 -86.559578 -115.164452  9.791438   \n",
       "2              2      2285156897 -178.653549 -86.575493 -115.509918  9.750091   \n",
       "3              3      2285173564 -178.348206 -86.591652 -115.851501  9.744994   \n",
       "4              4      2285190231 -178.009201 -86.612160 -116.188988  9.798283   \n",
       "\n",
       "      Acc_Y     Acc_Z     Gyr_X     Gyr_Y     Gyr_Z  real_ticks    time_s  \\\n",
       "0  0.000000  0.000000  0.000000  0.000000  0.000000           0  0.000000   \n",
       "1 -0.448870  0.617365 -2.378517  0.008555 -0.413216       16667  0.016667   \n",
       "2 -0.545654  0.623088 -2.963742 -0.213629 -0.546159       33334  0.033334   \n",
       "3 -0.656392  0.670438 -1.658384 -0.175588 -0.576593       50001  0.050001   \n",
       "4 -0.601568  0.681836  0.182747  0.091732 -0.587178       66668  0.066668   \n",
       "\n",
       "   time_ms  delta_ms  \n",
       "0    0.000       NaN  \n",
       "1   16.667    16.667  \n",
       "2   33.334    16.667  \n",
       "3   50.001    16.667  \n",
       "4   66.668    16.667  "
      ]
     },
     "execution_count": 13,
     "metadata": {},
     "output_type": "execute_result"
    }
   ],
   "source": [
    "right.head()"
   ]
  },
  {
   "cell_type": "code",
   "execution_count": 11,
   "id": "9891c587",
   "metadata": {},
   "outputs": [
    {
     "data": {
      "application/vnd.microsoft.datawrangler.viewer.v0+json": {
       "columns": [
        {
         "name": "index",
         "rawType": "int64",
         "type": "integer"
        },
        {
         "name": "PacketCounter",
         "rawType": "int64",
         "type": "integer"
        },
        {
         "name": "SampleTimeFine",
         "rawType": "int64",
         "type": "integer"
        },
        {
         "name": "Euler_X",
         "rawType": "float64",
         "type": "float"
        },
        {
         "name": "Euler_Y",
         "rawType": "float64",
         "type": "float"
        },
        {
         "name": "Euler_Z",
         "rawType": "float64",
         "type": "float"
        },
        {
         "name": "Acc_X",
         "rawType": "float64",
         "type": "float"
        },
        {
         "name": "Acc_Y",
         "rawType": "float64",
         "type": "float"
        },
        {
         "name": "Acc_Z",
         "rawType": "float64",
         "type": "float"
        },
        {
         "name": "Gyr_X",
         "rawType": "float64",
         "type": "float"
        },
        {
         "name": "Gyr_Y",
         "rawType": "float64",
         "type": "float"
        },
        {
         "name": "Gyr_Z",
         "rawType": "float64",
         "type": "float"
        },
        {
         "name": "real_ticks",
         "rawType": "int64",
         "type": "integer"
        },
        {
         "name": "time_s",
         "rawType": "float64",
         "type": "float"
        },
        {
         "name": "time_ms",
         "rawType": "float64",
         "type": "float"
        },
        {
         "name": "delta_ms",
         "rawType": "float64",
         "type": "float"
        }
       ],
       "conversionMethod": "pd.DataFrame",
       "ref": "d5bcff3c-4e6f-48bf-9a05-53a2410fb3b5",
       "rows": [
        [
         "0",
         "0",
         "2285123563",
         "-179.2753448486328",
         "-86.53994750976562",
         "-114.79132843017578",
         "0.0",
         "0.0",
         "0.0",
         "0.0",
         "0.0",
         "0.0",
         "0",
         "0.0",
         "0.0",
         null
        ],
        [
         "1",
         "1",
         "2285140230",
         "-178.94227600097656",
         "-86.55957794189453",
         "-115.16445159912108",
         "9.79143810272217",
         "-0.4488699734211",
         "0.61736541986465",
         "-2.37851715087891",
         "0.00855464208871",
         "-0.41321608424187",
         "16667",
         "0.016666999999999998",
         "16.666999999999998",
         "16.666999999999998"
        ],
        [
         "2",
         "2",
         "2285156897",
         "-178.65354919433594",
         "-86.57549285888672",
         "-115.50991821289062",
         "9.75009059906006",
         "-0.54565435647964",
         "0.62308818101883",
         "-2.96374177932739",
         "-0.21362914144993",
         "-0.54615890979767",
         "33334",
         "0.033333999999999996",
         "33.333999999999996",
         "16.666999999999998"
        ],
        [
         "3",
         "3",
         "2285173564",
         "-178.34820556640625",
         "-86.5916519165039",
         "-115.85150146484376",
         "9.74499416351318",
         "-0.6563920378685",
         "0.67043834924698",
         "-1.65838408470154",
         "-0.17558786273003",
         "-0.57659310102463",
         "50001",
         "0.050001",
         "50.001",
         "16.667"
        ],
        [
         "4",
         "4",
         "2285190231",
         "-178.0092010498047",
         "-86.6121597290039",
         "-116.1889877319336",
         "9.79828262329102",
         "-0.6015682220459",
         "0.68183642625809",
         "0.18274660408497",
         "0.09173188358545",
         "-0.58717751502991",
         "66668",
         "0.06666799999999999",
         "66.66799999999999",
         "16.666999999999994"
        ]
       ],
       "shape": {
        "columns": 15,
        "rows": 5
       }
      },
      "text/html": [
       "<div>\n",
       "<style scoped>\n",
       "    .dataframe tbody tr th:only-of-type {\n",
       "        vertical-align: middle;\n",
       "    }\n",
       "\n",
       "    .dataframe tbody tr th {\n",
       "        vertical-align: top;\n",
       "    }\n",
       "\n",
       "    .dataframe thead th {\n",
       "        text-align: right;\n",
       "    }\n",
       "</style>\n",
       "<table border=\"1\" class=\"dataframe\">\n",
       "  <thead>\n",
       "    <tr style=\"text-align: right;\">\n",
       "      <th></th>\n",
       "      <th>PacketCounter</th>\n",
       "      <th>SampleTimeFine</th>\n",
       "      <th>Euler_X</th>\n",
       "      <th>Euler_Y</th>\n",
       "      <th>Euler_Z</th>\n",
       "      <th>Acc_X</th>\n",
       "      <th>Acc_Y</th>\n",
       "      <th>Acc_Z</th>\n",
       "      <th>Gyr_X</th>\n",
       "      <th>Gyr_Y</th>\n",
       "      <th>Gyr_Z</th>\n",
       "      <th>real_ticks</th>\n",
       "      <th>time_s</th>\n",
       "      <th>time_ms</th>\n",
       "      <th>delta_ms</th>\n",
       "    </tr>\n",
       "  </thead>\n",
       "  <tbody>\n",
       "    <tr>\n",
       "      <th>0</th>\n",
       "      <td>0</td>\n",
       "      <td>2285123563</td>\n",
       "      <td>-179.275345</td>\n",
       "      <td>-86.539948</td>\n",
       "      <td>-114.791328</td>\n",
       "      <td>0.000000</td>\n",
       "      <td>0.000000</td>\n",
       "      <td>0.000000</td>\n",
       "      <td>0.000000</td>\n",
       "      <td>0.000000</td>\n",
       "      <td>0.000000</td>\n",
       "      <td>0</td>\n",
       "      <td>0.000000</td>\n",
       "      <td>0.000</td>\n",
       "      <td>NaN</td>\n",
       "    </tr>\n",
       "    <tr>\n",
       "      <th>1</th>\n",
       "      <td>1</td>\n",
       "      <td>2285140230</td>\n",
       "      <td>-178.942276</td>\n",
       "      <td>-86.559578</td>\n",
       "      <td>-115.164452</td>\n",
       "      <td>9.791438</td>\n",
       "      <td>-0.448870</td>\n",
       "      <td>0.617365</td>\n",
       "      <td>-2.378517</td>\n",
       "      <td>0.008555</td>\n",
       "      <td>-0.413216</td>\n",
       "      <td>16667</td>\n",
       "      <td>0.016667</td>\n",
       "      <td>16.667</td>\n",
       "      <td>16.667</td>\n",
       "    </tr>\n",
       "    <tr>\n",
       "      <th>2</th>\n",
       "      <td>2</td>\n",
       "      <td>2285156897</td>\n",
       "      <td>-178.653549</td>\n",
       "      <td>-86.575493</td>\n",
       "      <td>-115.509918</td>\n",
       "      <td>9.750091</td>\n",
       "      <td>-0.545654</td>\n",
       "      <td>0.623088</td>\n",
       "      <td>-2.963742</td>\n",
       "      <td>-0.213629</td>\n",
       "      <td>-0.546159</td>\n",
       "      <td>33334</td>\n",
       "      <td>0.033334</td>\n",
       "      <td>33.334</td>\n",
       "      <td>16.667</td>\n",
       "    </tr>\n",
       "    <tr>\n",
       "      <th>3</th>\n",
       "      <td>3</td>\n",
       "      <td>2285173564</td>\n",
       "      <td>-178.348206</td>\n",
       "      <td>-86.591652</td>\n",
       "      <td>-115.851501</td>\n",
       "      <td>9.744994</td>\n",
       "      <td>-0.656392</td>\n",
       "      <td>0.670438</td>\n",
       "      <td>-1.658384</td>\n",
       "      <td>-0.175588</td>\n",
       "      <td>-0.576593</td>\n",
       "      <td>50001</td>\n",
       "      <td>0.050001</td>\n",
       "      <td>50.001</td>\n",
       "      <td>16.667</td>\n",
       "    </tr>\n",
       "    <tr>\n",
       "      <th>4</th>\n",
       "      <td>4</td>\n",
       "      <td>2285190231</td>\n",
       "      <td>-178.009201</td>\n",
       "      <td>-86.612160</td>\n",
       "      <td>-116.188988</td>\n",
       "      <td>9.798283</td>\n",
       "      <td>-0.601568</td>\n",
       "      <td>0.681836</td>\n",
       "      <td>0.182747</td>\n",
       "      <td>0.091732</td>\n",
       "      <td>-0.587178</td>\n",
       "      <td>66668</td>\n",
       "      <td>0.066668</td>\n",
       "      <td>66.668</td>\n",
       "      <td>16.667</td>\n",
       "    </tr>\n",
       "  </tbody>\n",
       "</table>\n",
       "</div>"
      ],
      "text/plain": [
       "   PacketCounter  SampleTimeFine     Euler_X    Euler_Y     Euler_Z     Acc_X  \\\n",
       "0              0      2285123563 -179.275345 -86.539948 -114.791328  0.000000   \n",
       "1              1      2285140230 -178.942276 -86.559578 -115.164452  9.791438   \n",
       "2              2      2285156897 -178.653549 -86.575493 -115.509918  9.750091   \n",
       "3              3      2285173564 -178.348206 -86.591652 -115.851501  9.744994   \n",
       "4              4      2285190231 -178.009201 -86.612160 -116.188988  9.798283   \n",
       "\n",
       "      Acc_Y     Acc_Z     Gyr_X     Gyr_Y     Gyr_Z  real_ticks    time_s  \\\n",
       "0  0.000000  0.000000  0.000000  0.000000  0.000000           0  0.000000   \n",
       "1 -0.448870  0.617365 -2.378517  0.008555 -0.413216       16667  0.016667   \n",
       "2 -0.545654  0.623088 -2.963742 -0.213629 -0.546159       33334  0.033334   \n",
       "3 -0.656392  0.670438 -1.658384 -0.175588 -0.576593       50001  0.050001   \n",
       "4 -0.601568  0.681836  0.182747  0.091732 -0.587178       66668  0.066668   \n",
       "\n",
       "   time_ms  delta_ms  \n",
       "0    0.000       NaN  \n",
       "1   16.667    16.667  \n",
       "2   33.334    16.667  \n",
       "3   50.001    16.667  \n",
       "4   66.668    16.667  "
      ]
     },
     "execution_count": 11,
     "metadata": {},
     "output_type": "execute_result"
    }
   ],
   "source": [
    "right.head()"
   ]
  },
  {
   "cell_type": "code",
   "execution_count": 7,
   "id": "f5b599dd",
   "metadata": {},
   "outputs": [
    {
     "data": {
      "application/vnd.microsoft.datawrangler.viewer.v0+json": {
       "columns": [
        {
         "name": "index",
         "rawType": "object",
         "type": "string"
        },
        {
         "name": "Acc_Z",
         "rawType": "float64",
         "type": "float"
        },
        {
         "name": "time_ms",
         "rawType": "float64",
         "type": "float"
        }
       ],
       "conversionMethod": "pd.DataFrame",
       "ref": "fd5f4858-bbed-4e06-bc4e-2c7d6410f3d7",
       "rows": [
        [
         "count",
         "693.0",
         "693.0"
        ],
        [
         "mean",
         "0.4815772647497715",
         "5766.781999999999"
        ],
        [
         "std",
         "6.8862803794508585",
         "3336.6692955380668"
        ],
        [
         "min",
         "-84.6270980834961",
         "0.0"
        ],
        [
         "25%",
         "0.63392579555511",
         "2883.391"
        ],
        [
         "50%",
         "0.75050121545792",
         "5766.782"
        ],
        [
         "75%",
         "0.96002584695816",
         "8650.172999999999"
        ],
        [
         "max",
         "50.94737243652344",
         "11533.564"
        ]
       ],
       "shape": {
        "columns": 2,
        "rows": 8
       }
      },
      "text/html": [
       "<div>\n",
       "<style scoped>\n",
       "    .dataframe tbody tr th:only-of-type {\n",
       "        vertical-align: middle;\n",
       "    }\n",
       "\n",
       "    .dataframe tbody tr th {\n",
       "        vertical-align: top;\n",
       "    }\n",
       "\n",
       "    .dataframe thead th {\n",
       "        text-align: right;\n",
       "    }\n",
       "</style>\n",
       "<table border=\"1\" class=\"dataframe\">\n",
       "  <thead>\n",
       "    <tr style=\"text-align: right;\">\n",
       "      <th></th>\n",
       "      <th>Acc_Z</th>\n",
       "      <th>time_ms</th>\n",
       "    </tr>\n",
       "  </thead>\n",
       "  <tbody>\n",
       "    <tr>\n",
       "      <th>count</th>\n",
       "      <td>693.000000</td>\n",
       "      <td>693.000000</td>\n",
       "    </tr>\n",
       "    <tr>\n",
       "      <th>mean</th>\n",
       "      <td>0.481577</td>\n",
       "      <td>5766.782000</td>\n",
       "    </tr>\n",
       "    <tr>\n",
       "      <th>std</th>\n",
       "      <td>6.886280</td>\n",
       "      <td>3336.669296</td>\n",
       "    </tr>\n",
       "    <tr>\n",
       "      <th>min</th>\n",
       "      <td>-84.627098</td>\n",
       "      <td>0.000000</td>\n",
       "    </tr>\n",
       "    <tr>\n",
       "      <th>25%</th>\n",
       "      <td>0.633926</td>\n",
       "      <td>2883.391000</td>\n",
       "    </tr>\n",
       "    <tr>\n",
       "      <th>50%</th>\n",
       "      <td>0.750501</td>\n",
       "      <td>5766.782000</td>\n",
       "    </tr>\n",
       "    <tr>\n",
       "      <th>75%</th>\n",
       "      <td>0.960026</td>\n",
       "      <td>8650.173000</td>\n",
       "    </tr>\n",
       "    <tr>\n",
       "      <th>max</th>\n",
       "      <td>50.947372</td>\n",
       "      <td>11533.564000</td>\n",
       "    </tr>\n",
       "  </tbody>\n",
       "</table>\n",
       "</div>"
      ],
      "text/plain": [
       "            Acc_Z       time_ms\n",
       "count  693.000000    693.000000\n",
       "mean     0.481577   5766.782000\n",
       "std      6.886280   3336.669296\n",
       "min    -84.627098      0.000000\n",
       "25%      0.633926   2883.391000\n",
       "50%      0.750501   5766.782000\n",
       "75%      0.960026   8650.173000\n",
       "max     50.947372  11533.564000"
      ]
     },
     "execution_count": 7,
     "metadata": {},
     "output_type": "execute_result"
    }
   ],
   "source": [
    "right[['Acc_Z', 'time_ms']].describe()"
   ]
  },
  {
   "cell_type": "code",
   "execution_count": 8,
   "id": "eeea07dc",
   "metadata": {},
   "outputs": [
    {
     "data": {
      "application/vnd.microsoft.datawrangler.viewer.v0+json": {
       "columns": [
        {
         "name": "index",
         "rawType": "object",
         "type": "string"
        },
        {
         "name": "Acc_Z",
         "rawType": "float64",
         "type": "float"
        },
        {
         "name": "time_ms",
         "rawType": "float64",
         "type": "float"
        }
       ],
       "conversionMethod": "pd.DataFrame",
       "ref": "29ba2450-95dd-48da-86f5-bdc65a7f607f",
       "rows": [
        [
         "count",
         "693.0",
         "693.0"
        ],
        [
         "mean",
         "-1.0436154219465035",
         "5766.781999999999"
        ],
        [
         "std",
         "8.571508366160396",
         "3336.6692955380668"
        ],
        [
         "min",
         "-126.69711303710938",
         "0.0"
        ],
        [
         "25%",
         "-0.61347109079361",
         "2883.391"
        ],
        [
         "50%",
         "-0.47693794965744",
         "5766.782"
        ],
        [
         "75%",
         "-0.3422295153141",
         "8650.172999999999"
        ],
        [
         "max",
         "93.65752410888672",
         "11533.564"
        ]
       ],
       "shape": {
        "columns": 2,
        "rows": 8
       }
      },
      "text/html": [
       "<div>\n",
       "<style scoped>\n",
       "    .dataframe tbody tr th:only-of-type {\n",
       "        vertical-align: middle;\n",
       "    }\n",
       "\n",
       "    .dataframe tbody tr th {\n",
       "        vertical-align: top;\n",
       "    }\n",
       "\n",
       "    .dataframe thead th {\n",
       "        text-align: right;\n",
       "    }\n",
       "</style>\n",
       "<table border=\"1\" class=\"dataframe\">\n",
       "  <thead>\n",
       "    <tr style=\"text-align: right;\">\n",
       "      <th></th>\n",
       "      <th>Acc_Z</th>\n",
       "      <th>time_ms</th>\n",
       "    </tr>\n",
       "  </thead>\n",
       "  <tbody>\n",
       "    <tr>\n",
       "      <th>count</th>\n",
       "      <td>693.000000</td>\n",
       "      <td>693.000000</td>\n",
       "    </tr>\n",
       "    <tr>\n",
       "      <th>mean</th>\n",
       "      <td>-1.043615</td>\n",
       "      <td>5766.782000</td>\n",
       "    </tr>\n",
       "    <tr>\n",
       "      <th>std</th>\n",
       "      <td>8.571508</td>\n",
       "      <td>3336.669296</td>\n",
       "    </tr>\n",
       "    <tr>\n",
       "      <th>min</th>\n",
       "      <td>-126.697113</td>\n",
       "      <td>0.000000</td>\n",
       "    </tr>\n",
       "    <tr>\n",
       "      <th>25%</th>\n",
       "      <td>-0.613471</td>\n",
       "      <td>2883.391000</td>\n",
       "    </tr>\n",
       "    <tr>\n",
       "      <th>50%</th>\n",
       "      <td>-0.476938</td>\n",
       "      <td>5766.782000</td>\n",
       "    </tr>\n",
       "    <tr>\n",
       "      <th>75%</th>\n",
       "      <td>-0.342230</td>\n",
       "      <td>8650.173000</td>\n",
       "    </tr>\n",
       "    <tr>\n",
       "      <th>max</th>\n",
       "      <td>93.657524</td>\n",
       "      <td>11533.564000</td>\n",
       "    </tr>\n",
       "  </tbody>\n",
       "</table>\n",
       "</div>"
      ],
      "text/plain": [
       "            Acc_Z       time_ms\n",
       "count  693.000000    693.000000\n",
       "mean    -1.043615   5766.782000\n",
       "std      8.571508   3336.669296\n",
       "min   -126.697113      0.000000\n",
       "25%     -0.613471   2883.391000\n",
       "50%     -0.476938   5766.782000\n",
       "75%     -0.342230   8650.173000\n",
       "max     93.657524  11533.564000"
      ]
     },
     "execution_count": 8,
     "metadata": {},
     "output_type": "execute_result"
    }
   ],
   "source": [
    "left[['Acc_Z', 'time_ms']].describe()"
   ]
  },
  {
   "cell_type": "code",
   "execution_count": 9,
   "id": "fdd2f145",
   "metadata": {},
   "outputs": [
    {
     "data": {
      "application/vnd.microsoft.datawrangler.viewer.v0+json": {
       "columns": [
        {
         "name": "index",
         "rawType": "object",
         "type": "string"
        },
        {
         "name": "Acc_Z",
         "rawType": "float64",
         "type": "float"
        },
        {
         "name": "time_ms",
         "rawType": "float64",
         "type": "float"
        }
       ],
       "conversionMethod": "pd.DataFrame",
       "ref": "c8897d5c-0fad-44fe-bbbd-0813a5b684ed",
       "rows": [
        [
         "count",
         "693.0",
         "693.0"
        ],
        [
         "mean",
         "1.1134794261561864",
         "5766.781999999999"
        ],
        [
         "std",
         "3.1497839126337626",
         "3336.6692955380668"
        ],
        [
         "min",
         "-6.94019174575806",
         "0.0"
        ],
        [
         "25%",
         "0.37533789873123",
         "2883.391"
        ],
        [
         "50%",
         "0.51269698143005",
         "5766.782"
        ],
        [
         "75%",
         "0.69775944948196",
         "8650.172999999999"
        ],
        [
         "max",
         "35.85859680175781",
         "11533.564"
        ]
       ],
       "shape": {
        "columns": 2,
        "rows": 8
       }
      },
      "text/html": [
       "<div>\n",
       "<style scoped>\n",
       "    .dataframe tbody tr th:only-of-type {\n",
       "        vertical-align: middle;\n",
       "    }\n",
       "\n",
       "    .dataframe tbody tr th {\n",
       "        vertical-align: top;\n",
       "    }\n",
       "\n",
       "    .dataframe thead th {\n",
       "        text-align: right;\n",
       "    }\n",
       "</style>\n",
       "<table border=\"1\" class=\"dataframe\">\n",
       "  <thead>\n",
       "    <tr style=\"text-align: right;\">\n",
       "      <th></th>\n",
       "      <th>Acc_Z</th>\n",
       "      <th>time_ms</th>\n",
       "    </tr>\n",
       "  </thead>\n",
       "  <tbody>\n",
       "    <tr>\n",
       "      <th>count</th>\n",
       "      <td>693.000000</td>\n",
       "      <td>693.000000</td>\n",
       "    </tr>\n",
       "    <tr>\n",
       "      <th>mean</th>\n",
       "      <td>1.113479</td>\n",
       "      <td>5766.782000</td>\n",
       "    </tr>\n",
       "    <tr>\n",
       "      <th>std</th>\n",
       "      <td>3.149784</td>\n",
       "      <td>3336.669296</td>\n",
       "    </tr>\n",
       "    <tr>\n",
       "      <th>min</th>\n",
       "      <td>-6.940192</td>\n",
       "      <td>0.000000</td>\n",
       "    </tr>\n",
       "    <tr>\n",
       "      <th>25%</th>\n",
       "      <td>0.375338</td>\n",
       "      <td>2883.391000</td>\n",
       "    </tr>\n",
       "    <tr>\n",
       "      <th>50%</th>\n",
       "      <td>0.512697</td>\n",
       "      <td>5766.782000</td>\n",
       "    </tr>\n",
       "    <tr>\n",
       "      <th>75%</th>\n",
       "      <td>0.697759</td>\n",
       "      <td>8650.173000</td>\n",
       "    </tr>\n",
       "    <tr>\n",
       "      <th>max</th>\n",
       "      <td>35.858597</td>\n",
       "      <td>11533.564000</td>\n",
       "    </tr>\n",
       "  </tbody>\n",
       "</table>\n",
       "</div>"
      ],
      "text/plain": [
       "            Acc_Z       time_ms\n",
       "count  693.000000    693.000000\n",
       "mean     1.113479   5766.782000\n",
       "std      3.149784   3336.669296\n",
       "min     -6.940192      0.000000\n",
       "25%      0.375338   2883.391000\n",
       "50%      0.512697   5766.782000\n",
       "75%      0.697759   8650.173000\n",
       "max     35.858597  11533.564000"
      ]
     },
     "execution_count": 9,
     "metadata": {},
     "output_type": "execute_result"
    }
   ],
   "source": [
    "pelvis[['Acc_Z', 'time_ms']].describe()"
   ]
  },
  {
   "cell_type": "code",
   "execution_count": 10,
   "id": "ebd54f68",
   "metadata": {},
   "outputs": [
    {
     "data": {
      "text/plain": [
       "<Axes: title={'center': 'Pelvis Acc Z vs Time'}, xlabel='time_ms'>"
      ]
     },
     "execution_count": 10,
     "metadata": {},
     "output_type": "execute_result"
    },
    {
     "data": {
      "image/png": "[encoded data removed]",
      "text/plain": [
       "<Figure size 1500x500 with 1 Axes>"
      ]
     },
     "metadata": {},
     "output_type": "display_data"
    },
    {
     "data": {
      "image/png": "[encoded data removed]",
      "text/plain": [
       "<Figure size 1500x500 with 1 Axes>"
      ]
     },
     "metadata": {},
     "output_type": "display_data"
    },
    {
     "data": {
      "image/png": "[encoded data removed]",
      "text/plain": [
       "<Figure size 1500x500 with 1 Axes>"
      ]
     },
     "metadata": {},
     "output_type": "display_data"
    }
   ],
   "source": [
    "# visualize the data and find the connection between the accelerometer  and ties \n",
    "left.plot(x='time_ms', y='Acc_Z', title='Left Acc Z vs Time', figsize=(15, 5), color='blue')\n",
    "right.plot(x='time_ms', y='Acc_Z', title='Right Acc Z vs Time', figsize=(15, 5), color='red')\n",
    "pelvis.plot(x='time_ms', y='Acc_Z', title='Pelvis Acc Z vs Time', figsize=(15, 5), color='green')"
   ]
  }
 ],
 "metadata": {
  "kernelspec": {
   "display_name": ".venv",
   "language": "python",
   "name": "python3"
  },
  "language_info": {
   "codemirror_mode": {
    "name": "ipython",
    "version": 3
   },
   "file_extension": ".py",
   "mimetype": "text/x-python",
   "name": "python",
   "nbconvert_exporter": "python",
   "pygments_lexer": "ipython3",
   "version": "3.10.11"
  }
 },
 "nbformat": 4,
 "nbformat_minor": 5
}
